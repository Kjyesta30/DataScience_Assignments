{
 "cells": [
  {
   "cell_type": "markdown",
   "metadata": {},
   "source": [
    "- Generate 100 data points satisfying y = 2.1x + 3.4 + random_noise\n",
    "- Use the builtin sklearn's LinearRegression() model to estimate the linear regression model from the data.\n",
    "- Use gradient descent to estimate the model from the data\n",
    "- How do your results in #2 and #3 compare?\n",
    "- Modify the gradient descent algorithm to reduce the learning rate to 0.25 times the previous learning rate you used before, and run it to get the same results as before (i.e. the same coefficients).\n",
    "- Did you have to run it the same steps, more, or, less? Why?"
   ]
  },
  {
   "cell_type": "code",
   "execution_count": 7,
   "metadata": {},
   "outputs": [],
   "source": [
    "from sklearn.metrics import mean_squared_error\n",
    "import numpy as np"
   ]
  },
  {
   "cell_type": "code",
   "execution_count": 8,
   "metadata": {},
   "outputs": [],
   "source": [
    "x = 2 * np.random.rand(100,1)\n",
    "y = 3.4 + 2.1*x + np.random.randn(100,1)"
   ]
  },
  {
   "cell_type": "code",
   "execution_count": 9,
   "metadata": {},
   "outputs": [],
   "source": [
    "X_b = np.c_[np.ones((100,1)), x]"
   ]
  },
  {
   "cell_type": "code",
   "execution_count": 10,
   "metadata": {},
   "outputs": [],
   "source": [
    "theta_best = np.linalg.inv(X_b.T.dot(X_b)).dot(X_b.T).dot(y)"
   ]
  },
  {
   "cell_type": "code",
   "execution_count": 11,
   "metadata": {},
   "outputs": [
    {
     "data": {
      "text/plain": [
       "LinearRegression()"
      ]
     },
     "execution_count": 11,
     "metadata": {},
     "output_type": "execute_result"
    }
   ],
   "source": [
    "from sklearn.linear_model import LinearRegression\n",
    "lin_reg = LinearRegression()\n",
    "lin_reg.fit(X_b, y)"
   ]
  },
  {
   "cell_type": "code",
   "execution_count": 50,
   "metadata": {},
   "outputs": [
    {
     "name": "stdout",
     "output_type": "stream",
     "text": [
      "[[-1.09807922]\n",
      " [-0.50472088]]\n",
      "[[1.65403331]\n",
      " [2.37150208]] 2.926348947047407\n",
      "[[2.23467998]\n",
      " [2.86747631]] 1.1736757180246742\n",
      "[[2.39845074]\n",
      " [2.91351774]] 1.0723249317736796\n",
      "[[2.47957512]\n",
      " [2.87689501]] 1.0353452593289367\n",
      "[[2.54188189]\n",
      " [2.82733886]] 1.0046851201175857\n",
      "[[2.59771231]\n",
      " [2.77795049]] 0.9777635703460826\n",
      "[[2.64959447]\n",
      " [2.73106151]] 0.954066986850127\n",
      "[[2.69817732]\n",
      " [2.6869634 ]] 0.9332069486346313\n",
      "[[2.74374174]\n",
      " [2.64556867]] 0.9148438374945423\n",
      "[[2.78648881]\n",
      " [2.60672654]] 0.8986787708371131\n",
      "[[2.82659532]\n",
      " [2.57028243]] 0.8844486450223998\n",
      "[[2.86422487]\n",
      " [2.53608884]] 0.8719218497389414\n",
      "[[2.89953054]\n",
      " [2.50400689]] 0.8608944981807922\n",
      "[[2.93265585]\n",
      " [2.47390621]] 0.8511871085703261\n",
      "[[2.96373546]\n",
      " [2.44566443]] 0.8426416829028418\n",
      "[[2.9928957 ]\n",
      " [2.41916677]] 0.8351191353623811\n",
      "[[3.02025511]\n",
      " [2.3943055 ]] 0.8284970285533769\n",
      "[[3.04592491]\n",
      " [2.37097957]] 0.8226675807028984\n",
      "[[3.07000943]\n",
      " [2.34909417]] 0.8175359113986157\n",
      "[[3.09260658]\n",
      " [2.32856034]] 0.8130184973100143\n",
      "[[3.11380821]\n",
      " [2.3092946 ]] 0.8090418127580964\n",
      "[[3.13370051]\n",
      " [2.29121864]] 0.8055411330074027\n",
      "[[3.15236433]\n",
      " [2.27425898]] 0.8024594808026779\n",
      "[[3.16987553]\n",
      " [2.2583467 ]] 0.799746699003941\n",
      "[[3.18630531]\n",
      " [2.24341709]] 0.7973586342261335\n",
      "[[3.20172045]\n",
      " [2.22940949]] 0.7952564181962036\n",
      "[[3.2161836 ]\n",
      " [2.21626695]] 0.7934058351309696\n",
      "[[3.22975357]\n",
      " [2.20393604]] 0.7917767648391566\n",
      "[[3.2424855 ]\n",
      " [2.19236664]] 0.7903426924835167\n",
      "[[3.25443115]\n",
      " [2.18151173]] 0.7890802770238856\n",
      "[[3.26563908]\n",
      " [2.17132718]] 0.7879689713171351\n",
      "[[3.27615485]\n",
      " [2.16177159]] 0.7869906876907473\n",
      "[[3.2860212 ]\n",
      " [2.15280611]] 0.7861295035468656\n",
      "[[3.29527825]\n",
      " [2.14439432]] 0.7853714022052213\n",
      "[[3.30396361]\n",
      " [2.136502  ]] 0.7847040447668779\n",
      "[[3.3121126 ]\n",
      " [2.12909709]] 0.7841165692856366\n",
      "[[3.31975833]\n",
      " [2.12214947]] 0.7835994139784048\n",
      "[[3.32693189]\n",
      " [2.11563092]] 0.7831441615970924\n",
      "[[3.33366244]\n",
      " [2.10951493]] 0.7827434024290195\n",
      "[[3.33997733]\n",
      " [2.10377664]] 0.7823906136960277\n",
      "[[3.34590224]\n",
      " [2.09839272]] 0.7820800533893875\n",
      "[[3.35146125]\n",
      " [2.0933413 ]] 0.7818066668125465\n",
      "[[3.35667695]\n",
      " [2.08860183]] 0.7815660043106145\n",
      "[[3.36157055]\n",
      " [2.08415506]] 0.7813541488475357\n",
      "[[3.36616194]\n",
      " [2.0799829 ]] 0.7811676522521958\n",
      "[[3.37046979]\n",
      " [2.0760684 ]] 0.7810034790958003\n",
      "[[3.37451159]\n",
      " [2.07239565]] 0.7808589572870669\n",
      "[[3.37830379]\n",
      " [2.06894971]] 0.7807317345811272\n",
      "[[3.3818618 ]\n",
      " [2.06571658]] 0.780619740294254\n",
      "[[3.38520007]\n",
      " [2.06268312]] 0.7805211516013035\n"
     ]
    }
   ],
   "source": [
    "lrate = 0.2\n",
    "iter = 50\n",
    "m = 100\n",
    "theta = np.random.randn(2,1)\n",
    "print(theta)\n",
    "for i in range(iter):\n",
    "    grads = (2/m)*X_b.T.dot(X_b.dot(theta)-y)\n",
    "    theta = theta - lrate*grads\n",
    "    mse = mean_squared_error(X_b.dot(theta),y)\n",
    "    print(theta, mse)"
   ]
  },
  {
   "cell_type": "code",
   "execution_count": 51,
   "metadata": {},
   "outputs": [
    {
     "name": "stdout",
     "output_type": "stream",
     "text": [
      "[[3.38520007]\n",
      " [2.06268312]]\n"
     ]
    }
   ],
   "source": [
    "print(theta)"
   ]
  },
  {
   "cell_type": "code",
   "execution_count": 52,
   "metadata": {},
   "outputs": [],
   "source": [
    "eta=0.1\n",
    "n_iterations=100\n",
    "theta_1=np.random.randn(2,1)\n",
    "for iteration in range(n_iterations):\n",
    "    gradients=2/m*X_b.T.dot(X_b.dot(theta_1)- y)\n",
    "    theta_1=theta_1 - eta*gradients"
   ]
  },
  {
   "cell_type": "code",
   "execution_count": 53,
   "metadata": {},
   "outputs": [
    {
     "name": "stdout",
     "output_type": "stream",
     "text": [
      "[[3.38285693]\n",
      " [2.06481231]]\n"
     ]
    }
   ],
   "source": [
    "print(theta_1)"
   ]
  },
  {
   "cell_type": "markdown",
   "metadata": {},
   "source": [
    "**We can see that both the coefficents are different for both the models.**"
   ]
  },
  {
   "cell_type": "markdown",
   "metadata": {},
   "source": [
    "**Reducing the learning rate**"
   ]
  },
  {
   "cell_type": "code",
   "execution_count": 56,
   "metadata": {},
   "outputs": [],
   "source": [
    "eta=0.001\n",
    "n_iterations=1000\n",
    "theta_2=np.random.randn(2,1)\n",
    "for iteration in range(n_iterations):\n",
    "    gradients=2/m*X_b.T.dot(X_b.dot(theta_2)- y)\n",
    "    theta_2=theta_2 - eta*gradients"
   ]
  },
  {
   "cell_type": "code",
   "execution_count": 57,
   "metadata": {},
   "outputs": [
    {
     "name": "stdout",
     "output_type": "stream",
     "text": [
      "[[3.20413854]\n",
      " [2.15672979]]\n"
     ]
    }
   ],
   "source": [
    "print(theta_2)"
   ]
  },
  {
   "cell_type": "code",
   "execution_count": 72,
   "metadata": {},
   "outputs": [],
   "source": [
    "eta=0.001\n",
    "n_iterations=4000\n",
    "theta_2=np.random.randn(2,1)\n",
    "for iteration in range(n_iterations):\n",
    "    gradients=2/m*X_b.T.dot(X_b.dot(theta_2)- y)\n",
    "    theta_2=theta_2 - eta*gradients"
   ]
  },
  {
   "cell_type": "code",
   "execution_count": 73,
   "metadata": {},
   "outputs": [
    {
     "name": "stdout",
     "output_type": "stream",
     "text": [
      "[[3.27504923]\n",
      " [2.16277574]]\n"
     ]
    }
   ],
   "source": [
    "print(theta_2)"
   ]
  },
  {
   "cell_type": "markdown",
   "metadata": {},
   "source": [
    "**We can see that after increasing the number of iterations, we can see that the theta value can be obtained.**"
   ]
  }
 ],
 "metadata": {
  "kernelspec": {
   "display_name": "Python 3",
   "language": "python",
   "name": "python3"
  },
  "language_info": {
   "codemirror_mode": {
    "name": "ipython",
    "version": 3
   },
   "file_extension": ".py",
   "mimetype": "text/x-python",
   "name": "python",
   "nbconvert_exporter": "python",
   "pygments_lexer": "ipython3",
   "version": "3.8.3"
  }
 },
 "nbformat": 4,
 "nbformat_minor": 4
}
