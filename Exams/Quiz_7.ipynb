{
 "cells": [
  {
   "cell_type": "markdown",
   "metadata": {},
   "source": [
    "Build two keras deep learning models on the fashion MNIST data with the following requirements (run for epochs = 20, and keep the validation set the exact same way it was in the code we did in class):\n",
    "\n",
    "- There should be two (dense) hidden layers of size 50 and 20 with the relu activation function. Keep the output layer the way it was (with softmax and ten nodes).\n",
    "- In the second model do the same, but switch the order of the layers. That is, the first hidden layer should have 20 nodes and the second one should have 50 nodes.\n",
    "- As you know when you run “model.fit” you should see the results for the 20 epochs. Based on the accuracy numbers that are printed at the end of the 20 epochs, which of the two networks appear to be better?\n",
    "- ONLY KEEP THE CODE THIS IS NEEDED – there is no need to print data, or an image, or model.layers or any of the other things that was there in the class code. Make sure the code you have is exactly what was needed to answer the parts above."
   ]
  },
  {
   "cell_type": "code",
   "execution_count": 2,
   "metadata": {},
   "outputs": [],
   "source": [
    "import tensorflow as tf\n",
    "from tensorflow import keras\n",
    "import matplotlib\n",
    "import matplotlib.pyplot as plt"
   ]
  },
  {
   "cell_type": "code",
   "execution_count": 3,
   "metadata": {},
   "outputs": [],
   "source": [
    "fashion_mnist = keras.datasets.fashion_mnist\n",
    "\n",
    "(X_train_full, y_train_full), (X_test, y_test) = fashion_mnist.load_data()"
   ]
  },
  {
   "cell_type": "code",
   "execution_count": 4,
   "metadata": {},
   "outputs": [],
   "source": [
    "#create validation data as well, plus scaling down x values from 1-255 to 0-1 scale\n",
    "X_valid, X_train = X_train_full[:5000] / 255.0, X_train_full[5000:] / 255.0\n",
    "y_valid, y_train = y_train_full[:5000], y_train_full[5000:]"
   ]
  },
  {
   "cell_type": "code",
   "execution_count": 5,
   "metadata": {},
   "outputs": [
    {
     "data": {
      "text/plain": [
       "'Coat'"
      ]
     },
     "execution_count": 5,
     "metadata": {},
     "output_type": "execute_result"
    }
   ],
   "source": [
    "class_names = [\"T-shirt/top\", \"Trouser\", \"Pullover\", \"Dress\", \"Coat\",\n",
    "               \"Sandal\", \"Shirt\", \"Sneaker\", \"Bag\", \"Ankle boot\"]\n",
    "class_names[y_train[0]]"
   ]
  },
  {
   "cell_type": "code",
   "execution_count": 6,
   "metadata": {},
   "outputs": [],
   "source": [
    "model = keras.models.Sequential()\n",
    "model.add(keras.layers.Flatten(input_shape=[28, 28]))\n",
    "model.add(keras.layers.Dense(50, activation=\"relu\"))\n",
    "model.add(keras.layers.Dense(20, activation=\"relu\"))\n",
    "model.add(keras.layers.Dense(10, activation=\"softmax\"))"
   ]
  },
  {
   "cell_type": "code",
   "execution_count": 7,
   "metadata": {},
   "outputs": [],
   "source": [
    "model.compile(loss=\"sparse_categorical_crossentropy\",\n",
    "              optimizer=\"sgd\",\n",
    "              metrics=[\"accuracy\"])"
   ]
  },
  {
   "cell_type": "code",
   "execution_count": 8,
   "metadata": {},
   "outputs": [
    {
     "name": "stdout",
     "output_type": "stream",
     "text": [
      "Epoch 1/20\n",
      "1719/1719 [==============================] - 2s 875us/step - loss: 0.8784 - accuracy: 0.7041 - val_loss: 0.5631 - val_accuracy: 0.8148\n",
      "Epoch 2/20\n",
      "1719/1719 [==============================] - 1s 684us/step - loss: 0.5294 - accuracy: 0.8176 - val_loss: 0.4916 - val_accuracy: 0.8328\n",
      "Epoch 3/20\n",
      "1719/1719 [==============================] - 1s 698us/step - loss: 0.4753 - accuracy: 0.8340 - val_loss: 0.4391 - val_accuracy: 0.8500\n",
      "Epoch 4/20\n",
      "1719/1719 [==============================] - 1s 684us/step - loss: 0.4464 - accuracy: 0.8436 - val_loss: 0.4317 - val_accuracy: 0.8540\n",
      "Epoch 5/20\n",
      "1719/1719 [==============================] - 1s 679us/step - loss: 0.4268 - accuracy: 0.8492 - val_loss: 0.4494 - val_accuracy: 0.8408\n",
      "Epoch 6/20\n",
      "1719/1719 [==============================] - 1s 678us/step - loss: 0.4103 - accuracy: 0.8566 - val_loss: 0.3970 - val_accuracy: 0.8648\n",
      "Epoch 7/20\n",
      "1719/1719 [==============================] - 1s 661us/step - loss: 0.3970 - accuracy: 0.8607 - val_loss: 0.3986 - val_accuracy: 0.8596\n",
      "Epoch 8/20\n",
      "1719/1719 [==============================] - 1s 737us/step - loss: 0.3871 - accuracy: 0.8634 - val_loss: 0.3915 - val_accuracy: 0.8644\n",
      "Epoch 9/20\n",
      "1719/1719 [==============================] - 1s 668us/step - loss: 0.3768 - accuracy: 0.8670 - val_loss: 0.3916 - val_accuracy: 0.8640\n",
      "Epoch 10/20\n",
      "1719/1719 [==============================] - 1s 682us/step - loss: 0.3690 - accuracy: 0.8700 - val_loss: 0.3740 - val_accuracy: 0.8702\n",
      "Epoch 11/20\n",
      "1719/1719 [==============================] - 1s 723us/step - loss: 0.3616 - accuracy: 0.8717 - val_loss: 0.3898 - val_accuracy: 0.8654\n",
      "Epoch 12/20\n",
      "1719/1719 [==============================] - 1s 788us/step - loss: 0.3553 - accuracy: 0.8737 - val_loss: 0.3680 - val_accuracy: 0.8728\n",
      "Epoch 13/20\n",
      "1719/1719 [==============================] - 1s 708us/step - loss: 0.3491 - accuracy: 0.8759 - val_loss: 0.3833 - val_accuracy: 0.8666\n",
      "Epoch 14/20\n",
      "1719/1719 [==============================] - 1s 697us/step - loss: 0.3434 - accuracy: 0.8774 - val_loss: 0.3613 - val_accuracy: 0.8754\n",
      "Epoch 15/20\n",
      "1719/1719 [==============================] - 1s 732us/step - loss: 0.3373 - accuracy: 0.8804 - val_loss: 0.3498 - val_accuracy: 0.8760\n",
      "Epoch 16/20\n",
      "1719/1719 [==============================] - 1s 780us/step - loss: 0.3321 - accuracy: 0.8803 - val_loss: 0.3547 - val_accuracy: 0.8698\n",
      "Epoch 17/20\n",
      "1719/1719 [==============================] - 1s 749us/step - loss: 0.3277 - accuracy: 0.8817 - val_loss: 0.3487 - val_accuracy: 0.8736\n",
      "Epoch 18/20\n",
      "1719/1719 [==============================] - 1s 718us/step - loss: 0.3235 - accuracy: 0.8834 - val_loss: 0.3452 - val_accuracy: 0.8754\n",
      "Epoch 19/20\n",
      "1719/1719 [==============================] - 1s 696us/step - loss: 0.3194 - accuracy: 0.8845 - val_loss: 0.3556 - val_accuracy: 0.8736\n",
      "Epoch 20/20\n",
      "1719/1719 [==============================] - 1s 728us/step - loss: 0.3154 - accuracy: 0.8853 - val_loss: 0.3664 - val_accuracy: 0.8704\n"
     ]
    }
   ],
   "source": [
    "history = model.fit(X_train, y_train, epochs=20,validation_data=(X_valid, y_valid))"
   ]
  },
  {
   "cell_type": "code",
   "execution_count": 9,
   "metadata": {},
   "outputs": [
    {
     "name": "stdout",
     "output_type": "stream",
     "text": [
      "313/313 [==============================] - 0s 894us/step - loss: 91.9494 - accuracy: 0.7955\n"
     ]
    },
    {
     "data": {
      "text/plain": [
       "[91.94937896728516, 0.7954999804496765]"
      ]
     },
     "execution_count": 9,
     "metadata": {},
     "output_type": "execute_result"
    }
   ],
   "source": [
    "model.evaluate(X_test, y_test)"
   ]
  },
  {
   "cell_type": "markdown",
   "metadata": {},
   "source": [
    "The accuracy is 79%"
   ]
  },
  {
   "cell_type": "code",
   "execution_count": 11,
   "metadata": {},
   "outputs": [],
   "source": [
    "model2 = keras.models.Sequential()\n",
    "model2.add(keras.layers.Flatten(input_shape=[28, 28]))\n",
    "model2.add(keras.layers.Dense(20, activation=\"relu\"))\n",
    "model2.add(keras.layers.Dense(50, activation=\"relu\"))\n",
    "model2.add(keras.layers.Dense(10, activation=\"softmax\"))"
   ]
  },
  {
   "cell_type": "code",
   "execution_count": 12,
   "metadata": {},
   "outputs": [],
   "source": [
    "model2.compile(loss=\"sparse_categorical_crossentropy\",\n",
    "              optimizer=\"sgd\",\n",
    "              metrics=[\"accuracy\"])"
   ]
  },
  {
   "cell_type": "code",
   "execution_count": 13,
   "metadata": {},
   "outputs": [
    {
     "name": "stdout",
     "output_type": "stream",
     "text": [
      "Epoch 1/20\n",
      "1719/1719 [==============================] - 1s 660us/step - loss: 0.9057 - accuracy: 0.6895 - val_loss: 0.5963 - val_accuracy: 0.7858\n",
      "Epoch 2/20\n",
      "1719/1719 [==============================] - 1s 600us/step - loss: 0.5625 - accuracy: 0.8023 - val_loss: 0.5083 - val_accuracy: 0.8204\n",
      "Epoch 3/20\n",
      "1719/1719 [==============================] - 1s 636us/step - loss: 0.5019 - accuracy: 0.8233 - val_loss: 0.4634 - val_accuracy: 0.8390\n",
      "Epoch 4/20\n",
      "1719/1719 [==============================] - 1s 634us/step - loss: 0.4712 - accuracy: 0.8338 - val_loss: 0.4526 - val_accuracy: 0.8456\n",
      "Epoch 5/20\n",
      "1719/1719 [==============================] - 1s 614us/step - loss: 0.4502 - accuracy: 0.8416 - val_loss: 0.4370 - val_accuracy: 0.8510\n",
      "Epoch 6/20\n",
      "1719/1719 [==============================] - 1s 640us/step - loss: 0.4329 - accuracy: 0.8480 - val_loss: 0.4313 - val_accuracy: 0.8484\n",
      "Epoch 7/20\n",
      "1719/1719 [==============================] - 1s 625us/step - loss: 0.4183 - accuracy: 0.8515 - val_loss: 0.4129 - val_accuracy: 0.8574\n",
      "Epoch 8/20\n",
      "1719/1719 [==============================] - 1s 625us/step - loss: 0.4077 - accuracy: 0.8549 - val_loss: 0.4154 - val_accuracy: 0.8554\n",
      "Epoch 9/20\n",
      "1719/1719 [==============================] - 1s 624us/step - loss: 0.3989 - accuracy: 0.8579 - val_loss: 0.3952 - val_accuracy: 0.8654\n",
      "Epoch 10/20\n",
      "1719/1719 [==============================] - 1s 622us/step - loss: 0.3906 - accuracy: 0.8608 - val_loss: 0.4002 - val_accuracy: 0.8546\n",
      "Epoch 11/20\n",
      "1719/1719 [==============================] - 1s 647us/step - loss: 0.3839 - accuracy: 0.8639 - val_loss: 0.3819 - val_accuracy: 0.8616\n",
      "Epoch 12/20\n",
      "1719/1719 [==============================] - 1s 650us/step - loss: 0.3772 - accuracy: 0.8655 - val_loss: 0.3839 - val_accuracy: 0.8668\n",
      "Epoch 13/20\n",
      "1719/1719 [==============================] - 1s 632us/step - loss: 0.3711 - accuracy: 0.8675 - val_loss: 0.3900 - val_accuracy: 0.8638\n",
      "Epoch 14/20\n",
      "1719/1719 [==============================] - 1s 639us/step - loss: 0.3665 - accuracy: 0.8678 - val_loss: 0.3786 - val_accuracy: 0.8650\n",
      "Epoch 15/20\n",
      "1719/1719 [==============================] - 1s 645us/step - loss: 0.3619 - accuracy: 0.8715 - val_loss: 0.3685 - val_accuracy: 0.8700\n",
      "Epoch 16/20\n",
      "1719/1719 [==============================] - 1s 640us/step - loss: 0.3579 - accuracy: 0.8714 - val_loss: 0.3754 - val_accuracy: 0.8644\n",
      "Epoch 17/20\n",
      "1719/1719 [==============================] - 1s 677us/step - loss: 0.3536 - accuracy: 0.8734 - val_loss: 0.3768 - val_accuracy: 0.8666\n",
      "Epoch 18/20\n",
      "1719/1719 [==============================] - 1s 674us/step - loss: 0.3505 - accuracy: 0.8749 - val_loss: 0.3614 - val_accuracy: 0.8708\n",
      "Epoch 19/20\n",
      "1719/1719 [==============================] - 1s 664us/step - loss: 0.3471 - accuracy: 0.8761 - val_loss: 0.3656 - val_accuracy: 0.8692\n",
      "Epoch 20/20\n",
      "1719/1719 [==============================] - 1s 613us/step - loss: 0.3431 - accuracy: 0.8769 - val_loss: 0.3755 - val_accuracy: 0.8646\n"
     ]
    }
   ],
   "source": [
    "history = model2.fit(X_train, y_train, epochs=20,validation_data=(X_valid, y_valid))"
   ]
  },
  {
   "cell_type": "markdown",
   "metadata": {},
   "source": [
    "The accuracy for the second model is 86%"
   ]
  },
  {
   "cell_type": "markdown",
   "metadata": {},
   "source": [
    "We can say that the second model is better than the first model as the accuracy for the first model is 79 which less than 89%."
   ]
  }
 ],
 "metadata": {
  "kernelspec": {
   "display_name": "Python 3",
   "language": "python",
   "name": "python3"
  },
  "language_info": {
   "codemirror_mode": {
    "name": "ipython",
    "version": 3
   },
   "file_extension": ".py",
   "mimetype": "text/x-python",
   "name": "python",
   "nbconvert_exporter": "python",
   "pygments_lexer": "ipython3",
   "version": "3.8.3"
  }
 },
 "nbformat": 4,
 "nbformat_minor": 4
}
