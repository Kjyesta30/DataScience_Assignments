{
 "cells": [
  {
   "cell_type": "markdown",
   "metadata": {
    "id": "ZmQ0DWYd6mtp"
   },
   "source": [
    "# Assignment 2 - Dataset description"
   ]
  },
  {
   "cell_type": "markdown",
   "metadata": {
    "id": "nivInJEE6mtq"
   },
   "source": [
    "The questions below relate to the data files associated with the contest with the title \"Beijing Multi-Site Air Quality Data\" published at the following website. https://archive.ics.uci.edu/ml/datasets/Beijing+Multi-Site+Air-Quality+Data\n",
    "\n",
    "Problem description:\n",
    "\n",
    "Your goal is to predict the PM 2.5 levels in the air to determine the Air quality of Beijing. There are multiple datasets concerning different districts in Beijing. The data was recorded hourly for each district.Throughout, missing values have been filled as NaNs.\n",
    "\n",
    "Dataset Description: This data set includes hourly air pollutants data from 12 nationally-controlled air-quality monitoring sites. The air-quality data are from the Beijing Municipal Environmental Monitoring Center. The meteorological data in each air-quality site are matched with the nearest weather station from the China Meteorological Administration. The time period is from March 1st, 2013 to February 28th, 2017. Missing data are denoted as NA.\n",
    "\n",
    "Assignment:\n",
    "\n",
    "The goal is achieved through three subsequent Assignments 1, and 2 all using the same dataset\n",
    "\n",
    "The features in this dataset are provided as following\n",
    "\n",
    "No: row number year: year of data in this row month: month of data in this row day: day of data in this row hour: hour of data in this row PM2.5: PM2.5 concentration (ug/m^3) PM10: PM10 concentration (ug/m^3) SO2: SO2 concentration (ug/m^3) NO2: NO2 concentration (ug/m^3) CO: CO concentration (ug/m^3) O3: O3 concentration (ug/m^3) TEMP: temperature (degree Celsius) PRES: pressure (hPa) DEWP: dew point temperature (degree Celsius) RAIN: precipitation (mm) wd: wind direction WSPM: wind speed (m/s) station: name of the air-quality monitoring site\n",
    "\n",
    "(Where appropriate, units are provided as a _unit suffix on the feature name.)\n",
    "\n"
   ]
  },
  {
   "cell_type": "markdown",
   "metadata": {
    "id": "nM2wycZq6mtr"
   },
   "source": [
    "# Assignment 2 Questions"
   ]
  },
  {
   "cell_type": "markdown",
   "metadata": {
    "id": "dB_rfyAA6mtr"
   },
   "source": [
    "Use the merged data frame from Assignment 1 for this assignment. This Assignment focuses on data preprocessing and model building. Continue with the datasets loaded in Assignment 1 (or reload with same steps and create merged data frame). You will be predicting PM2.5 levels using a machine learning model in this assignment.  \n",
    "\n",
    "1. Take a subset of the dataset(10%-15% of the dataset(because hyper-parameter search will take more time to compute)) for modelling. Please do the following using the same subset.\n",
    "\n",
    "•\tImport the required libraries\n",
    "\n",
    ".   Remove variables if you find multicollinearity between independent variables.\n",
    "\n",
    ".   Reindex the columns such that target variable(PM2.5) should be at the last in the column index.\n",
    "\n",
    "•\tMake an 80-20 stratified split based on the target data\n",
    "\n",
    "•\tPreprocess the data (Encode the categorical features and Standardize the numerical features) of merged dataset\n",
    "\n",
    "\n",
    "•\tBuild a stochastic gradient descent regressor, train the model\n",
    "\n",
    "•\tEvaluate your model based on applicable metrics. Show the metric(s) you chose and why you chose this(these) metrics.\n",
    "\n",
    "•\tList the hyper-parameters that can be tuned in SGD. Show the code along with comments on the parameter value chosen (use class presentation, discussion notes, some online reading) and why this value was chosen. Show the improvement you achieved in model accuracy. \n",
    "\n",
    "\n",
    "\n",
    "- Optional(no extra credit): Try predicting the target variable with SVM regressor or any other ML model and show the improvement.\n",
    "\n",
    "\n",
    "\n",
    "\n",
    "# Submit the following for this assignment:\n",
    "\n",
    ".ipynb and .html formats of Jupyter notebook code with outputs. Please follow the coding standards.(can loose marks on this, if it is not done properly)"
   ]
  },
  {
   "cell_type": "markdown",
   "metadata": {
    "id": "1CcLXwTlpqrN"
   },
   "source": [
    "**Importing the required libraries**"
   ]
  },
  {
   "cell_type": "code",
   "execution_count": 1,
   "metadata": {
    "id": "eAG03RFm_HsF"
   },
   "outputs": [],
   "source": [
    "import pandas as pd\n",
    "import numpy as np\n",
    "import matplotlib.pyplot as plt\n",
    "import seaborn as sns\n",
    "from sklearn.model_selection import train_test_split\n",
    "from sklearn.preprocessing import StandardScaler\n",
    "from sklearn.metrics import mean_squared_error,mean_absolute_error\n",
    "from sklearn.metrics import r2_score"
   ]
  },
  {
   "cell_type": "markdown",
   "metadata": {
    "id": "VdOUisvppxAv"
   },
   "source": [
    "**Preprocessing the data**"
   ]
  },
  {
   "cell_type": "code",
   "execution_count": 2,
   "metadata": {
    "id": "neoEXuLG-6oR"
   },
   "outputs": [],
   "source": [
    "df1 = pd.read_csv(\"PRSA_Data_Aotizhongxin_20130301-20170228.csv\")\n",
    "df2 = pd.read_csv(\"PRSA_Data_Changping_20130301-20170228.csv\")\n",
    "df3 = pd.read_csv(\"PRSA_Data_Dingling_20130301-20170228.csv\")\n",
    "df4 = pd.read_csv(\"PRSA_Data_Dongsi_20130301-20170228.csv\")\n",
    "df5 = pd.read_csv(\"PRSA_Data_Guanyuan_20130301-20170228.csv\")\n",
    "df6 = pd.read_csv(\"PRSA_Data_Gucheng_20130301-20170228.csv\")\n",
    "df7 = pd.read_csv(\"PRSA_Data_Huairou_20130301-20170228.csv\")\n",
    "df8 = pd.read_csv(\"PRSA_Data_Nongzhanguan_20130301-20170228.csv\")\n",
    "df9 = pd.read_csv(\"PRSA_Data_Shunyi_20130301-20170228.csv\")\n",
    "df10 = pd.read_csv(\"PRSA_Data_Tiantan_20130301-20170228.csv\")\n",
    "df11 = pd.read_csv(\"PRSA_Data_Wanliu_20130301-20170228.csv\")\n",
    "df12 = pd.read_csv(\"PRSA_Data_Wanshouxigong_20130301-20170228.csv\")"
   ]
  },
  {
   "cell_type": "code",
   "execution_count": 3,
   "metadata": {
    "id": "nI5VK9QR_LDk"
   },
   "outputs": [],
   "source": [
    "frames = [df1, df2, df3,df4, df5, df6,df7, df8, df9,df10,df11, df12]\n",
    "data = pd.concat(frames)"
   ]
  },
  {
   "cell_type": "code",
   "execution_count": 4,
   "metadata": {
    "colab": {
     "base_uri": "https://localhost:8080/",
     "height": 340
    },
    "id": "KRlrvp0saj31",
    "outputId": "93c99c11-d769-4d19-91f1-722c66635f5f"
   },
   "outputs": [
    {
     "data": {
      "text/plain": [
       "No           int64\n",
       "year         int64\n",
       "month        int64\n",
       "day          int64\n",
       "hour         int64\n",
       "PM2.5      float64\n",
       "PM10       float64\n",
       "SO2        float64\n",
       "NO2        float64\n",
       "CO         float64\n",
       "O3         float64\n",
       "TEMP       float64\n",
       "PRES       float64\n",
       "DEWP       float64\n",
       "RAIN       float64\n",
       "wd          object\n",
       "WSPM       float64\n",
       "station     object\n",
       "dtype: object"
      ]
     },
     "execution_count": 4,
     "metadata": {},
     "output_type": "execute_result"
    }
   ],
   "source": [
    "data.dtypes"
   ]
  },
  {
   "cell_type": "markdown",
   "metadata": {
    "id": "Z7f7kiBbp5Jj"
   },
   "source": [
    "**Taking 10% subset of the dataset**"
   ]
  },
  {
   "cell_type": "code",
   "execution_count": 5,
   "metadata": {
    "id": "2bKWeZbNDoPd"
   },
   "outputs": [],
   "source": [
    "data = data.sample(frac =.10)"
   ]
  },
  {
   "cell_type": "code",
   "execution_count": 6,
   "metadata": {
    "colab": {
     "base_uri": "https://localhost:8080/",
     "height": 204
    },
    "id": "SjvsTzWoarhc",
    "outputId": "d11ff611-0fe1-4533-a2f0-3745789c0367"
   },
   "outputs": [
    {
     "data": {
      "text/html": [
       "<div>\n",
       "<style scoped>\n",
       "    .dataframe tbody tr th:only-of-type {\n",
       "        vertical-align: middle;\n",
       "    }\n",
       "\n",
       "    .dataframe tbody tr th {\n",
       "        vertical-align: top;\n",
       "    }\n",
       "\n",
       "    .dataframe thead th {\n",
       "        text-align: right;\n",
       "    }\n",
       "</style>\n",
       "<table border=\"1\" class=\"dataframe\">\n",
       "  <thead>\n",
       "    <tr style=\"text-align: right;\">\n",
       "      <th></th>\n",
       "      <th>No</th>\n",
       "      <th>year</th>\n",
       "      <th>month</th>\n",
       "      <th>day</th>\n",
       "      <th>hour</th>\n",
       "      <th>PM2.5</th>\n",
       "      <th>PM10</th>\n",
       "      <th>SO2</th>\n",
       "      <th>NO2</th>\n",
       "      <th>CO</th>\n",
       "      <th>O3</th>\n",
       "      <th>TEMP</th>\n",
       "      <th>PRES</th>\n",
       "      <th>DEWP</th>\n",
       "      <th>RAIN</th>\n",
       "      <th>wd</th>\n",
       "      <th>WSPM</th>\n",
       "      <th>station</th>\n",
       "    </tr>\n",
       "  </thead>\n",
       "  <tbody>\n",
       "    <tr>\n",
       "      <th>28832</th>\n",
       "      <td>28833</td>\n",
       "      <td>2016</td>\n",
       "      <td>6</td>\n",
       "      <td>14</td>\n",
       "      <td>8</td>\n",
       "      <td>48.0</td>\n",
       "      <td>48.0</td>\n",
       "      <td>2.0</td>\n",
       "      <td>35.0</td>\n",
       "      <td>600.0</td>\n",
       "      <td>66.0</td>\n",
       "      <td>19.9</td>\n",
       "      <td>994.3</td>\n",
       "      <td>17.1</td>\n",
       "      <td>0.0</td>\n",
       "      <td>NE</td>\n",
       "      <td>1.5</td>\n",
       "      <td>Nongzhanguan</td>\n",
       "    </tr>\n",
       "    <tr>\n",
       "      <th>13006</th>\n",
       "      <td>13007</td>\n",
       "      <td>2014</td>\n",
       "      <td>8</td>\n",
       "      <td>24</td>\n",
       "      <td>22</td>\n",
       "      <td>41.0</td>\n",
       "      <td>60.0</td>\n",
       "      <td>2.0</td>\n",
       "      <td>33.0</td>\n",
       "      <td>900.0</td>\n",
       "      <td>114.0</td>\n",
       "      <td>24.3</td>\n",
       "      <td>1005.9</td>\n",
       "      <td>17.5</td>\n",
       "      <td>0.0</td>\n",
       "      <td>SSE</td>\n",
       "      <td>0.8</td>\n",
       "      <td>Nongzhanguan</td>\n",
       "    </tr>\n",
       "    <tr>\n",
       "      <th>15546</th>\n",
       "      <td>15547</td>\n",
       "      <td>2014</td>\n",
       "      <td>12</td>\n",
       "      <td>8</td>\n",
       "      <td>18</td>\n",
       "      <td>87.0</td>\n",
       "      <td>112.0</td>\n",
       "      <td>31.0</td>\n",
       "      <td>74.0</td>\n",
       "      <td>1600.0</td>\n",
       "      <td>22.0</td>\n",
       "      <td>1.0</td>\n",
       "      <td>1032.0</td>\n",
       "      <td>-13.1</td>\n",
       "      <td>0.0</td>\n",
       "      <td>S</td>\n",
       "      <td>1.0</td>\n",
       "      <td>Tiantan</td>\n",
       "    </tr>\n",
       "    <tr>\n",
       "      <th>26338</th>\n",
       "      <td>26339</td>\n",
       "      <td>2016</td>\n",
       "      <td>3</td>\n",
       "      <td>2</td>\n",
       "      <td>10</td>\n",
       "      <td>201.0</td>\n",
       "      <td>212.0</td>\n",
       "      <td>46.0</td>\n",
       "      <td>96.0</td>\n",
       "      <td>2600.0</td>\n",
       "      <td>22.0</td>\n",
       "      <td>8.2</td>\n",
       "      <td>1010.2</td>\n",
       "      <td>-8.4</td>\n",
       "      <td>0.0</td>\n",
       "      <td>ENE</td>\n",
       "      <td>1.5</td>\n",
       "      <td>Gucheng</td>\n",
       "    </tr>\n",
       "    <tr>\n",
       "      <th>27823</th>\n",
       "      <td>27824</td>\n",
       "      <td>2016</td>\n",
       "      <td>5</td>\n",
       "      <td>3</td>\n",
       "      <td>7</td>\n",
       "      <td>14.0</td>\n",
       "      <td>14.0</td>\n",
       "      <td>3.0</td>\n",
       "      <td>52.0</td>\n",
       "      <td>600.0</td>\n",
       "      <td>17.0</td>\n",
       "      <td>15.8</td>\n",
       "      <td>998.0</td>\n",
       "      <td>-0.5</td>\n",
       "      <td>0.0</td>\n",
       "      <td>NW</td>\n",
       "      <td>3.0</td>\n",
       "      <td>Guanyuan</td>\n",
       "    </tr>\n",
       "  </tbody>\n",
       "</table>\n",
       "</div>"
      ],
      "text/plain": [
       "          No  year  month  day  hour  PM2.5   PM10   SO2   NO2      CO     O3  \\\n",
       "28832  28833  2016      6   14     8   48.0   48.0   2.0  35.0   600.0   66.0   \n",
       "13006  13007  2014      8   24    22   41.0   60.0   2.0  33.0   900.0  114.0   \n",
       "15546  15547  2014     12    8    18   87.0  112.0  31.0  74.0  1600.0   22.0   \n",
       "26338  26339  2016      3    2    10  201.0  212.0  46.0  96.0  2600.0   22.0   \n",
       "27823  27824  2016      5    3     7   14.0   14.0   3.0  52.0   600.0   17.0   \n",
       "\n",
       "       TEMP    PRES  DEWP  RAIN   wd  WSPM       station  \n",
       "28832  19.9   994.3  17.1   0.0   NE   1.5  Nongzhanguan  \n",
       "13006  24.3  1005.9  17.5   0.0  SSE   0.8  Nongzhanguan  \n",
       "15546   1.0  1032.0 -13.1   0.0    S   1.0       Tiantan  \n",
       "26338   8.2  1010.2  -8.4   0.0  ENE   1.5       Gucheng  \n",
       "27823  15.8   998.0  -0.5   0.0   NW   3.0      Guanyuan  "
      ]
     },
     "execution_count": 6,
     "metadata": {},
     "output_type": "execute_result"
    }
   ],
   "source": [
    "data.head()"
   ]
  },
  {
   "cell_type": "markdown",
   "metadata": {
    "id": "1WXA8LibqLNH"
   },
   "source": [
    "**Dropping the null values from the dataset**"
   ]
  },
  {
   "cell_type": "code",
   "execution_count": 7,
   "metadata": {
    "colab": {
     "base_uri": "https://localhost:8080/",
     "height": 340
    },
    "id": "bG7BKfoJFjhB",
    "outputId": "920d6e82-6d81-4240-f6c1-c9647c433efa"
   },
   "outputs": [
    {
     "data": {
      "text/plain": [
       "No            0\n",
       "year          0\n",
       "month         0\n",
       "day           0\n",
       "hour          0\n",
       "PM2.5       883\n",
       "PM10        630\n",
       "SO2         905\n",
       "NO2        1176\n",
       "CO         2044\n",
       "O3         1271\n",
       "TEMP         39\n",
       "PRES         39\n",
       "DEWP         39\n",
       "RAIN         40\n",
       "wd          200\n",
       "WSPM         34\n",
       "station       0\n",
       "dtype: int64"
      ]
     },
     "execution_count": 7,
     "metadata": {},
     "output_type": "execute_result"
    }
   ],
   "source": [
    "data.isnull().sum()"
   ]
  },
  {
   "cell_type": "code",
   "execution_count": 8,
   "metadata": {
    "id": "K9yEXMDwG95R"
   },
   "outputs": [],
   "source": [
    "data.dropna(subset = ['PM2.5'], inplace = True)\n",
    "data.isnull().sum()/data.count()\n",
    "data = data.dropna()"
   ]
  },
  {
   "cell_type": "markdown",
   "metadata": {
    "id": "lIa1-CPiqdH1"
   },
   "source": [
    "**Renaming the column names**"
   ]
  },
  {
   "cell_type": "code",
   "execution_count": 9,
   "metadata": {
    "id": "ZSpKLTMmAnTt"
   },
   "outputs": [],
   "source": [
    "data=data.rename(columns ={'wd':'wind_direction','DEWP':'dew_point_temp','TEMP':'temp','RAIN':'rain','WSPM':'wind_speed','PRES':'pressure'})"
   ]
  },
  {
   "cell_type": "markdown",
   "metadata": {
    "id": "76ceUkwJqgqC"
   },
   "source": [
    "**Removing the variables which are multicollinear**"
   ]
  },
  {
   "cell_type": "code",
   "execution_count": 10,
   "metadata": {
    "colab": {
     "base_uri": "https://localhost:8080/",
     "height": 1000
    },
    "id": "krINpJAl_jfA",
    "outputId": "0fb37b28-ecf9-45be-9272-49213eaa38b2"
   },
   "outputs": [
    {
     "data": {
      "image/png": "[encoded data removed]",
      "text/plain": [
       "<Figure size 1080x1440 with 2 Axes>"
      ]
     },
     "metadata": {
      "needs_background": "light"
     },
     "output_type": "display_data"
    }
   ],
   "source": [
    "plt.figure(figsize=(15, 20))\n",
    "plt.title('Correlation Matrix')\n",
    "sns.heatmap(data.iloc[:,data.columns != 'PM2.5'].corr(), annot=True, linewidth = 0.75)\n",
    "plt.show()"
   ]
  },
  {
   "cell_type": "code",
   "execution_count": 11,
   "metadata": {
    "id": "1Uwyu0uuA6fk"
   },
   "outputs": [],
   "source": [
    "data=data.drop(['No','pressure','temp'],axis=1)"
   ]
  },
  {
   "cell_type": "markdown",
   "metadata": {
    "id": "7Xo-yFHkB1Nl"
   },
   "source": [
    "Pressure and temp are highly correlated with dew_point_temp variable, removing both variables.Also removing NO variable as it adding no value to the dataset."
   ]
  },
  {
   "cell_type": "markdown",
   "metadata": {
    "id": "M0JLasNlrg3Q"
   },
   "source": [
    "**Removing Outliers**"
   ]
  },
  {
   "cell_type": "code",
   "execution_count": 12,
   "metadata": {
    "colab": {
     "base_uri": "https://localhost:8080/",
     "height": 51
    },
    "id": "1VHEAhPtFDNn",
    "outputId": "198b4c23-58a8-4c2d-959b-b03e89ea32cc"
   },
   "outputs": [
    {
     "name": "stdout",
     "output_type": "stream",
     "text": [
      "90.0\n"
     ]
    },
    {
     "data": {
      "text/plain": [
       "(36441, 15)"
      ]
     },
     "execution_count": 12,
     "metadata": {},
     "output_type": "execute_result"
    }
   ],
   "source": [
    "Q1=data['PM2.5'].quantile(0.25)\n",
    "Q3=data['PM2.5'].quantile(0.75)\n",
    "IQR=Q3-Q1\n",
    "print(IQR)\n",
    "data=data[~((data['PM2.5']<(Q1-1.5*IQR))|(data['PM2.5']>(Q3+1.5*IQR)))]\n",
    "data.shape"
   ]
  },
  {
   "cell_type": "markdown",
   "metadata": {
    "id": "N1xJDhOdsTdw"
   },
   "source": [
    "**Reindexing Columns**"
   ]
  },
  {
   "cell_type": "code",
   "execution_count": 13,
   "metadata": {
    "colab": {
     "base_uri": "https://localhost:8080/",
     "height": 85
    },
    "id": "Kl0wxFkzbldo",
    "outputId": "3c93f3f8-6679-4062-e7f7-87d79fe978c8"
   },
   "outputs": [
    {
     "data": {
      "text/plain": [
       "Index(['year', 'month', 'day', 'hour', 'PM2.5', 'PM10', 'SO2', 'NO2', 'CO',\n",
       "       'O3', 'dew_point_temp', 'rain', 'wind_direction', 'wind_speed',\n",
       "       'station'],\n",
       "      dtype='object')"
      ]
     },
     "execution_count": 13,
     "metadata": {},
     "output_type": "execute_result"
    }
   ],
   "source": [
    "data.columns"
   ]
  },
  {
   "cell_type": "code",
   "execution_count": 14,
   "metadata": {
    "id": "PNhu2RiOCFPh"
   },
   "outputs": [],
   "source": [
    "data = data.reindex(columns = ['year', 'month', 'day', 'hour', 'PM10', 'SO2', 'NO2', 'CO',\n",
    "       'O3', 'dew_point_temp', 'rain', 'wind_direction', 'wind_speed',\n",
    "       'station', 'PM2.5'])"
   ]
  },
  {
   "cell_type": "markdown",
   "metadata": {
    "id": "4btKRda_sXA4"
   },
   "source": [
    "**Making an 80-20 stratified split based on the target data**"
   ]
  },
  {
   "cell_type": "code",
   "execution_count": 15,
   "metadata": {
    "id": "_cYi0wMCNjos"
   },
   "outputs": [],
   "source": [
    "X = data.drop('PM2.5', axis = 1)\n",
    "Y = data['PM2.5']"
   ]
  },
  {
   "cell_type": "code",
   "execution_count": 16,
   "metadata": {
    "id": "30k4DQa5IPNU"
   },
   "outputs": [],
   "source": [
    "X_train, X_test, Y_train, Y_test = train_test_split(X, Y,test_size = 0.2,random_state=42, stratify=data['station'])"
   ]
  },
  {
   "cell_type": "code",
   "execution_count": 17,
   "metadata": {
    "colab": {
     "base_uri": "https://localhost:8080/",
     "height": 238
    },
    "id": "lDOxiC2-kdnj",
    "outputId": "891e6b4f-7369-4ed6-a81b-72dd49d0cb50"
   },
   "outputs": [
    {
     "data": {
      "text/plain": [
       "Tiantan          2591\n",
       "Changping        2560\n",
       "Guanyuan         2482\n",
       "Huairou          2466\n",
       "Wanshouxigong    2458\n",
       "Nongzhanguan     2450\n",
       "Dingling         2435\n",
       "Gucheng          2396\n",
       "Aotizhongxin     2384\n",
       "Shunyi           2335\n",
       "Dongsi           2306\n",
       "Wanliu           2289\n",
       "Name: station, dtype: int64"
      ]
     },
     "execution_count": 17,
     "metadata": {},
     "output_type": "execute_result"
    }
   ],
   "source": [
    "X_train['station'].value_counts()"
   ]
  },
  {
   "cell_type": "code",
   "execution_count": 18,
   "metadata": {
    "colab": {
     "base_uri": "https://localhost:8080/",
     "height": 85
    },
    "id": "GrAuiod-N57X",
    "outputId": "29fa732b-142a-4f9a-e998-6a202abdcf15"
   },
   "outputs": [
    {
     "name": "stdout",
     "output_type": "stream",
     "text": [
      "(29152, 14)\n",
      "(7289, 14)\n",
      "(29152,)\n",
      "(7289,)\n"
     ]
    }
   ],
   "source": [
    "print(X_train.shape)\n",
    "print(X_test.shape)\n",
    "print(Y_train.shape)\n",
    "print(Y_test.shape)"
   ]
  },
  {
   "cell_type": "code",
   "execution_count": 19,
   "metadata": {
    "colab": {
     "base_uri": "https://localhost:8080/",
     "height": 204
    },
    "id": "dRHKiTFIypEf",
    "outputId": "0144dda1-981a-4014-ec3d-82d2cab66329"
   },
   "outputs": [
    {
     "data": {
      "text/html": [
       "<div>\n",
       "<style scoped>\n",
       "    .dataframe tbody tr th:only-of-type {\n",
       "        vertical-align: middle;\n",
       "    }\n",
       "\n",
       "    .dataframe tbody tr th {\n",
       "        vertical-align: top;\n",
       "    }\n",
       "\n",
       "    .dataframe thead th {\n",
       "        text-align: right;\n",
       "    }\n",
       "</style>\n",
       "<table border=\"1\" class=\"dataframe\">\n",
       "  <thead>\n",
       "    <tr style=\"text-align: right;\">\n",
       "      <th></th>\n",
       "      <th>year</th>\n",
       "      <th>month</th>\n",
       "      <th>day</th>\n",
       "      <th>hour</th>\n",
       "      <th>PM10</th>\n",
       "      <th>SO2</th>\n",
       "      <th>NO2</th>\n",
       "      <th>CO</th>\n",
       "      <th>O3</th>\n",
       "      <th>dew_point_temp</th>\n",
       "      <th>rain</th>\n",
       "      <th>wind_direction</th>\n",
       "      <th>wind_speed</th>\n",
       "      <th>station</th>\n",
       "    </tr>\n",
       "  </thead>\n",
       "  <tbody>\n",
       "    <tr>\n",
       "      <th>2161</th>\n",
       "      <td>2013</td>\n",
       "      <td>5</td>\n",
       "      <td>30</td>\n",
       "      <td>1</td>\n",
       "      <td>143.0</td>\n",
       "      <td>17.0</td>\n",
       "      <td>80.0</td>\n",
       "      <td>600.0</td>\n",
       "      <td>12.0</td>\n",
       "      <td>7.6</td>\n",
       "      <td>0.0</td>\n",
       "      <td>WSW</td>\n",
       "      <td>0.0</td>\n",
       "      <td>Tiantan</td>\n",
       "    </tr>\n",
       "    <tr>\n",
       "      <th>31356</th>\n",
       "      <td>2016</td>\n",
       "      <td>9</td>\n",
       "      <td>27</td>\n",
       "      <td>12</td>\n",
       "      <td>20.0</td>\n",
       "      <td>2.0</td>\n",
       "      <td>8.0</td>\n",
       "      <td>400.0</td>\n",
       "      <td>63.0</td>\n",
       "      <td>1.9</td>\n",
       "      <td>0.0</td>\n",
       "      <td>NE</td>\n",
       "      <td>5.9</td>\n",
       "      <td>Nongzhanguan</td>\n",
       "    </tr>\n",
       "    <tr>\n",
       "      <th>1657</th>\n",
       "      <td>2013</td>\n",
       "      <td>5</td>\n",
       "      <td>9</td>\n",
       "      <td>1</td>\n",
       "      <td>39.0</td>\n",
       "      <td>13.0</td>\n",
       "      <td>29.0</td>\n",
       "      <td>700.0</td>\n",
       "      <td>39.0</td>\n",
       "      <td>11.6</td>\n",
       "      <td>0.0</td>\n",
       "      <td>WSW</td>\n",
       "      <td>0.0</td>\n",
       "      <td>Wanshouxigong</td>\n",
       "    </tr>\n",
       "    <tr>\n",
       "      <th>28368</th>\n",
       "      <td>2016</td>\n",
       "      <td>5</td>\n",
       "      <td>26</td>\n",
       "      <td>0</td>\n",
       "      <td>72.0</td>\n",
       "      <td>4.0</td>\n",
       "      <td>73.0</td>\n",
       "      <td>800.0</td>\n",
       "      <td>2.0</td>\n",
       "      <td>8.4</td>\n",
       "      <td>0.0</td>\n",
       "      <td>E</td>\n",
       "      <td>0.9</td>\n",
       "      <td>Aotizhongxin</td>\n",
       "    </tr>\n",
       "    <tr>\n",
       "      <th>12041</th>\n",
       "      <td>2014</td>\n",
       "      <td>7</td>\n",
       "      <td>15</td>\n",
       "      <td>17</td>\n",
       "      <td>87.0</td>\n",
       "      <td>10.0</td>\n",
       "      <td>9.0</td>\n",
       "      <td>600.0</td>\n",
       "      <td>219.0</td>\n",
       "      <td>17.9</td>\n",
       "      <td>0.0</td>\n",
       "      <td>S</td>\n",
       "      <td>3.3</td>\n",
       "      <td>Tiantan</td>\n",
       "    </tr>\n",
       "  </tbody>\n",
       "</table>\n",
       "</div>"
      ],
      "text/plain": [
       "       year  month  day  hour   PM10   SO2   NO2     CO     O3  \\\n",
       "2161   2013      5   30     1  143.0  17.0  80.0  600.0   12.0   \n",
       "31356  2016      9   27    12   20.0   2.0   8.0  400.0   63.0   \n",
       "1657   2013      5    9     1   39.0  13.0  29.0  700.0   39.0   \n",
       "28368  2016      5   26     0   72.0   4.0  73.0  800.0    2.0   \n",
       "12041  2014      7   15    17   87.0  10.0   9.0  600.0  219.0   \n",
       "\n",
       "       dew_point_temp  rain wind_direction  wind_speed        station  \n",
       "2161              7.6   0.0            WSW         0.0        Tiantan  \n",
       "31356             1.9   0.0             NE         5.9   Nongzhanguan  \n",
       "1657             11.6   0.0            WSW         0.0  Wanshouxigong  \n",
       "28368             8.4   0.0              E         0.9   Aotizhongxin  \n",
       "12041            17.9   0.0              S         3.3        Tiantan  "
      ]
     },
     "execution_count": 19,
     "metadata": {},
     "output_type": "execute_result"
    }
   ],
   "source": [
    "X_train.head()"
   ]
  },
  {
   "cell_type": "markdown",
   "metadata": {
    "id": "JzZWE22AtQ00"
   },
   "source": [
    "**Encoding the categorical features**"
   ]
  },
  {
   "cell_type": "code",
   "execution_count": 20,
   "metadata": {
    "colab": {
     "base_uri": "https://localhost:8080/",
     "height": 119
    },
    "id": "yjnXkZsKjDeo",
    "outputId": "5093ff60-0e90-49df-d2e0-c71b3b2368d9"
   },
   "outputs": [
    {
     "name": "stderr",
     "output_type": "stream",
     "text": [
      "/Users/krishnajyesta/opt/anaconda3/lib/python3.8/site-packages/pandas/core/generic.py:5303: SettingWithCopyWarning: \n",
      "A value is trying to be set on a copy of a slice from a DataFrame.\n",
      "Try using .loc[row_indexer,col_indexer] = value instead\n",
      "\n",
      "See the caveats in the documentation: https://pandas.pydata.org/pandas-docs/stable/user_guide/indexing.html#returning-a-view-versus-a-copy\n",
      "  self[name] = value\n"
     ]
    }
   ],
   "source": [
    "X_train.month = X_train.month.astype('category')\n",
    "X_train.hour = X_train.hour.astype('category')\n",
    "X_train.day = X_train.day.astype('category')\n",
    "X_train.wind_direction = X_train.wind_direction.astype('category')\n",
    "X_train.station = X_train.station.astype('category')\n",
    "X_test.month = X_test.month.astype('category')\n",
    "X_test.hour = X_test.hour.astype('category')\n",
    "X_test.day = X_test.day.astype('category')\n",
    "X_test.wind_direction = X_test.wind_direction.astype('category')\n",
    "X_test.station = X_test.station.astype('category')"
   ]
  },
  {
   "cell_type": "code",
   "execution_count": 21,
   "metadata": {
    "colab": {
     "base_uri": "https://localhost:8080/",
     "height": 253
    },
    "id": "bndlmIffoVAQ",
    "outputId": "80b0b8a0-9da2-4104-930f-1be51d697dee"
   },
   "outputs": [
    {
     "data": {
      "text/html": [
       "<div>\n",
       "<style scoped>\n",
       "    .dataframe tbody tr th:only-of-type {\n",
       "        vertical-align: middle;\n",
       "    }\n",
       "\n",
       "    .dataframe tbody tr th {\n",
       "        vertical-align: top;\n",
       "    }\n",
       "\n",
       "    .dataframe thead th {\n",
       "        text-align: right;\n",
       "    }\n",
       "</style>\n",
       "<table border=\"1\" class=\"dataframe\">\n",
       "  <thead>\n",
       "    <tr style=\"text-align: right;\">\n",
       "      <th></th>\n",
       "      <th>year</th>\n",
       "      <th>PM10</th>\n",
       "      <th>SO2</th>\n",
       "      <th>NO2</th>\n",
       "      <th>CO</th>\n",
       "      <th>O3</th>\n",
       "      <th>dew_point_temp</th>\n",
       "      <th>rain</th>\n",
       "      <th>wind_speed</th>\n",
       "      <th>month_1</th>\n",
       "      <th>...</th>\n",
       "      <th>station_Dingling</th>\n",
       "      <th>station_Dongsi</th>\n",
       "      <th>station_Guanyuan</th>\n",
       "      <th>station_Gucheng</th>\n",
       "      <th>station_Huairou</th>\n",
       "      <th>station_Nongzhanguan</th>\n",
       "      <th>station_Shunyi</th>\n",
       "      <th>station_Tiantan</th>\n",
       "      <th>station_Wanliu</th>\n",
       "      <th>station_Wanshouxigong</th>\n",
       "    </tr>\n",
       "  </thead>\n",
       "  <tbody>\n",
       "    <tr>\n",
       "      <th>2161</th>\n",
       "      <td>2013</td>\n",
       "      <td>143.0</td>\n",
       "      <td>17.0</td>\n",
       "      <td>80.0</td>\n",
       "      <td>600.0</td>\n",
       "      <td>12.0</td>\n",
       "      <td>7.6</td>\n",
       "      <td>0.0</td>\n",
       "      <td>0.0</td>\n",
       "      <td>0</td>\n",
       "      <td>...</td>\n",
       "      <td>0</td>\n",
       "      <td>0</td>\n",
       "      <td>0</td>\n",
       "      <td>0</td>\n",
       "      <td>0</td>\n",
       "      <td>0</td>\n",
       "      <td>0</td>\n",
       "      <td>1</td>\n",
       "      <td>0</td>\n",
       "      <td>0</td>\n",
       "    </tr>\n",
       "    <tr>\n",
       "      <th>31356</th>\n",
       "      <td>2016</td>\n",
       "      <td>20.0</td>\n",
       "      <td>2.0</td>\n",
       "      <td>8.0</td>\n",
       "      <td>400.0</td>\n",
       "      <td>63.0</td>\n",
       "      <td>1.9</td>\n",
       "      <td>0.0</td>\n",
       "      <td>5.9</td>\n",
       "      <td>0</td>\n",
       "      <td>...</td>\n",
       "      <td>0</td>\n",
       "      <td>0</td>\n",
       "      <td>0</td>\n",
       "      <td>0</td>\n",
       "      <td>0</td>\n",
       "      <td>1</td>\n",
       "      <td>0</td>\n",
       "      <td>0</td>\n",
       "      <td>0</td>\n",
       "      <td>0</td>\n",
       "    </tr>\n",
       "    <tr>\n",
       "      <th>1657</th>\n",
       "      <td>2013</td>\n",
       "      <td>39.0</td>\n",
       "      <td>13.0</td>\n",
       "      <td>29.0</td>\n",
       "      <td>700.0</td>\n",
       "      <td>39.0</td>\n",
       "      <td>11.6</td>\n",
       "      <td>0.0</td>\n",
       "      <td>0.0</td>\n",
       "      <td>0</td>\n",
       "      <td>...</td>\n",
       "      <td>0</td>\n",
       "      <td>0</td>\n",
       "      <td>0</td>\n",
       "      <td>0</td>\n",
       "      <td>0</td>\n",
       "      <td>0</td>\n",
       "      <td>0</td>\n",
       "      <td>0</td>\n",
       "      <td>0</td>\n",
       "      <td>1</td>\n",
       "    </tr>\n",
       "    <tr>\n",
       "      <th>28368</th>\n",
       "      <td>2016</td>\n",
       "      <td>72.0</td>\n",
       "      <td>4.0</td>\n",
       "      <td>73.0</td>\n",
       "      <td>800.0</td>\n",
       "      <td>2.0</td>\n",
       "      <td>8.4</td>\n",
       "      <td>0.0</td>\n",
       "      <td>0.9</td>\n",
       "      <td>0</td>\n",
       "      <td>...</td>\n",
       "      <td>0</td>\n",
       "      <td>0</td>\n",
       "      <td>0</td>\n",
       "      <td>0</td>\n",
       "      <td>0</td>\n",
       "      <td>0</td>\n",
       "      <td>0</td>\n",
       "      <td>0</td>\n",
       "      <td>0</td>\n",
       "      <td>0</td>\n",
       "    </tr>\n",
       "    <tr>\n",
       "      <th>12041</th>\n",
       "      <td>2014</td>\n",
       "      <td>87.0</td>\n",
       "      <td>10.0</td>\n",
       "      <td>9.0</td>\n",
       "      <td>600.0</td>\n",
       "      <td>219.0</td>\n",
       "      <td>17.9</td>\n",
       "      <td>0.0</td>\n",
       "      <td>3.3</td>\n",
       "      <td>0</td>\n",
       "      <td>...</td>\n",
       "      <td>0</td>\n",
       "      <td>0</td>\n",
       "      <td>0</td>\n",
       "      <td>0</td>\n",
       "      <td>0</td>\n",
       "      <td>0</td>\n",
       "      <td>0</td>\n",
       "      <td>1</td>\n",
       "      <td>0</td>\n",
       "      <td>0</td>\n",
       "    </tr>\n",
       "  </tbody>\n",
       "</table>\n",
       "<p>5 rows × 104 columns</p>\n",
       "</div>"
      ],
      "text/plain": [
       "       year   PM10   SO2   NO2     CO     O3  dew_point_temp  rain  \\\n",
       "2161   2013  143.0  17.0  80.0  600.0   12.0             7.6   0.0   \n",
       "31356  2016   20.0   2.0   8.0  400.0   63.0             1.9   0.0   \n",
       "1657   2013   39.0  13.0  29.0  700.0   39.0            11.6   0.0   \n",
       "28368  2016   72.0   4.0  73.0  800.0    2.0             8.4   0.0   \n",
       "12041  2014   87.0  10.0   9.0  600.0  219.0            17.9   0.0   \n",
       "\n",
       "       wind_speed  month_1  ...  station_Dingling  station_Dongsi  \\\n",
       "2161          0.0        0  ...                 0               0   \n",
       "31356         5.9        0  ...                 0               0   \n",
       "1657          0.0        0  ...                 0               0   \n",
       "28368         0.9        0  ...                 0               0   \n",
       "12041         3.3        0  ...                 0               0   \n",
       "\n",
       "       station_Guanyuan  station_Gucheng  station_Huairou  \\\n",
       "2161                  0                0                0   \n",
       "31356                 0                0                0   \n",
       "1657                  0                0                0   \n",
       "28368                 0                0                0   \n",
       "12041                 0                0                0   \n",
       "\n",
       "       station_Nongzhanguan  station_Shunyi  station_Tiantan  station_Wanliu  \\\n",
       "2161                      0               0                1               0   \n",
       "31356                     1               0                0               0   \n",
       "1657                      0               0                0               0   \n",
       "28368                     0               0                0               0   \n",
       "12041                     0               0                1               0   \n",
       "\n",
       "       station_Wanshouxigong  \n",
       "2161                       0  \n",
       "31356                      0  \n",
       "1657                       1  \n",
       "28368                      0  \n",
       "12041                      0  \n",
       "\n",
       "[5 rows x 104 columns]"
      ]
     },
     "execution_count": 21,
     "metadata": {},
     "output_type": "execute_result"
    }
   ],
   "source": [
    "X_train=pd.get_dummies(X_train)\n",
    "X_test=pd.get_dummies(X_test)\n",
    "X_train.head()"
   ]
  },
  {
   "cell_type": "markdown",
   "metadata": {
    "id": "DVvl2-vovdmb"
   },
   "source": [
    "**Standardizing the numerical features**"
   ]
  },
  {
   "cell_type": "code",
   "execution_count": 22,
   "metadata": {
    "id": "taH2tySMzgbW"
   },
   "outputs": [],
   "source": [
    "nums_cols=['year', 'PM10', 'SO2', 'NO2', 'CO','O3', 'dew_point_temp', 'rain', 'wind_speed']"
   ]
  },
  {
   "cell_type": "code",
   "execution_count": 23,
   "metadata": {
    "id": "0zKWtXVXvvxo"
   },
   "outputs": [],
   "source": [
    "for i in nums_cols:\n",
    "  scaler=StandardScaler().fit(X_train[[i]])\n",
    "  X_train[i]=scaler.transform(X_train[[i]])\n",
    "  X_test[i]=scaler.transform(X_test[[i]])"
   ]
  },
  {
   "cell_type": "code",
   "execution_count": 24,
   "metadata": {
    "colab": {
     "base_uri": "https://localhost:8080/",
     "height": 253
    },
    "id": "xfM7RiEn39Ra",
    "outputId": "f7312b48-f251-4220-e276-0563a6b7a134"
   },
   "outputs": [
    {
     "data": {
      "text/html": [
       "<div>\n",
       "<style scoped>\n",
       "    .dataframe tbody tr th:only-of-type {\n",
       "        vertical-align: middle;\n",
       "    }\n",
       "\n",
       "    .dataframe tbody tr th {\n",
       "        vertical-align: top;\n",
       "    }\n",
       "\n",
       "    .dataframe thead th {\n",
       "        text-align: right;\n",
       "    }\n",
       "</style>\n",
       "<table border=\"1\" class=\"dataframe\">\n",
       "  <thead>\n",
       "    <tr style=\"text-align: right;\">\n",
       "      <th></th>\n",
       "      <th>year</th>\n",
       "      <th>PM10</th>\n",
       "      <th>SO2</th>\n",
       "      <th>NO2</th>\n",
       "      <th>CO</th>\n",
       "      <th>O3</th>\n",
       "      <th>dew_point_temp</th>\n",
       "      <th>rain</th>\n",
       "      <th>wind_speed</th>\n",
       "      <th>month_1</th>\n",
       "      <th>...</th>\n",
       "      <th>station_Dingling</th>\n",
       "      <th>station_Dongsi</th>\n",
       "      <th>station_Guanyuan</th>\n",
       "      <th>station_Gucheng</th>\n",
       "      <th>station_Huairou</th>\n",
       "      <th>station_Nongzhanguan</th>\n",
       "      <th>station_Shunyi</th>\n",
       "      <th>station_Tiantan</th>\n",
       "      <th>station_Wanliu</th>\n",
       "      <th>station_Wanshouxigong</th>\n",
       "    </tr>\n",
       "  </thead>\n",
       "  <tbody>\n",
       "    <tr>\n",
       "      <th>2161</th>\n",
       "      <td>-1.466944</td>\n",
       "      <td>0.696389</td>\n",
       "      <td>0.146308</td>\n",
       "      <td>1.053469</td>\n",
       "      <td>-0.548685</td>\n",
       "      <td>-0.836070</td>\n",
       "      <td>0.356339</td>\n",
       "      <td>-0.082572</td>\n",
       "      <td>-1.391812</td>\n",
       "      <td>0</td>\n",
       "      <td>...</td>\n",
       "      <td>0</td>\n",
       "      <td>0</td>\n",
       "      <td>0</td>\n",
       "      <td>0</td>\n",
       "      <td>0</td>\n",
       "      <td>0</td>\n",
       "      <td>0</td>\n",
       "      <td>1</td>\n",
       "      <td>0</td>\n",
       "      <td>0</td>\n",
       "    </tr>\n",
       "    <tr>\n",
       "      <th>31356</th>\n",
       "      <td>1.110049</td>\n",
       "      <td>-0.999032</td>\n",
       "      <td>-0.644206</td>\n",
       "      <td>-1.260543</td>\n",
       "      <td>-0.775022</td>\n",
       "      <td>0.067667</td>\n",
       "      <td>-0.050276</td>\n",
       "      <td>-0.082572</td>\n",
       "      <td>3.254508</td>\n",
       "      <td>0</td>\n",
       "      <td>...</td>\n",
       "      <td>0</td>\n",
       "      <td>0</td>\n",
       "      <td>0</td>\n",
       "      <td>0</td>\n",
       "      <td>0</td>\n",
       "      <td>1</td>\n",
       "      <td>0</td>\n",
       "      <td>0</td>\n",
       "      <td>0</td>\n",
       "      <td>0</td>\n",
       "    </tr>\n",
       "    <tr>\n",
       "      <th>1657</th>\n",
       "      <td>-1.466944</td>\n",
       "      <td>-0.737137</td>\n",
       "      <td>-0.064496</td>\n",
       "      <td>-0.585623</td>\n",
       "      <td>-0.435516</td>\n",
       "      <td>-0.357621</td>\n",
       "      <td>0.641683</td>\n",
       "      <td>-0.082572</td>\n",
       "      <td>-1.391812</td>\n",
       "      <td>0</td>\n",
       "      <td>...</td>\n",
       "      <td>0</td>\n",
       "      <td>0</td>\n",
       "      <td>0</td>\n",
       "      <td>0</td>\n",
       "      <td>0</td>\n",
       "      <td>0</td>\n",
       "      <td>0</td>\n",
       "      <td>0</td>\n",
       "      <td>0</td>\n",
       "      <td>1</td>\n",
       "    </tr>\n",
       "    <tr>\n",
       "      <th>28368</th>\n",
       "      <td>1.110049</td>\n",
       "      <td>-0.282268</td>\n",
       "      <td>-0.538804</td>\n",
       "      <td>0.828496</td>\n",
       "      <td>-0.322347</td>\n",
       "      <td>-1.013273</td>\n",
       "      <td>0.413408</td>\n",
       "      <td>-0.082572</td>\n",
       "      <td>-0.683052</td>\n",
       "      <td>0</td>\n",
       "      <td>...</td>\n",
       "      <td>0</td>\n",
       "      <td>0</td>\n",
       "      <td>0</td>\n",
       "      <td>0</td>\n",
       "      <td>0</td>\n",
       "      <td>0</td>\n",
       "      <td>0</td>\n",
       "      <td>0</td>\n",
       "      <td>0</td>\n",
       "      <td>0</td>\n",
       "    </tr>\n",
       "    <tr>\n",
       "      <th>12041</th>\n",
       "      <td>-0.607946</td>\n",
       "      <td>-0.075510</td>\n",
       "      <td>-0.222598</td>\n",
       "      <td>-1.228404</td>\n",
       "      <td>-0.548685</td>\n",
       "      <td>2.832040</td>\n",
       "      <td>1.091100</td>\n",
       "      <td>-0.082572</td>\n",
       "      <td>1.206977</td>\n",
       "      <td>0</td>\n",
       "      <td>...</td>\n",
       "      <td>0</td>\n",
       "      <td>0</td>\n",
       "      <td>0</td>\n",
       "      <td>0</td>\n",
       "      <td>0</td>\n",
       "      <td>0</td>\n",
       "      <td>0</td>\n",
       "      <td>1</td>\n",
       "      <td>0</td>\n",
       "      <td>0</td>\n",
       "    </tr>\n",
       "  </tbody>\n",
       "</table>\n",
       "<p>5 rows × 104 columns</p>\n",
       "</div>"
      ],
      "text/plain": [
       "           year      PM10       SO2       NO2        CO        O3  \\\n",
       "2161  -1.466944  0.696389  0.146308  1.053469 -0.548685 -0.836070   \n",
       "31356  1.110049 -0.999032 -0.644206 -1.260543 -0.775022  0.067667   \n",
       "1657  -1.466944 -0.737137 -0.064496 -0.585623 -0.435516 -0.357621   \n",
       "28368  1.110049 -0.282268 -0.538804  0.828496 -0.322347 -1.013273   \n",
       "12041 -0.607946 -0.075510 -0.222598 -1.228404 -0.548685  2.832040   \n",
       "\n",
       "       dew_point_temp      rain  wind_speed  month_1  ...  station_Dingling  \\\n",
       "2161         0.356339 -0.082572   -1.391812        0  ...                 0   \n",
       "31356       -0.050276 -0.082572    3.254508        0  ...                 0   \n",
       "1657         0.641683 -0.082572   -1.391812        0  ...                 0   \n",
       "28368        0.413408 -0.082572   -0.683052        0  ...                 0   \n",
       "12041        1.091100 -0.082572    1.206977        0  ...                 0   \n",
       "\n",
       "       station_Dongsi  station_Guanyuan  station_Gucheng  station_Huairou  \\\n",
       "2161                0                 0                0                0   \n",
       "31356               0                 0                0                0   \n",
       "1657                0                 0                0                0   \n",
       "28368               0                 0                0                0   \n",
       "12041               0                 0                0                0   \n",
       "\n",
       "       station_Nongzhanguan  station_Shunyi  station_Tiantan  station_Wanliu  \\\n",
       "2161                      0               0                1               0   \n",
       "31356                     1               0                0               0   \n",
       "1657                      0               0                0               0   \n",
       "28368                     0               0                0               0   \n",
       "12041                     0               0                1               0   \n",
       "\n",
       "       station_Wanshouxigong  \n",
       "2161                       0  \n",
       "31356                      0  \n",
       "1657                       1  \n",
       "28368                      0  \n",
       "12041                      0  \n",
       "\n",
       "[5 rows x 104 columns]"
      ]
     },
     "execution_count": 24,
     "metadata": {},
     "output_type": "execute_result"
    }
   ],
   "source": [
    "X_train.head()"
   ]
  },
  {
   "cell_type": "markdown",
   "metadata": {
    "id": "6dxGeE0d4Gfx"
   },
   "source": [
    "**Building a stochastic gradient descent regressor**"
   ]
  },
  {
   "cell_type": "code",
   "execution_count": 25,
   "metadata": {
    "colab": {
     "base_uri": "https://localhost:8080/",
     "height": 404
    },
    "id": "t7HIucBESCY3",
    "outputId": "fb456599-e036-476f-e995-f5909f107dbe"
   },
   "outputs": [
    {
     "data": {
      "image/png": "[encoded data removed]",
      "text/plain": [
       "<Figure size 1080x432 with 1 Axes>"
      ]
     },
     "metadata": {
      "needs_background": "light"
     },
     "output_type": "display_data"
    }
   ],
   "source": [
    "from sklearn.linear_model import SGDRegressor\n",
    "sgd = SGDRegressor(random_state=42)\n",
    "sgd.fit(X_train, Y_train)\n",
    "plt.figure(figsize=(15,6))\n",
    "plt.scatter(Y_test,sgd.predict(X_test))\n",
    "plt.grid()\n",
    "plt.xlabel('Actual PM2.5')\n",
    "plt.ylabel('Predicted PM2.5')\n",
    "plt.title('Scatter plot between actual and predicted values')\n",
    "plt.show()"
   ]
  },
  {
   "cell_type": "markdown",
   "metadata": {
    "id": "JgzpkX63k4Tw"
   },
   "source": [
    "**Evaluating your model using applicable metrics.**"
   ]
  },
  {
   "cell_type": "code",
   "execution_count": 26,
   "metadata": {
    "colab": {
     "base_uri": "https://localhost:8080/",
     "height": 85
    },
    "id": "JAgRDIL2icIt",
    "outputId": "0ccb31c0-0b1a-406e-b422-a3e697c4b5dc"
   },
   "outputs": [
    {
     "name": "stdout",
     "output_type": "stream",
     "text": [
      "Mean Squared Error : 610.8793736774384\n",
      "Mean Absolute Error : 17.774462684960298\n",
      "Root Mean Square Error : 24.715974058843774\n",
      "R2 Score: 0.8173645711436324\n"
     ]
    }
   ],
   "source": [
    "print('Mean Squared Error :', mean_squared_error(Y_test, sgd.predict(X_test)))\n",
    "print('Mean Absolute Error :',mean_absolute_error(Y_test, sgd.predict(X_test)))\n",
    "print('Root Mean Square Error :',mean_squared_error(Y_test, sgd.predict(X_test), squared=False))\n",
    "print ('R2 Score:', r2_score(Y_test,sgd.predict(X_test)))"
   ]
  },
  {
   "cell_type": "markdown",
   "metadata": {
    "id": "QOUVUIJil3pD"
   },
   "source": [
    "For regression problems, RMSE,MSE & MAE are popular metrics.\n",
    "- RMSE is the most popular evaluation metric used in regression problems.In RMSE, ‘square root’ of the error helps to show large number deviations for large errors. \n",
    "- MAE: MAE measures the average magnitude of the errors in a set of predictions, without considering their direction. It’s the average over the test sample of the absolute differences between prediction and actual observation where all individual differences have equal weight.\n",
    "- R2 Score - R2 score(coefficient of determination) is the amount of the variation/correlation in the target variable which is predictable from the input independent variables.R2 score value ranges from 0 to 1,which can be easily interpreted.\n"
   ]
  },
  {
   "cell_type": "markdown",
   "metadata": {
    "id": "OfeUCcvOl_TL"
   },
   "source": [
    "**Hyperparameters that can be tuned in SGD**"
   ]
  },
  {
   "cell_type": "code",
   "execution_count": 27,
   "metadata": {
    "colab": {
     "base_uri": "https://localhost:8080/",
     "height": 939
    },
    "id": "bS3XT9bmkx0-",
    "outputId": "07dbfe1a-1f3a-4aed-c2e4-d06149c15eb9"
   },
   "outputs": [
    {
     "name": "stderr",
     "output_type": "stream",
     "text": [
      "/Users/krishnajyesta/opt/anaconda3/lib/python3.8/site-packages/sklearn/linear_model/_stochastic_gradient.py:1208: ConvergenceWarning: Maximum number of iteration reached before convergence. Consider increasing max_iter to improve the fit.\n",
      "  warnings.warn(\"Maximum number of iteration reached before \"\n",
      "/Users/krishnajyesta/opt/anaconda3/lib/python3.8/site-packages/sklearn/linear_model/_stochastic_gradient.py:1208: ConvergenceWarning: Maximum number of iteration reached before convergence. Consider increasing max_iter to improve the fit.\n",
      "  warnings.warn(\"Maximum number of iteration reached before \"\n",
      "/Users/krishnajyesta/opt/anaconda3/lib/python3.8/site-packages/sklearn/linear_model/_stochastic_gradient.py:1208: ConvergenceWarning: Maximum number of iteration reached before convergence. Consider increasing max_iter to improve the fit.\n",
      "  warnings.warn(\"Maximum number of iteration reached before \"\n",
      "/Users/krishnajyesta/opt/anaconda3/lib/python3.8/site-packages/sklearn/linear_model/_stochastic_gradient.py:1208: ConvergenceWarning: Maximum number of iteration reached before convergence. Consider increasing max_iter to improve the fit.\n",
      "  warnings.warn(\"Maximum number of iteration reached before \"\n",
      "/Users/krishnajyesta/opt/anaconda3/lib/python3.8/site-packages/sklearn/linear_model/_stochastic_gradient.py:1208: ConvergenceWarning: Maximum number of iteration reached before convergence. Consider increasing max_iter to improve the fit.\n",
      "  warnings.warn(\"Maximum number of iteration reached before \"\n",
      "/Users/krishnajyesta/opt/anaconda3/lib/python3.8/site-packages/sklearn/linear_model/_stochastic_gradient.py:1208: ConvergenceWarning: Maximum number of iteration reached before convergence. Consider increasing max_iter to improve the fit.\n",
      "  warnings.warn(\"Maximum number of iteration reached before \"\n",
      "/Users/krishnajyesta/opt/anaconda3/lib/python3.8/site-packages/sklearn/linear_model/_stochastic_gradient.py:1208: ConvergenceWarning: Maximum number of iteration reached before convergence. Consider increasing max_iter to improve the fit.\n",
      "  warnings.warn(\"Maximum number of iteration reached before \"\n",
      "/Users/krishnajyesta/opt/anaconda3/lib/python3.8/site-packages/sklearn/linear_model/_stochastic_gradient.py:1208: ConvergenceWarning: Maximum number of iteration reached before convergence. Consider increasing max_iter to improve the fit.\n",
      "  warnings.warn(\"Maximum number of iteration reached before \"\n",
      "/Users/krishnajyesta/opt/anaconda3/lib/python3.8/site-packages/sklearn/linear_model/_stochastic_gradient.py:1208: ConvergenceWarning: Maximum number of iteration reached before convergence. Consider increasing max_iter to improve the fit.\n",
      "  warnings.warn(\"Maximum number of iteration reached before \"\n",
      "/Users/krishnajyesta/opt/anaconda3/lib/python3.8/site-packages/sklearn/linear_model/_stochastic_gradient.py:1208: ConvergenceWarning: Maximum number of iteration reached before convergence. Consider increasing max_iter to improve the fit.\n",
      "  warnings.warn(\"Maximum number of iteration reached before \"\n",
      "/Users/krishnajyesta/opt/anaconda3/lib/python3.8/site-packages/sklearn/linear_model/_stochastic_gradient.py:1208: ConvergenceWarning: Maximum number of iteration reached before convergence. Consider increasing max_iter to improve the fit.\n",
      "  warnings.warn(\"Maximum number of iteration reached before \"\n",
      "/Users/krishnajyesta/opt/anaconda3/lib/python3.8/site-packages/sklearn/linear_model/_stochastic_gradient.py:1208: ConvergenceWarning: Maximum number of iteration reached before convergence. Consider increasing max_iter to improve the fit.\n",
      "  warnings.warn(\"Maximum number of iteration reached before \"\n",
      "/Users/krishnajyesta/opt/anaconda3/lib/python3.8/site-packages/sklearn/linear_model/_stochastic_gradient.py:1208: ConvergenceWarning: Maximum number of iteration reached before convergence. Consider increasing max_iter to improve the fit.\n",
      "  warnings.warn(\"Maximum number of iteration reached before \"\n",
      "/Users/krishnajyesta/opt/anaconda3/lib/python3.8/site-packages/sklearn/linear_model/_stochastic_gradient.py:1208: ConvergenceWarning: Maximum number of iteration reached before convergence. Consider increasing max_iter to improve the fit.\n",
      "  warnings.warn(\"Maximum number of iteration reached before \"\n",
      "/Users/krishnajyesta/opt/anaconda3/lib/python3.8/site-packages/sklearn/linear_model/_stochastic_gradient.py:1208: ConvergenceWarning: Maximum number of iteration reached before convergence. Consider increasing max_iter to improve the fit.\n",
      "  warnings.warn(\"Maximum number of iteration reached before \"\n",
      "/Users/krishnajyesta/opt/anaconda3/lib/python3.8/site-packages/sklearn/linear_model/_stochastic_gradient.py:1208: ConvergenceWarning: Maximum number of iteration reached before convergence. Consider increasing max_iter to improve the fit.\n",
      "  warnings.warn(\"Maximum number of iteration reached before \"\n",
      "/Users/krishnajyesta/opt/anaconda3/lib/python3.8/site-packages/sklearn/linear_model/_stochastic_gradient.py:1208: ConvergenceWarning: Maximum number of iteration reached before convergence. Consider increasing max_iter to improve the fit.\n",
      "  warnings.warn(\"Maximum number of iteration reached before \"\n",
      "/Users/krishnajyesta/opt/anaconda3/lib/python3.8/site-packages/sklearn/linear_model/_stochastic_gradient.py:1208: ConvergenceWarning: Maximum number of iteration reached before convergence. Consider increasing max_iter to improve the fit.\n",
      "  warnings.warn(\"Maximum number of iteration reached before \"\n",
      "/Users/krishnajyesta/opt/anaconda3/lib/python3.8/site-packages/sklearn/linear_model/_stochastic_gradient.py:1208: ConvergenceWarning: Maximum number of iteration reached before convergence. Consider increasing max_iter to improve the fit.\n",
      "  warnings.warn(\"Maximum number of iteration reached before \"\n",
      "/Users/krishnajyesta/opt/anaconda3/lib/python3.8/site-packages/sklearn/linear_model/_stochastic_gradient.py:1208: ConvergenceWarning: Maximum number of iteration reached before convergence. Consider increasing max_iter to improve the fit.\n",
      "  warnings.warn(\"Maximum number of iteration reached before \"\n"
     ]
    },
    {
     "name": "stdout",
     "output_type": "stream",
     "text": [
      "GridSearchCV(estimator=SGDRegressor(random_state=42),\n",
      "             param_grid={'alpha': [0.0001, 0.0005, 5e-05],\n",
      "                         'eta0': [0.001, 0.01, 0.05, 0.1],\n",
      "                         'learning_rate': ['constant', 'optimal', 'invscaling'],\n",
      "                         'loss': ['squared_loss', 'huber'],\n",
      "                         'max_iter': [2000]})\n"
     ]
    }
   ],
   "source": [
    "from sklearn.model_selection import GridSearchCV\n",
    "\n",
    "param_grid = {\n",
    "    'alpha': [0.0001,0.0005,0.00005], #Constant that multiplies the regularization term. Defaults to 0.0001\n",
    "    'learning_rate': ['constant', 'optimal', 'invscaling'], \n",
    "    'loss' : ['squared_loss', 'huber'],#loss function to be used\n",
    "    'eta0':[0.001,0.01,0.05,0.1],#The initial learning rate\n",
    "    'max_iter': [2000] #number of passes over the training data\n",
    "}\n",
    "Grid = GridSearchCV(sgd, param_grid)\n",
    "x=Grid.fit(X_train, Y_train)\n",
    "print(x)"
   ]
  },
  {
   "cell_type": "code",
   "execution_count": 28,
   "metadata": {
    "colab": {
     "base_uri": "https://localhost:8080/",
     "height": 102
    },
    "id": "kWeziwyp0QMZ",
    "outputId": "d4b47233-8c90-44ea-be74-fb786ef43f74"
   },
   "outputs": [
    {
     "data": {
      "text/plain": [
       "{'alpha': 5e-05,\n",
       " 'eta0': 0.001,\n",
       " 'learning_rate': 'invscaling',\n",
       " 'loss': 'squared_loss',\n",
       " 'max_iter': 2000}"
      ]
     },
     "execution_count": 28,
     "metadata": {},
     "output_type": "execute_result"
    }
   ],
   "source": [
    "x.best_score_\n",
    "x.best_params_ # Gives us the best parameters which needs to be tuned with the correct values"
   ]
  },
  {
   "cell_type": "markdown",
   "metadata": {
    "id": "fRgxhaA9uCuU"
   },
   "source": [
    "**Tuning the parameters in the sgd model**"
   ]
  },
  {
   "cell_type": "code",
   "execution_count": 29,
   "metadata": {
    "colab": {
     "base_uri": "https://localhost:8080/",
     "height": 85
    },
    "id": "SJfbp_D-0qXO",
    "outputId": "40278780-a783-48f4-91d0-5391defea0e4"
   },
   "outputs": [
    {
     "name": "stdout",
     "output_type": "stream",
     "text": [
      "Mean Squared Error : 611.4152886219321\n",
      "Mean Absolute Error : 17.70454084948974\n",
      "Root Mean Square Error : 24.72681315135317\n",
      "R2 Score: 0.8172043479311035\n"
     ]
    }
   ],
   "source": [
    "finalsgd=SGDRegressor(alpha=0.00005,eta0=0.001,learning_rate='invscaling',loss='squared_loss',max_iter=2000)\n",
    "finalsgd.fit(X_train, Y_train)\n",
    "Y_pred=finalsgd.predict(X_test)\n",
    "print('Mean Squared Error :', mean_squared_error(Y_test, Y_pred))\n",
    "print('Mean Absolute Error :',mean_absolute_error(Y_test, Y_pred))\n",
    "print('Root Mean Square Error :',mean_squared_error(Y_test, Y_pred, squared=False))\n",
    "print ('R2 Score:', r2_score(Y_test,Y_pred))"
   ]
  },
  {
   "cell_type": "markdown",
   "metadata": {
    "id": "eWLPpW2euQj1"
   },
   "source": [
    "After tuning the parameters, we can see that there is very little improvement in accuracy."
   ]
  }
 ],
 "metadata": {
  "colab": {
   "collapsed_sections": [],
   "name": "DSP_Assignment_Two_AirQuality_Due_Sep27_1pm.ipynb",
   "provenance": []
  },
  "kernelspec": {
   "display_name": "Python 3",
   "language": "python",
   "name": "python3"
  },
  "language_info": {
   "codemirror_mode": {
    "name": "ipython",
    "version": 3
   },
   "file_extension": ".py",
   "mimetype": "text/x-python",
   "name": "python",
   "nbconvert_exporter": "python",
   "pygments_lexer": "ipython3",
   "version": "3.8.3"
  }
 },
 "nbformat": 4,
 "nbformat_minor": 1
}
