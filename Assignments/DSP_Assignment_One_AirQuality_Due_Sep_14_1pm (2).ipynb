{
 "cells": [
  {
   "cell_type": "markdown",
   "metadata": {},
   "source": [
    "# Assignment 1\n",
    "\n",
    "The questions below relate to the data files associated with the contest with the title \"Beijing Multi-Site Air Quality Data\" published at the following website. https://archive.ics.uci.edu/ml/datasets/Beijing+Multi-Site+Air-Quality+Data\n",
    "\n",
    "\n",
    "Problem description:\n",
    "\n",
    "Your goal is to predict the PM 2.5 levels in the air to determine the Air quality of Beijing. There are multiple datasets concerning different districts in Beijing. The data was recorded hourly for each district.Throughout, missing values have been filled as NaNs.\n",
    "\n",
    "Dataset Description:\n",
    "This data set includes hourly air pollutants data from 12 nationally-controlled air-quality monitoring sites. The air-quality data are from the Beijing Municipal Environmental Monitoring Center. The meteorological data in each air-quality site are matched with the nearest weather station from the China Meteorological Administration. The time period is from March 1st, 2013 to February 28th, 2017. Missing data are denoted as NA.\n",
    "\n",
    "\n",
    "Assignment:\n",
    "\n",
    "The goal is achieved through three subsequent Assignments 1 and 2, all using the same dataset\n",
    "\n",
    "The features in this dataset are provided as following \n",
    "\n",
    "No: row number\n",
    "\n",
    "year: year of data in this row\n",
    "\n",
    "month: month of data in this row\n",
    "\n",
    "day: day of data in this row\n",
    "\n",
    "hour: hour of data in this row\n",
    "\n",
    "PM2.5: PM2.5 concentration (ug/m^3)\n",
    "\n",
    "PM10: PM10 concentration (ug/m^3)\n",
    "\n",
    "SO2: SO2 concentration (ug/m^3)\n",
    "\n",
    "NO2: NO2 concentration (ug/m^3)\n",
    "\n",
    "CO: CO concentration (ug/m^3)\n",
    "\n",
    "O3: O3 concentration (ug/m^3)\n",
    "\n",
    "TEMP: temperature (degree Celsius)\n",
    "\n",
    "PRES: pressure (hPa)\n",
    "\n",
    "DEWP: dew point temperature (degree Celsius)\n",
    "\n",
    "RAIN: precipitation (mm)\n",
    "\n",
    "wd: wind direction\n",
    "\n",
    "WSPM: wind speed (m/s)\n",
    "\n",
    "station: name of the air-quality monitoring site\n",
    "\n",
    "(Where appropriate, units are provided as a _unit suffix on the feature name.)\n",
    "\n",
    "\n",
    "1. This question has 5 parts (a-e). Answer all 5.\n",
    "\n",
    "a) Load the file 'PRSA_Data_Aotizhongxin_20130301-20170228.csv', display the top 3 rows and observe the data. \n",
    "\n",
    "b). Merge all the datasets related to all districts given in the dataset and make a merged dataset.\n",
    "Rename the following columns correspondlingly as given.\n",
    "\n",
    "'wd' --> wind_direction\n",
    "\n",
    "'DEWP' --> dew_point_temp\n",
    "\n",
    "'TEMP' --> temp\n",
    "\n",
    "'RAIN' --> rain\n",
    "\n",
    "'WSPM' --> wind_speed\n",
    "\n",
    "'PRES' --> pressure\n",
    "\n",
    ",retaining rest of column name same\n",
    "\n",
    "c). view top 3 rows and recheck if column name changes have taken effect\n",
    "\n",
    "d). check the type of columns in dataframe\n",
    "\n",
    "e). Change the column 'year' and 'month' as categorical variables and check if the column data type is changed and the levels of category are correct. \n",
    "\n"
   ]
  },
  {
   "cell_type": "markdown",
   "metadata": {},
   "source": [
    "### Importing necessary libraries "
   ]
  },
  {
   "cell_type": "code",
   "execution_count": 1,
   "metadata": {},
   "outputs": [],
   "source": [
    "import pandas as pd\n",
    "import matplotlib.pyplot as plt\n",
    "import seaborn as sns\n",
    "%matplotlib inline \n",
    "sns.set(color_codes=True)"
   ]
  },
  {
   "cell_type": "markdown",
   "metadata": {},
   "source": [
    "### Reading PRSA_Data_Aotizhongxin_20130301-20170228 csv data as Dataframe using pandas"
   ]
  },
  {
   "cell_type": "code",
   "execution_count": 2,
   "metadata": {},
   "outputs": [],
   "source": [
    "df1 = pd.read_csv(\"PRSA_Data_Aotizhongxin_20130301-20170228.csv\")"
   ]
  },
  {
   "cell_type": "code",
   "execution_count": 3,
   "metadata": {},
   "outputs": [],
   "source": [
    "df2 = pd.read_csv(\"PRSA_Data_Changping_20130301-20170228.csv\")"
   ]
  },
  {
   "cell_type": "code",
   "execution_count": 4,
   "metadata": {},
   "outputs": [],
   "source": [
    "df3 = pd.read_csv(\"PRSA_Data_Dingling_20130301-20170228.csv\")"
   ]
  },
  {
   "cell_type": "code",
   "execution_count": 5,
   "metadata": {},
   "outputs": [],
   "source": [
    "df4 = pd.read_csv(\"PRSA_Data_Dongsi_20130301-20170228.csv\")"
   ]
  },
  {
   "cell_type": "code",
   "execution_count": 6,
   "metadata": {},
   "outputs": [],
   "source": [
    "df5 = pd.read_csv(\"PRSA_Data_Guanyuan_20130301-20170228.csv\")"
   ]
  },
  {
   "cell_type": "code",
   "execution_count": 7,
   "metadata": {},
   "outputs": [],
   "source": [
    "df6 = pd.read_csv(\"PRSA_Data_Gucheng_20130301-20170228.csv\")"
   ]
  },
  {
   "cell_type": "code",
   "execution_count": 8,
   "metadata": {},
   "outputs": [],
   "source": [
    "df7 = pd.read_csv(\"PRSA_Data_Huairou_20130301-20170228.csv\")"
   ]
  },
  {
   "cell_type": "code",
   "execution_count": 9,
   "metadata": {},
   "outputs": [],
   "source": [
    "df8 = pd.read_csv(\"PRSA_Data_Nongzhanguan_20130301-20170228.csv\")"
   ]
  },
  {
   "cell_type": "code",
   "execution_count": 10,
   "metadata": {},
   "outputs": [],
   "source": [
    "df9 = pd.read_csv(\"PRSA_Data_Shunyi_20130301-20170228.csv\")"
   ]
  },
  {
   "cell_type": "code",
   "execution_count": 11,
   "metadata": {},
   "outputs": [],
   "source": [
    "df10 = pd.read_csv(\"PRSA_Data_Tiantan_20130301-20170228.csv\")"
   ]
  },
  {
   "cell_type": "code",
   "execution_count": 12,
   "metadata": {},
   "outputs": [],
   "source": [
    "df11 = pd.read_csv(\"PRSA_Data_Wanliu_20130301-20170228.csv\")"
   ]
  },
  {
   "cell_type": "code",
   "execution_count": 13,
   "metadata": {},
   "outputs": [],
   "source": [
    "df12 = pd.read_csv(\"PRSA_Data_Wanshouxigong_20130301-20170228.csv\")"
   ]
  },
  {
   "cell_type": "markdown",
   "metadata": {},
   "source": [
    "### Using head function, identifying the first 3 rows of the data frame"
   ]
  },
  {
   "cell_type": "code",
   "execution_count": 14,
   "metadata": {},
   "outputs": [
    {
     "data": {
      "text/html": [
       "<div>\n",
       "<style scoped>\n",
       "    .dataframe tbody tr th:only-of-type {\n",
       "        vertical-align: middle;\n",
       "    }\n",
       "\n",
       "    .dataframe tbody tr th {\n",
       "        vertical-align: top;\n",
       "    }\n",
       "\n",
       "    .dataframe thead th {\n",
       "        text-align: right;\n",
       "    }\n",
       "</style>\n",
       "<table border=\"1\" class=\"dataframe\">\n",
       "  <thead>\n",
       "    <tr style=\"text-align: right;\">\n",
       "      <th></th>\n",
       "      <th>No</th>\n",
       "      <th>year</th>\n",
       "      <th>month</th>\n",
       "      <th>day</th>\n",
       "      <th>hour</th>\n",
       "      <th>PM2.5</th>\n",
       "      <th>PM10</th>\n",
       "      <th>SO2</th>\n",
       "      <th>NO2</th>\n",
       "      <th>CO</th>\n",
       "      <th>O3</th>\n",
       "      <th>TEMP</th>\n",
       "      <th>PRES</th>\n",
       "      <th>DEWP</th>\n",
       "      <th>RAIN</th>\n",
       "      <th>wd</th>\n",
       "      <th>WSPM</th>\n",
       "      <th>station</th>\n",
       "    </tr>\n",
       "  </thead>\n",
       "  <tbody>\n",
       "    <tr>\n",
       "      <th>0</th>\n",
       "      <td>1</td>\n",
       "      <td>2013</td>\n",
       "      <td>3</td>\n",
       "      <td>1</td>\n",
       "      <td>0</td>\n",
       "      <td>4.0</td>\n",
       "      <td>4.0</td>\n",
       "      <td>4.0</td>\n",
       "      <td>7.0</td>\n",
       "      <td>300.0</td>\n",
       "      <td>77.0</td>\n",
       "      <td>-0.7</td>\n",
       "      <td>1023.0</td>\n",
       "      <td>-18.8</td>\n",
       "      <td>0.0</td>\n",
       "      <td>NNW</td>\n",
       "      <td>4.4</td>\n",
       "      <td>Aotizhongxin</td>\n",
       "    </tr>\n",
       "    <tr>\n",
       "      <th>1</th>\n",
       "      <td>2</td>\n",
       "      <td>2013</td>\n",
       "      <td>3</td>\n",
       "      <td>1</td>\n",
       "      <td>1</td>\n",
       "      <td>8.0</td>\n",
       "      <td>8.0</td>\n",
       "      <td>4.0</td>\n",
       "      <td>7.0</td>\n",
       "      <td>300.0</td>\n",
       "      <td>77.0</td>\n",
       "      <td>-1.1</td>\n",
       "      <td>1023.2</td>\n",
       "      <td>-18.2</td>\n",
       "      <td>0.0</td>\n",
       "      <td>N</td>\n",
       "      <td>4.7</td>\n",
       "      <td>Aotizhongxin</td>\n",
       "    </tr>\n",
       "    <tr>\n",
       "      <th>2</th>\n",
       "      <td>3</td>\n",
       "      <td>2013</td>\n",
       "      <td>3</td>\n",
       "      <td>1</td>\n",
       "      <td>2</td>\n",
       "      <td>7.0</td>\n",
       "      <td>7.0</td>\n",
       "      <td>5.0</td>\n",
       "      <td>10.0</td>\n",
       "      <td>300.0</td>\n",
       "      <td>73.0</td>\n",
       "      <td>-1.1</td>\n",
       "      <td>1023.5</td>\n",
       "      <td>-18.2</td>\n",
       "      <td>0.0</td>\n",
       "      <td>NNW</td>\n",
       "      <td>5.6</td>\n",
       "      <td>Aotizhongxin</td>\n",
       "    </tr>\n",
       "  </tbody>\n",
       "</table>\n",
       "</div>"
      ],
      "text/plain": [
       "   No  year  month  day  hour  PM2.5  PM10  SO2   NO2     CO    O3  TEMP  \\\n",
       "0   1  2013      3    1     0    4.0   4.0  4.0   7.0  300.0  77.0  -0.7   \n",
       "1   2  2013      3    1     1    8.0   8.0  4.0   7.0  300.0  77.0  -1.1   \n",
       "2   3  2013      3    1     2    7.0   7.0  5.0  10.0  300.0  73.0  -1.1   \n",
       "\n",
       "     PRES  DEWP  RAIN   wd  WSPM       station  \n",
       "0  1023.0 -18.8   0.0  NNW   4.4  Aotizhongxin  \n",
       "1  1023.2 -18.2   0.0    N   4.7  Aotizhongxin  \n",
       "2  1023.5 -18.2   0.0  NNW   5.6  Aotizhongxin  "
      ]
     },
     "execution_count": 14,
     "metadata": {},
     "output_type": "execute_result"
    }
   ],
   "source": [
    "df1.head(3)"
   ]
  },
  {
   "cell_type": "markdown",
   "metadata": {},
   "source": [
    "### Merging all the datasets "
   ]
  },
  {
   "cell_type": "code",
   "execution_count": 15,
   "metadata": {},
   "outputs": [],
   "source": [
    "frames = [df1, df2, df3,df4, df5, df6,df7, df8, df9,df10,df11, df12]"
   ]
  },
  {
   "cell_type": "code",
   "execution_count": 16,
   "metadata": {},
   "outputs": [],
   "source": [
    "df = pd.concat(frames)"
   ]
  },
  {
   "cell_type": "markdown",
   "metadata": {},
   "source": [
    "### Renaming the column names"
   ]
  },
  {
   "cell_type": "code",
   "execution_count": 17,
   "metadata": {},
   "outputs": [],
   "source": [
    "df=df.rename(columns ={'wd':'wind_direction','DEWP':'dew_point_temp','TEMP':'temp','RAIN':'rain','WSPM':'wind_speed','PRES':'pressure'})"
   ]
  },
  {
   "cell_type": "markdown",
   "metadata": {},
   "source": [
    "### Viewing top 3 rows and rechecking if column name have changed"
   ]
  },
  {
   "cell_type": "code",
   "execution_count": 18,
   "metadata": {},
   "outputs": [
    {
     "data": {
      "text/html": [
       "<div>\n",
       "<style scoped>\n",
       "    .dataframe tbody tr th:only-of-type {\n",
       "        vertical-align: middle;\n",
       "    }\n",
       "\n",
       "    .dataframe tbody tr th {\n",
       "        vertical-align: top;\n",
       "    }\n",
       "\n",
       "    .dataframe thead th {\n",
       "        text-align: right;\n",
       "    }\n",
       "</style>\n",
       "<table border=\"1\" class=\"dataframe\">\n",
       "  <thead>\n",
       "    <tr style=\"text-align: right;\">\n",
       "      <th></th>\n",
       "      <th>No</th>\n",
       "      <th>year</th>\n",
       "      <th>month</th>\n",
       "      <th>day</th>\n",
       "      <th>hour</th>\n",
       "      <th>PM2.5</th>\n",
       "      <th>PM10</th>\n",
       "      <th>SO2</th>\n",
       "      <th>NO2</th>\n",
       "      <th>CO</th>\n",
       "      <th>O3</th>\n",
       "      <th>temp</th>\n",
       "      <th>pressure</th>\n",
       "      <th>dew_point_temp</th>\n",
       "      <th>rain</th>\n",
       "      <th>wind_direction</th>\n",
       "      <th>wind_speed</th>\n",
       "      <th>station</th>\n",
       "    </tr>\n",
       "  </thead>\n",
       "  <tbody>\n",
       "    <tr>\n",
       "      <th>0</th>\n",
       "      <td>1</td>\n",
       "      <td>2013</td>\n",
       "      <td>3</td>\n",
       "      <td>1</td>\n",
       "      <td>0</td>\n",
       "      <td>4.0</td>\n",
       "      <td>4.0</td>\n",
       "      <td>4.0</td>\n",
       "      <td>7.0</td>\n",
       "      <td>300.0</td>\n",
       "      <td>77.0</td>\n",
       "      <td>-0.7</td>\n",
       "      <td>1023.0</td>\n",
       "      <td>-18.8</td>\n",
       "      <td>0.0</td>\n",
       "      <td>NNW</td>\n",
       "      <td>4.4</td>\n",
       "      <td>Aotizhongxin</td>\n",
       "    </tr>\n",
       "    <tr>\n",
       "      <th>1</th>\n",
       "      <td>2</td>\n",
       "      <td>2013</td>\n",
       "      <td>3</td>\n",
       "      <td>1</td>\n",
       "      <td>1</td>\n",
       "      <td>8.0</td>\n",
       "      <td>8.0</td>\n",
       "      <td>4.0</td>\n",
       "      <td>7.0</td>\n",
       "      <td>300.0</td>\n",
       "      <td>77.0</td>\n",
       "      <td>-1.1</td>\n",
       "      <td>1023.2</td>\n",
       "      <td>-18.2</td>\n",
       "      <td>0.0</td>\n",
       "      <td>N</td>\n",
       "      <td>4.7</td>\n",
       "      <td>Aotizhongxin</td>\n",
       "    </tr>\n",
       "    <tr>\n",
       "      <th>2</th>\n",
       "      <td>3</td>\n",
       "      <td>2013</td>\n",
       "      <td>3</td>\n",
       "      <td>1</td>\n",
       "      <td>2</td>\n",
       "      <td>7.0</td>\n",
       "      <td>7.0</td>\n",
       "      <td>5.0</td>\n",
       "      <td>10.0</td>\n",
       "      <td>300.0</td>\n",
       "      <td>73.0</td>\n",
       "      <td>-1.1</td>\n",
       "      <td>1023.5</td>\n",
       "      <td>-18.2</td>\n",
       "      <td>0.0</td>\n",
       "      <td>NNW</td>\n",
       "      <td>5.6</td>\n",
       "      <td>Aotizhongxin</td>\n",
       "    </tr>\n",
       "  </tbody>\n",
       "</table>\n",
       "</div>"
      ],
      "text/plain": [
       "   No  year  month  day  hour  PM2.5  PM10  SO2   NO2     CO    O3  temp  \\\n",
       "0   1  2013      3    1     0    4.0   4.0  4.0   7.0  300.0  77.0  -0.7   \n",
       "1   2  2013      3    1     1    8.0   8.0  4.0   7.0  300.0  77.0  -1.1   \n",
       "2   3  2013      3    1     2    7.0   7.0  5.0  10.0  300.0  73.0  -1.1   \n",
       "\n",
       "   pressure  dew_point_temp  rain wind_direction  wind_speed       station  \n",
       "0    1023.0           -18.8   0.0            NNW         4.4  Aotizhongxin  \n",
       "1    1023.2           -18.2   0.0              N         4.7  Aotizhongxin  \n",
       "2    1023.5           -18.2   0.0            NNW         5.6  Aotizhongxin  "
      ]
     },
     "execution_count": 18,
     "metadata": {},
     "output_type": "execute_result"
    }
   ],
   "source": [
    "df.head(3)"
   ]
  },
  {
   "cell_type": "code",
   "execution_count": 19,
   "metadata": {},
   "outputs": [
    {
     "data": {
      "text/plain": [
       "Index(['No', 'year', 'month', 'day', 'hour', 'PM2.5', 'PM10', 'SO2', 'NO2',\n",
       "       'CO', 'O3', 'temp', 'pressure', 'dew_point_temp', 'rain',\n",
       "       'wind_direction', 'wind_speed', 'station'],\n",
       "      dtype='object')"
      ]
     },
     "execution_count": 19,
     "metadata": {},
     "output_type": "execute_result"
    }
   ],
   "source": [
    "df.columns"
   ]
  },
  {
   "cell_type": "markdown",
   "metadata": {},
   "source": [
    "### Identifying the data types of all the columns in the dataframe"
   ]
  },
  {
   "cell_type": "code",
   "execution_count": 20,
   "metadata": {},
   "outputs": [
    {
     "data": {
      "text/plain": [
       "No                  int64\n",
       "year                int64\n",
       "month               int64\n",
       "day                 int64\n",
       "hour                int64\n",
       "PM2.5             float64\n",
       "PM10              float64\n",
       "SO2               float64\n",
       "NO2               float64\n",
       "CO                float64\n",
       "O3                float64\n",
       "temp              float64\n",
       "pressure          float64\n",
       "dew_point_temp    float64\n",
       "rain              float64\n",
       "wind_direction     object\n",
       "wind_speed        float64\n",
       "station            object\n",
       "dtype: object"
      ]
     },
     "execution_count": 20,
     "metadata": {},
     "output_type": "execute_result"
    }
   ],
   "source": [
    "df.dtypes"
   ]
  },
  {
   "cell_type": "markdown",
   "metadata": {},
   "source": [
    "### Changing the column 'year' and 'month' as categorical variables"
   ]
  },
  {
   "cell_type": "code",
   "execution_count": 21,
   "metadata": {},
   "outputs": [],
   "source": [
    "df.year = df.year.astype('category')\n",
    "df.month = df.month.astype('category')"
   ]
  },
  {
   "cell_type": "markdown",
   "metadata": {},
   "source": [
    "### Checking if the columns data type are changed"
   ]
  },
  {
   "cell_type": "code",
   "execution_count": 22,
   "metadata": {},
   "outputs": [
    {
     "data": {
      "text/plain": [
       "No                   int64\n",
       "year              category\n",
       "month             category\n",
       "day                  int64\n",
       "hour                 int64\n",
       "PM2.5              float64\n",
       "PM10               float64\n",
       "SO2                float64\n",
       "NO2                float64\n",
       "CO                 float64\n",
       "O3                 float64\n",
       "temp               float64\n",
       "pressure           float64\n",
       "dew_point_temp     float64\n",
       "rain               float64\n",
       "wind_direction      object\n",
       "wind_speed         float64\n",
       "station             object\n",
       "dtype: object"
      ]
     },
     "execution_count": 22,
     "metadata": {},
     "output_type": "execute_result"
    }
   ],
   "source": [
    "df.dtypes"
   ]
  },
  {
   "cell_type": "markdown",
   "metadata": {},
   "source": [
    "### Viewing the levels of categorical variables"
   ]
  },
  {
   "cell_type": "code",
   "execution_count": 23,
   "metadata": {},
   "outputs": [
    {
     "data": {
      "text/plain": [
       "2016    105408\n",
       "2015    105120\n",
       "2014    105120\n",
       "2013     88128\n",
       "2017     16992\n",
       "Name: year, dtype: int64"
      ]
     },
     "execution_count": 23,
     "metadata": {},
     "output_type": "execute_result"
    }
   ],
   "source": [
    "df[\"year\"].value_counts()"
   ]
  },
  {
   "cell_type": "code",
   "execution_count": 24,
   "metadata": {},
   "outputs": [
    {
     "data": {
      "text/plain": [
       "Int64Index([2013, 2014, 2015, 2016, 2017], dtype='int64')"
      ]
     },
     "execution_count": 24,
     "metadata": {},
     "output_type": "execute_result"
    }
   ],
   "source": [
    "df[\"year\"].cat.categories"
   ]
  },
  {
   "cell_type": "code",
   "execution_count": 25,
   "metadata": {},
   "outputs": [
    {
     "data": {
      "text/plain": [
       "12    35712\n",
       "10    35712\n",
       "8     35712\n",
       "7     35712\n",
       "5     35712\n",
       "3     35712\n",
       "1     35712\n",
       "11    34560\n",
       "9     34560\n",
       "6     34560\n",
       "4     34560\n",
       "2     32544\n",
       "Name: month, dtype: int64"
      ]
     },
     "execution_count": 25,
     "metadata": {},
     "output_type": "execute_result"
    }
   ],
   "source": [
    "df[\"month\"].value_counts()"
   ]
  },
  {
   "cell_type": "code",
   "execution_count": 26,
   "metadata": {},
   "outputs": [
    {
     "data": {
      "text/plain": [
       "Int64Index([1, 2, 3, 4, 5, 6, 7, 8, 9, 10, 11, 12], dtype='int64')"
      ]
     },
     "execution_count": 26,
     "metadata": {},
     "output_type": "execute_result"
    }
   ],
   "source": [
    "df[\"month\"].cat.categories"
   ]
  },
  {
   "cell_type": "markdown",
   "metadata": {},
   "source": [
    "2. This question has six parts (a-f). Answer any 3 of those six parts.\n",
    "\n",
    "a). Remove unnecessary columns if any\n",
    "\n",
    "b). Count NANs(Target variable PM2.5 could contain NANs) in merged dataframe. Explain how to handle them and why did you choose this way to handle them? \n",
    "\n",
    "c). Do a point plot of month on x-axis(label them as Jan,feb,march..) and PM2.5 levels on y-axis by month(hint: use group by) and interpret it.\n",
    "\n",
    "d). Do a box plot to observe the density of target data and interpret the plot.\n",
    "\n",
    "e). Find the mean, min, max and standard deviation of PM2.5 by station\n",
    "\n",
    "f). Plot the distribution of the target data and interpret it."
   ]
  },
  {
   "cell_type": "markdown",
   "metadata": {},
   "source": [
    "### Removing Unnecessary Columns"
   ]
  },
  {
   "cell_type": "code",
   "execution_count": 27,
   "metadata": {},
   "outputs": [
    {
     "data": {
      "text/html": [
       "<div>\n",
       "<style scoped>\n",
       "    .dataframe tbody tr th:only-of-type {\n",
       "        vertical-align: middle;\n",
       "    }\n",
       "\n",
       "    .dataframe tbody tr th {\n",
       "        vertical-align: top;\n",
       "    }\n",
       "\n",
       "    .dataframe thead th {\n",
       "        text-align: right;\n",
       "    }\n",
       "</style>\n",
       "<table border=\"1\" class=\"dataframe\">\n",
       "  <thead>\n",
       "    <tr style=\"text-align: right;\">\n",
       "      <th></th>\n",
       "      <th>No</th>\n",
       "      <th>day</th>\n",
       "      <th>hour</th>\n",
       "      <th>PM2.5</th>\n",
       "      <th>PM10</th>\n",
       "      <th>SO2</th>\n",
       "      <th>NO2</th>\n",
       "      <th>CO</th>\n",
       "      <th>O3</th>\n",
       "      <th>temp</th>\n",
       "      <th>pressure</th>\n",
       "      <th>dew_point_temp</th>\n",
       "      <th>rain</th>\n",
       "      <th>wind_speed</th>\n",
       "    </tr>\n",
       "  </thead>\n",
       "  <tbody>\n",
       "    <tr>\n",
       "      <th>No</th>\n",
       "      <td>1.000000</td>\n",
       "      <td>1.776442e-02</td>\n",
       "      <td>6.838683e-04</td>\n",
       "      <td>-0.023569</td>\n",
       "      <td>-0.044217</td>\n",
       "      <td>-0.226739</td>\n",
       "      <td>-0.046553</td>\n",
       "      <td>0.019660</td>\n",
       "      <td>-0.050868</td>\n",
       "      <td>-0.122409</td>\n",
       "      <td>0.188280</td>\n",
       "      <td>-0.101972</td>\n",
       "      <td>0.004877</td>\n",
       "      <td>0.054214</td>\n",
       "    </tr>\n",
       "    <tr>\n",
       "      <th>day</th>\n",
       "      <td>0.017764</td>\n",
       "      <td>1.000000e+00</td>\n",
       "      <td>-5.117392e-18</td>\n",
       "      <td>0.003428</td>\n",
       "      <td>0.026015</td>\n",
       "      <td>-0.005146</td>\n",
       "      <td>0.009878</td>\n",
       "      <td>-0.015692</td>\n",
       "      <td>0.002829</td>\n",
       "      <td>0.014390</td>\n",
       "      <td>0.021758</td>\n",
       "      <td>0.023070</td>\n",
       "      <td>-0.003699</td>\n",
       "      <td>-0.011646</td>\n",
       "    </tr>\n",
       "    <tr>\n",
       "      <th>hour</th>\n",
       "      <td>0.000684</td>\n",
       "      <td>-5.117392e-18</td>\n",
       "      <td>1.000000e+00</td>\n",
       "      <td>0.011709</td>\n",
       "      <td>0.051426</td>\n",
       "      <td>0.029947</td>\n",
       "      <td>-0.001559</td>\n",
       "      <td>-0.031358</td>\n",
       "      <td>0.282287</td>\n",
       "      <td>0.141983</td>\n",
       "      <td>-0.038367</td>\n",
       "      <td>-0.012216</td>\n",
       "      <td>0.012381</td>\n",
       "      <td>0.140486</td>\n",
       "    </tr>\n",
       "    <tr>\n",
       "      <th>PM2.5</th>\n",
       "      <td>-0.023569</td>\n",
       "      <td>3.428114e-03</td>\n",
       "      <td>1.170939e-02</td>\n",
       "      <td>1.000000</td>\n",
       "      <td>0.884380</td>\n",
       "      <td>0.482354</td>\n",
       "      <td>0.666948</td>\n",
       "      <td>0.789998</td>\n",
       "      <td>-0.149697</td>\n",
       "      <td>-0.131127</td>\n",
       "      <td>0.018566</td>\n",
       "      <td>0.114656</td>\n",
       "      <td>-0.014359</td>\n",
       "      <td>-0.272205</td>\n",
       "    </tr>\n",
       "    <tr>\n",
       "      <th>PM10</th>\n",
       "      <td>-0.044217</td>\n",
       "      <td>2.601467e-02</td>\n",
       "      <td>5.142637e-02</td>\n",
       "      <td>0.884380</td>\n",
       "      <td>1.000000</td>\n",
       "      <td>0.462651</td>\n",
       "      <td>0.652193</td>\n",
       "      <td>0.702363</td>\n",
       "      <td>-0.111294</td>\n",
       "      <td>-0.096209</td>\n",
       "      <td>-0.017971</td>\n",
       "      <td>0.070310</td>\n",
       "      <td>-0.026519</td>\n",
       "      <td>-0.183665</td>\n",
       "    </tr>\n",
       "    <tr>\n",
       "      <th>SO2</th>\n",
       "      <td>-0.226739</td>\n",
       "      <td>-5.145818e-03</td>\n",
       "      <td>2.994683e-02</td>\n",
       "      <td>0.482354</td>\n",
       "      <td>0.462651</td>\n",
       "      <td>1.000000</td>\n",
       "      <td>0.499496</td>\n",
       "      <td>0.535750</td>\n",
       "      <td>-0.165341</td>\n",
       "      <td>-0.321799</td>\n",
       "      <td>0.223236</td>\n",
       "      <td>-0.266781</td>\n",
       "      <td>-0.040241</td>\n",
       "      <td>-0.108717</td>\n",
       "    </tr>\n",
       "    <tr>\n",
       "      <th>NO2</th>\n",
       "      <td>-0.046553</td>\n",
       "      <td>9.877839e-03</td>\n",
       "      <td>-1.558836e-03</td>\n",
       "      <td>0.666948</td>\n",
       "      <td>0.652193</td>\n",
       "      <td>0.499496</td>\n",
       "      <td>1.000000</td>\n",
       "      <td>0.705500</td>\n",
       "      <td>-0.471587</td>\n",
       "      <td>-0.278192</td>\n",
       "      <td>0.174167</td>\n",
       "      <td>-0.031599</td>\n",
       "      <td>-0.043785</td>\n",
       "      <td>-0.400460</td>\n",
       "    </tr>\n",
       "    <tr>\n",
       "      <th>CO</th>\n",
       "      <td>0.019660</td>\n",
       "      <td>-1.569193e-02</td>\n",
       "      <td>-3.135823e-02</td>\n",
       "      <td>0.789998</td>\n",
       "      <td>0.702363</td>\n",
       "      <td>0.535750</td>\n",
       "      <td>0.705500</td>\n",
       "      <td>1.000000</td>\n",
       "      <td>-0.313012</td>\n",
       "      <td>-0.326237</td>\n",
       "      <td>0.188195</td>\n",
       "      <td>-0.057129</td>\n",
       "      <td>-0.013342</td>\n",
       "      <td>-0.297511</td>\n",
       "    </tr>\n",
       "    <tr>\n",
       "      <th>O3</th>\n",
       "      <td>-0.050868</td>\n",
       "      <td>2.829179e-03</td>\n",
       "      <td>2.822873e-01</td>\n",
       "      <td>-0.149697</td>\n",
       "      <td>-0.111294</td>\n",
       "      <td>-0.165341</td>\n",
       "      <td>-0.471587</td>\n",
       "      <td>-0.313012</td>\n",
       "      <td>1.000000</td>\n",
       "      <td>0.594910</td>\n",
       "      <td>-0.445961</td>\n",
       "      <td>0.312074</td>\n",
       "      <td>0.023320</td>\n",
       "      <td>0.295743</td>\n",
       "    </tr>\n",
       "    <tr>\n",
       "      <th>temp</th>\n",
       "      <td>-0.122409</td>\n",
       "      <td>1.439033e-02</td>\n",
       "      <td>1.419834e-01</td>\n",
       "      <td>-0.131127</td>\n",
       "      <td>-0.096209</td>\n",
       "      <td>-0.321799</td>\n",
       "      <td>-0.278192</td>\n",
       "      <td>-0.326237</td>\n",
       "      <td>0.594910</td>\n",
       "      <td>1.000000</td>\n",
       "      <td>-0.813309</td>\n",
       "      <td>0.820118</td>\n",
       "      <td>0.037635</td>\n",
       "      <td>0.033036</td>\n",
       "    </tr>\n",
       "    <tr>\n",
       "      <th>pressure</th>\n",
       "      <td>0.188280</td>\n",
       "      <td>2.175792e-02</td>\n",
       "      <td>-3.836689e-02</td>\n",
       "      <td>0.018566</td>\n",
       "      <td>-0.017971</td>\n",
       "      <td>0.223236</td>\n",
       "      <td>0.174167</td>\n",
       "      <td>0.188195</td>\n",
       "      <td>-0.445961</td>\n",
       "      <td>-0.813309</td>\n",
       "      <td>1.000000</td>\n",
       "      <td>-0.750222</td>\n",
       "      <td>-0.060948</td>\n",
       "      <td>0.065099</td>\n",
       "    </tr>\n",
       "    <tr>\n",
       "      <th>dew_point_temp</th>\n",
       "      <td>-0.101972</td>\n",
       "      <td>2.307046e-02</td>\n",
       "      <td>-1.221641e-02</td>\n",
       "      <td>0.114656</td>\n",
       "      <td>0.070310</td>\n",
       "      <td>-0.266781</td>\n",
       "      <td>-0.031599</td>\n",
       "      <td>-0.057129</td>\n",
       "      <td>0.312074</td>\n",
       "      <td>0.820118</td>\n",
       "      <td>-0.750222</td>\n",
       "      <td>1.000000</td>\n",
       "      <td>0.086292</td>\n",
       "      <td>-0.296591</td>\n",
       "    </tr>\n",
       "    <tr>\n",
       "      <th>rain</th>\n",
       "      <td>0.004877</td>\n",
       "      <td>-3.698855e-03</td>\n",
       "      <td>1.238108e-02</td>\n",
       "      <td>-0.014359</td>\n",
       "      <td>-0.026519</td>\n",
       "      <td>-0.040241</td>\n",
       "      <td>-0.043785</td>\n",
       "      <td>-0.013342</td>\n",
       "      <td>0.023320</td>\n",
       "      <td>0.037635</td>\n",
       "      <td>-0.060948</td>\n",
       "      <td>0.086292</td>\n",
       "      <td>1.000000</td>\n",
       "      <td>0.021022</td>\n",
       "    </tr>\n",
       "    <tr>\n",
       "      <th>wind_speed</th>\n",
       "      <td>0.054214</td>\n",
       "      <td>-1.164601e-02</td>\n",
       "      <td>1.404859e-01</td>\n",
       "      <td>-0.272205</td>\n",
       "      <td>-0.183665</td>\n",
       "      <td>-0.108717</td>\n",
       "      <td>-0.400460</td>\n",
       "      <td>-0.297511</td>\n",
       "      <td>0.295743</td>\n",
       "      <td>0.033036</td>\n",
       "      <td>0.065099</td>\n",
       "      <td>-0.296591</td>\n",
       "      <td>0.021022</td>\n",
       "      <td>1.000000</td>\n",
       "    </tr>\n",
       "  </tbody>\n",
       "</table>\n",
       "</div>"
      ],
      "text/plain": [
       "                      No           day          hour     PM2.5      PM10  \\\n",
       "No              1.000000  1.776442e-02  6.838683e-04 -0.023569 -0.044217   \n",
       "day             0.017764  1.000000e+00 -5.117392e-18  0.003428  0.026015   \n",
       "hour            0.000684 -5.117392e-18  1.000000e+00  0.011709  0.051426   \n",
       "PM2.5          -0.023569  3.428114e-03  1.170939e-02  1.000000  0.884380   \n",
       "PM10           -0.044217  2.601467e-02  5.142637e-02  0.884380  1.000000   \n",
       "SO2            -0.226739 -5.145818e-03  2.994683e-02  0.482354  0.462651   \n",
       "NO2            -0.046553  9.877839e-03 -1.558836e-03  0.666948  0.652193   \n",
       "CO              0.019660 -1.569193e-02 -3.135823e-02  0.789998  0.702363   \n",
       "O3             -0.050868  2.829179e-03  2.822873e-01 -0.149697 -0.111294   \n",
       "temp           -0.122409  1.439033e-02  1.419834e-01 -0.131127 -0.096209   \n",
       "pressure        0.188280  2.175792e-02 -3.836689e-02  0.018566 -0.017971   \n",
       "dew_point_temp -0.101972  2.307046e-02 -1.221641e-02  0.114656  0.070310   \n",
       "rain            0.004877 -3.698855e-03  1.238108e-02 -0.014359 -0.026519   \n",
       "wind_speed      0.054214 -1.164601e-02  1.404859e-01 -0.272205 -0.183665   \n",
       "\n",
       "                     SO2       NO2        CO        O3      temp  pressure  \\\n",
       "No             -0.226739 -0.046553  0.019660 -0.050868 -0.122409  0.188280   \n",
       "day            -0.005146  0.009878 -0.015692  0.002829  0.014390  0.021758   \n",
       "hour            0.029947 -0.001559 -0.031358  0.282287  0.141983 -0.038367   \n",
       "PM2.5           0.482354  0.666948  0.789998 -0.149697 -0.131127  0.018566   \n",
       "PM10            0.462651  0.652193  0.702363 -0.111294 -0.096209 -0.017971   \n",
       "SO2             1.000000  0.499496  0.535750 -0.165341 -0.321799  0.223236   \n",
       "NO2             0.499496  1.000000  0.705500 -0.471587 -0.278192  0.174167   \n",
       "CO              0.535750  0.705500  1.000000 -0.313012 -0.326237  0.188195   \n",
       "O3             -0.165341 -0.471587 -0.313012  1.000000  0.594910 -0.445961   \n",
       "temp           -0.321799 -0.278192 -0.326237  0.594910  1.000000 -0.813309   \n",
       "pressure        0.223236  0.174167  0.188195 -0.445961 -0.813309  1.000000   \n",
       "dew_point_temp -0.266781 -0.031599 -0.057129  0.312074  0.820118 -0.750222   \n",
       "rain           -0.040241 -0.043785 -0.013342  0.023320  0.037635 -0.060948   \n",
       "wind_speed     -0.108717 -0.400460 -0.297511  0.295743  0.033036  0.065099   \n",
       "\n",
       "                dew_point_temp      rain  wind_speed  \n",
       "No                   -0.101972  0.004877    0.054214  \n",
       "day                   0.023070 -0.003699   -0.011646  \n",
       "hour                 -0.012216  0.012381    0.140486  \n",
       "PM2.5                 0.114656 -0.014359   -0.272205  \n",
       "PM10                  0.070310 -0.026519   -0.183665  \n",
       "SO2                  -0.266781 -0.040241   -0.108717  \n",
       "NO2                  -0.031599 -0.043785   -0.400460  \n",
       "CO                   -0.057129 -0.013342   -0.297511  \n",
       "O3                    0.312074  0.023320    0.295743  \n",
       "temp                  0.820118  0.037635    0.033036  \n",
       "pressure             -0.750222 -0.060948    0.065099  \n",
       "dew_point_temp        1.000000  0.086292   -0.296591  \n",
       "rain                  0.086292  1.000000    0.021022  \n",
       "wind_speed           -0.296591  0.021022    1.000000  "
      ]
     },
     "execution_count": 27,
     "metadata": {},
     "output_type": "execute_result"
    }
   ],
   "source": [
    "df.corr()"
   ]
  },
  {
   "cell_type": "markdown",
   "metadata": {},
   "source": [
    "- Removing NO2,dew_point_temp and pressure as there is high correlation between independent variables.\n",
    "  Correlation between the output observations and the input features is very important and such features \n",
    "  should be retained. \n",
    "  However, if two or more than two features are mutually correlated, they convey \n",
    "  redundant information to the model and hence only one of the correlated features should be retained to reduce the     number of features."
   ]
  },
  {
   "cell_type": "code",
   "execution_count": 28,
   "metadata": {},
   "outputs": [],
   "source": [
    "df=df.drop(['NO2', 'pressure','dew_point_temp'],axis=1)"
   ]
  },
  {
   "cell_type": "markdown",
   "metadata": {},
   "source": [
    "### Finding Number of Null values in data frame"
   ]
  },
  {
   "cell_type": "code",
   "execution_count": 29,
   "metadata": {},
   "outputs": [
    {
     "data": {
      "text/plain": [
       "No                    0\n",
       "year                  0\n",
       "month                 0\n",
       "day                   0\n",
       "hour                  0\n",
       "PM2.5              8739\n",
       "PM10               6449\n",
       "SO2                9021\n",
       "CO                20701\n",
       "O3                13277\n",
       "temp                398\n",
       "rain                390\n",
       "wind_direction     1822\n",
       "wind_speed          318\n",
       "station               0\n",
       "dtype: int64"
      ]
     },
     "execution_count": 29,
     "metadata": {},
     "output_type": "execute_result"
    }
   ],
   "source": [
    "df.isna().sum()"
   ]
  },
  {
   "cell_type": "code",
   "execution_count": 30,
   "metadata": {},
   "outputs": [],
   "source": [
    "df['PM10'].fillna(df['PM10'].median(), inplace=True)\n",
    "df['PM2.5'].fillna(df['PM2.5'].median(), inplace=True)\n",
    "df['SO2'].fillna(df['SO2'].median(), inplace=True)\n",
    "df['CO'].fillna(df['CO'].median(), inplace=True)\n",
    "df['O3'].fillna(df['O3'].median(), inplace=True)"
   ]
  },
  {
   "cell_type": "markdown",
   "metadata": {},
   "source": [
    "- In this dataset, the percent of data missing is higher for the above 6 columnns.\n",
    "- Imputing the median values to the missing values as an estimate of the missing value.\n",
    "\n",
    "Reason to impute the value:\n",
    "- Missing data can introduce bias to the model\n",
    "- Missing data can reduce the efficiency and makes difficult for data analysis."
   ]
  },
  {
   "cell_type": "markdown",
   "metadata": {},
   "source": [
    "### Visualisation PM2.5 levels month wise "
   ]
  },
  {
   "cell_type": "code",
   "execution_count": 32,
   "metadata": {
    "scrolled": false
   },
   "outputs": [
    {
     "data": {
      "image/png": "[encoded data removed]",
      "text/plain": [
       "<Figure size 1080x432 with 1 Axes>"
      ]
     },
     "metadata": {},
     "output_type": "display_data"
    }
   ],
   "source": [
    "plt.figure(figsize=(15,6))\n",
    "sns.set(font_scale=1.5)\n",
    "labels = ['Jan', 'Feb', 'Mar', 'Apr', 'May', 'Jun', 'Jul', 'Aug', 'Sep', 'Oct', 'Nov', 'Dec']\n",
    "fig = sns.pointplot(x=\"month\", y=\"PM2.5\", data=df,color=\"#bb3f3f\").set_xticklabels(labels)\n",
    "plt.xlabel(\"MONTH\")\n",
    "plt.ylabel(\"PM2.5\")\n",
    "plt.title(\"POINT PLOT\")\n",
    "plt.show(fig)"
   ]
  },
  {
   "cell_type": "markdown",
   "metadata": {},
   "source": [
    "### Interpretation:\n",
    "\n",
    "- From the above plot we can interpret that the highest PM2.5 level was observed in December month with PM2.5 value of 102.\n",
    "- From the above plot we can also interpret that the lowest PM2.5 level was observed in August month with PM2.5 value of 52.\n",
    "- It is found from the graph above, that there was a gradual increase from August till December.\n"
   ]
  },
  {
   "cell_type": "markdown",
   "metadata": {},
   "source": [
    "### Plotting a box plot to observe the density of PM2.5 "
   ]
  },
  {
   "cell_type": "code",
   "execution_count": 33,
   "metadata": {},
   "outputs": [
    {
     "data": {
      "image/png": "[encoded data removed]",
      "text/plain": [
       "<Figure size 1080x432 with 1 Axes>"
      ]
     },
     "metadata": {},
     "output_type": "display_data"
    }
   ],
   "source": [
    "plt.figure(figsize=(15,6))\n",
    "sns.set(font_scale=1.5)\n",
    "fig1=sns.boxplot(y=df[\"PM2.5\"],color=\"#CD5C5C\")\n",
    "plt.title(\"BOX PLOT\")\n",
    "plt.show(fig1)"
   ]
  },
  {
   "cell_type": "markdown",
   "metadata": {},
   "source": [
    "### Interpretation:\n",
    "- From above box plot,we can observe that there is positive skewness in the PM2.5 data which means that the PM2.5 \n",
    "  follows a right skewed distribution with many outliers."
   ]
  },
  {
   "cell_type": "markdown",
   "metadata": {},
   "source": [
    "### Finding the mean,minimum ,maximum and standard deviation of PM2.5 values by station"
   ]
  },
  {
   "cell_type": "code",
   "execution_count": 34,
   "metadata": {
    "scrolled": true
   },
   "outputs": [
    {
     "data": {
      "text/html": [
       "<div>\n",
       "<style scoped>\n",
       "    .dataframe tbody tr th:only-of-type {\n",
       "        vertical-align: middle;\n",
       "    }\n",
       "\n",
       "    .dataframe tbody tr th {\n",
       "        vertical-align: top;\n",
       "    }\n",
       "\n",
       "    .dataframe thead th {\n",
       "        text-align: right;\n",
       "    }\n",
       "</style>\n",
       "<table border=\"1\" class=\"dataframe\">\n",
       "  <thead>\n",
       "    <tr style=\"text-align: right;\">\n",
       "      <th></th>\n",
       "      <th>min</th>\n",
       "      <th>max</th>\n",
       "      <th>mean</th>\n",
       "      <th>std</th>\n",
       "    </tr>\n",
       "    <tr>\n",
       "      <th>station</th>\n",
       "      <th></th>\n",
       "      <th></th>\n",
       "      <th></th>\n",
       "      <th></th>\n",
       "    </tr>\n",
       "  </thead>\n",
       "  <tbody>\n",
       "    <tr>\n",
       "      <th>Aotizhongxin</th>\n",
       "      <td>3.0</td>\n",
       "      <td>898.0</td>\n",
       "      <td>82.040934</td>\n",
       "      <td>81.167179</td>\n",
       "    </tr>\n",
       "    <tr>\n",
       "      <th>Changping</th>\n",
       "      <td>2.0</td>\n",
       "      <td>882.0</td>\n",
       "      <td>70.744359</td>\n",
       "      <td>71.563284</td>\n",
       "    </tr>\n",
       "    <tr>\n",
       "      <th>Dingling</th>\n",
       "      <td>3.0</td>\n",
       "      <td>881.0</td>\n",
       "      <td>65.745349</td>\n",
       "      <td>71.478777</td>\n",
       "    </tr>\n",
       "    <tr>\n",
       "      <th>Dongsi</th>\n",
       "      <td>3.0</td>\n",
       "      <td>737.0</td>\n",
       "      <td>85.527068</td>\n",
       "      <td>85.763033</td>\n",
       "    </tr>\n",
       "    <tr>\n",
       "      <th>Guanyuan</th>\n",
       "      <td>2.0</td>\n",
       "      <td>680.0</td>\n",
       "      <td>82.442642</td>\n",
       "      <td>80.303309</td>\n",
       "    </tr>\n",
       "    <tr>\n",
       "      <th>Gucheng</th>\n",
       "      <td>2.0</td>\n",
       "      <td>770.0</td>\n",
       "      <td>83.320534</td>\n",
       "      <td>82.121889</td>\n",
       "    </tr>\n",
       "    <tr>\n",
       "      <th>Huairou</th>\n",
       "      <td>2.0</td>\n",
       "      <td>762.0</td>\n",
       "      <td>69.228839</td>\n",
       "      <td>70.290563</td>\n",
       "    </tr>\n",
       "    <tr>\n",
       "      <th>Nongzhanguan</th>\n",
       "      <td>2.0</td>\n",
       "      <td>844.0</td>\n",
       "      <td>84.304073</td>\n",
       "      <td>85.541269</td>\n",
       "    </tr>\n",
       "    <tr>\n",
       "      <th>Shunyi</th>\n",
       "      <td>2.0</td>\n",
       "      <td>941.0</td>\n",
       "      <td>78.853887</td>\n",
       "      <td>80.261997</td>\n",
       "    </tr>\n",
       "    <tr>\n",
       "      <th>Tiantan</th>\n",
       "      <td>3.0</td>\n",
       "      <td>821.0</td>\n",
       "      <td>81.640423</td>\n",
       "      <td>80.223492</td>\n",
       "    </tr>\n",
       "    <tr>\n",
       "      <th>Wanliu</th>\n",
       "      <td>2.0</td>\n",
       "      <td>957.0</td>\n",
       "      <td>83.065591</td>\n",
       "      <td>81.511416</td>\n",
       "    </tr>\n",
       "    <tr>\n",
       "      <th>Wanshouxigong</th>\n",
       "      <td>3.0</td>\n",
       "      <td>999.0</td>\n",
       "      <td>84.428174</td>\n",
       "      <td>85.221355</td>\n",
       "    </tr>\n",
       "  </tbody>\n",
       "</table>\n",
       "</div>"
      ],
      "text/plain": [
       "               min    max       mean        std\n",
       "station                                        \n",
       "Aotizhongxin   3.0  898.0  82.040934  81.167179\n",
       "Changping      2.0  882.0  70.744359  71.563284\n",
       "Dingling       3.0  881.0  65.745349  71.478777\n",
       "Dongsi         3.0  737.0  85.527068  85.763033\n",
       "Guanyuan       2.0  680.0  82.442642  80.303309\n",
       "Gucheng        2.0  770.0  83.320534  82.121889\n",
       "Huairou        2.0  762.0  69.228839  70.290563\n",
       "Nongzhanguan   2.0  844.0  84.304073  85.541269\n",
       "Shunyi         2.0  941.0  78.853887  80.261997\n",
       "Tiantan        3.0  821.0  81.640423  80.223492\n",
       "Wanliu         2.0  957.0  83.065591  81.511416\n",
       "Wanshouxigong  3.0  999.0  84.428174  85.221355"
      ]
     },
     "execution_count": 34,
     "metadata": {},
     "output_type": "execute_result"
    }
   ],
   "source": [
    "df.groupby('station')['PM2.5'].agg(['min','max','mean','std'])"
   ]
  },
  {
   "cell_type": "markdown",
   "metadata": {},
   "source": [
    "### Plotting the distribution of the target data i.e PM2.5"
   ]
  },
  {
   "cell_type": "code",
   "execution_count": 35,
   "metadata": {},
   "outputs": [
    {
     "data": {
      "image/png": "[encoded data removed]",
      "text/plain": [
       "<Figure size 1080x576 with 1 Axes>"
      ]
     },
     "metadata": {},
     "output_type": "display_data"
    }
   ],
   "source": [
    "plt.figure(figsize=(15,6))\n",
    "fig3=df['PM2.5'].hist(bins=20,figsize=(15,8),color=\"#1199CC\")\n",
    "plt.title(\"HISTOGRAM PLOT\")\n",
    "plt.show(fig3)"
   ]
  },
  {
   "cell_type": "markdown",
   "metadata": {},
   "source": [
    "### Interpretation\n",
    "- The PM2.5 data in the above graph are right-skewed as most of the values are clustered on the right side of the histogram."
   ]
  },
  {
   "cell_type": "markdown",
   "metadata": {},
   "source": [
    "3. This question has four parts (a-d). Answer any 2 of these 4 parts.\n",
    "\n",
    "a). Check the correlations between the independent variables and mention the strongest one.\n",
    "\n",
    "\n",
    "b). Find and remove the outliers to bring the mean and standard deviation closer to each other.\n",
    "\n",
    "\n",
    "c). Find out the highest hour pollution level(PM2.5)(specify what hour or hours has high PM2.5 levels) in years 2013 and 2017 and generate a plot to show it.\n",
    "\n",
    "d). Reindex the columns such that target variable(PM2.5) should be at the last in the column index.\n",
    "\n",
    "\n",
    "Extra point(0.1) if all the plots have the following decorators:\n",
    "\n",
    "Including all the required libraries at one place\n",
    "\n",
    "Plot title\n",
    "\n",
    "X-label, Y-label\n",
    "\n",
    "X-ticks and y-ticks have proper sequence matching dataset, non overlapping text\n",
    "\n",
    "Colored plots\n",
    "\n",
    "Legend, if there is grouping in plot\n",
    "\n",
    "# Submit the following for this assignment:\n",
    "\n",
    ".ipynb and .html formats of Jupyter notebook code with outputs"
   ]
  },
  {
   "cell_type": "markdown",
   "metadata": {},
   "source": [
    "### Correlations between the independent variables"
   ]
  },
  {
   "cell_type": "code",
   "execution_count": 36,
   "metadata": {
    "scrolled": true
   },
   "outputs": [
    {
     "data": {
      "text/html": [
       "<div>\n",
       "<style scoped>\n",
       "    .dataframe tbody tr th:only-of-type {\n",
       "        vertical-align: middle;\n",
       "    }\n",
       "\n",
       "    .dataframe tbody tr th {\n",
       "        vertical-align: top;\n",
       "    }\n",
       "\n",
       "    .dataframe thead th {\n",
       "        text-align: right;\n",
       "    }\n",
       "</style>\n",
       "<table border=\"1\" class=\"dataframe\">\n",
       "  <thead>\n",
       "    <tr style=\"text-align: right;\">\n",
       "      <th></th>\n",
       "      <th>No</th>\n",
       "      <th>day</th>\n",
       "      <th>hour</th>\n",
       "      <th>PM2.5</th>\n",
       "      <th>PM10</th>\n",
       "      <th>SO2</th>\n",
       "      <th>CO</th>\n",
       "      <th>O3</th>\n",
       "      <th>temp</th>\n",
       "      <th>rain</th>\n",
       "      <th>wind_speed</th>\n",
       "    </tr>\n",
       "  </thead>\n",
       "  <tbody>\n",
       "    <tr>\n",
       "      <th>No</th>\n",
       "      <td>1.000000</td>\n",
       "      <td>1.776442e-02</td>\n",
       "      <td>6.838683e-04</td>\n",
       "      <td>-0.023707</td>\n",
       "      <td>-0.044208</td>\n",
       "      <td>-0.223036</td>\n",
       "      <td>0.029085</td>\n",
       "      <td>-0.048520</td>\n",
       "      <td>-0.122409</td>\n",
       "      <td>0.004877</td>\n",
       "      <td>0.054214</td>\n",
       "    </tr>\n",
       "    <tr>\n",
       "      <th>day</th>\n",
       "      <td>0.017764</td>\n",
       "      <td>1.000000e+00</td>\n",
       "      <td>-5.117392e-18</td>\n",
       "      <td>0.003456</td>\n",
       "      <td>0.025665</td>\n",
       "      <td>-0.006055</td>\n",
       "      <td>-0.016005</td>\n",
       "      <td>0.002763</td>\n",
       "      <td>0.014390</td>\n",
       "      <td>-0.003699</td>\n",
       "      <td>-0.011646</td>\n",
       "    </tr>\n",
       "    <tr>\n",
       "      <th>hour</th>\n",
       "      <td>0.000684</td>\n",
       "      <td>-5.117392e-18</td>\n",
       "      <td>1.000000e+00</td>\n",
       "      <td>0.011127</td>\n",
       "      <td>0.050868</td>\n",
       "      <td>0.030476</td>\n",
       "      <td>-0.029692</td>\n",
       "      <td>0.278786</td>\n",
       "      <td>0.141983</td>\n",
       "      <td>0.012381</td>\n",
       "      <td>0.140486</td>\n",
       "    </tr>\n",
       "    <tr>\n",
       "      <th>PM2.5</th>\n",
       "      <td>-0.023707</td>\n",
       "      <td>3.455952e-03</td>\n",
       "      <td>1.112678e-02</td>\n",
       "      <td>1.000000</td>\n",
       "      <td>0.879347</td>\n",
       "      <td>0.478022</td>\n",
       "      <td>0.767240</td>\n",
       "      <td>-0.147683</td>\n",
       "      <td>-0.130857</td>\n",
       "      <td>-0.014319</td>\n",
       "      <td>-0.269536</td>\n",
       "    </tr>\n",
       "    <tr>\n",
       "      <th>PM10</th>\n",
       "      <td>-0.044208</td>\n",
       "      <td>2.566485e-02</td>\n",
       "      <td>5.086762e-02</td>\n",
       "      <td>0.879347</td>\n",
       "      <td>1.000000</td>\n",
       "      <td>0.458764</td>\n",
       "      <td>0.686253</td>\n",
       "      <td>-0.109919</td>\n",
       "      <td>-0.095721</td>\n",
       "      <td>-0.026371</td>\n",
       "      <td>-0.182379</td>\n",
       "    </tr>\n",
       "    <tr>\n",
       "      <th>SO2</th>\n",
       "      <td>-0.223036</td>\n",
       "      <td>-6.055430e-03</td>\n",
       "      <td>3.047638e-02</td>\n",
       "      <td>0.478022</td>\n",
       "      <td>0.458764</td>\n",
       "      <td>1.000000</td>\n",
       "      <td>0.523455</td>\n",
       "      <td>-0.161700</td>\n",
       "      <td>-0.318590</td>\n",
       "      <td>-0.039862</td>\n",
       "      <td>-0.107357</td>\n",
       "    </tr>\n",
       "    <tr>\n",
       "      <th>CO</th>\n",
       "      <td>0.029085</td>\n",
       "      <td>-1.600530e-02</td>\n",
       "      <td>-2.969175e-02</td>\n",
       "      <td>0.767240</td>\n",
       "      <td>0.686253</td>\n",
       "      <td>0.523455</td>\n",
       "      <td>1.000000</td>\n",
       "      <td>-0.303764</td>\n",
       "      <td>-0.318157</td>\n",
       "      <td>-0.012843</td>\n",
       "      <td>-0.288742</td>\n",
       "    </tr>\n",
       "    <tr>\n",
       "      <th>O3</th>\n",
       "      <td>-0.048520</td>\n",
       "      <td>2.763491e-03</td>\n",
       "      <td>2.787860e-01</td>\n",
       "      <td>-0.147683</td>\n",
       "      <td>-0.109919</td>\n",
       "      <td>-0.161700</td>\n",
       "      <td>-0.303764</td>\n",
       "      <td>1.000000</td>\n",
       "      <td>0.585976</td>\n",
       "      <td>0.023324</td>\n",
       "      <td>0.292615</td>\n",
       "    </tr>\n",
       "    <tr>\n",
       "      <th>temp</th>\n",
       "      <td>-0.122409</td>\n",
       "      <td>1.439033e-02</td>\n",
       "      <td>1.419834e-01</td>\n",
       "      <td>-0.130857</td>\n",
       "      <td>-0.095721</td>\n",
       "      <td>-0.318590</td>\n",
       "      <td>-0.318157</td>\n",
       "      <td>0.585976</td>\n",
       "      <td>1.000000</td>\n",
       "      <td>0.037635</td>\n",
       "      <td>0.033036</td>\n",
       "    </tr>\n",
       "    <tr>\n",
       "      <th>rain</th>\n",
       "      <td>0.004877</td>\n",
       "      <td>-3.698855e-03</td>\n",
       "      <td>1.238108e-02</td>\n",
       "      <td>-0.014319</td>\n",
       "      <td>-0.026371</td>\n",
       "      <td>-0.039862</td>\n",
       "      <td>-0.012843</td>\n",
       "      <td>0.023324</td>\n",
       "      <td>0.037635</td>\n",
       "      <td>1.000000</td>\n",
       "      <td>0.021022</td>\n",
       "    </tr>\n",
       "    <tr>\n",
       "      <th>wind_speed</th>\n",
       "      <td>0.054214</td>\n",
       "      <td>-1.164601e-02</td>\n",
       "      <td>1.404859e-01</td>\n",
       "      <td>-0.269536</td>\n",
       "      <td>-0.182379</td>\n",
       "      <td>-0.107357</td>\n",
       "      <td>-0.288742</td>\n",
       "      <td>0.292615</td>\n",
       "      <td>0.033036</td>\n",
       "      <td>0.021022</td>\n",
       "      <td>1.000000</td>\n",
       "    </tr>\n",
       "  </tbody>\n",
       "</table>\n",
       "</div>"
      ],
      "text/plain": [
       "                  No           day          hour     PM2.5      PM10  \\\n",
       "No          1.000000  1.776442e-02  6.838683e-04 -0.023707 -0.044208   \n",
       "day         0.017764  1.000000e+00 -5.117392e-18  0.003456  0.025665   \n",
       "hour        0.000684 -5.117392e-18  1.000000e+00  0.011127  0.050868   \n",
       "PM2.5      -0.023707  3.455952e-03  1.112678e-02  1.000000  0.879347   \n",
       "PM10       -0.044208  2.566485e-02  5.086762e-02  0.879347  1.000000   \n",
       "SO2        -0.223036 -6.055430e-03  3.047638e-02  0.478022  0.458764   \n",
       "CO          0.029085 -1.600530e-02 -2.969175e-02  0.767240  0.686253   \n",
       "O3         -0.048520  2.763491e-03  2.787860e-01 -0.147683 -0.109919   \n",
       "temp       -0.122409  1.439033e-02  1.419834e-01 -0.130857 -0.095721   \n",
       "rain        0.004877 -3.698855e-03  1.238108e-02 -0.014319 -0.026371   \n",
       "wind_speed  0.054214 -1.164601e-02  1.404859e-01 -0.269536 -0.182379   \n",
       "\n",
       "                 SO2        CO        O3      temp      rain  wind_speed  \n",
       "No         -0.223036  0.029085 -0.048520 -0.122409  0.004877    0.054214  \n",
       "day        -0.006055 -0.016005  0.002763  0.014390 -0.003699   -0.011646  \n",
       "hour        0.030476 -0.029692  0.278786  0.141983  0.012381    0.140486  \n",
       "PM2.5       0.478022  0.767240 -0.147683 -0.130857 -0.014319   -0.269536  \n",
       "PM10        0.458764  0.686253 -0.109919 -0.095721 -0.026371   -0.182379  \n",
       "SO2         1.000000  0.523455 -0.161700 -0.318590 -0.039862   -0.107357  \n",
       "CO          0.523455  1.000000 -0.303764 -0.318157 -0.012843   -0.288742  \n",
       "O3         -0.161700 -0.303764  1.000000  0.585976  0.023324    0.292615  \n",
       "temp       -0.318590 -0.318157  0.585976  1.000000  0.037635    0.033036  \n",
       "rain       -0.039862 -0.012843  0.023324  0.037635  1.000000    0.021022  \n",
       "wind_speed -0.107357 -0.288742  0.292615  0.033036  0.021022    1.000000  "
      ]
     },
     "execution_count": 36,
     "metadata": {},
     "output_type": "execute_result"
    }
   ],
   "source": [
    "df.corr()"
   ]
  },
  {
   "cell_type": "markdown",
   "metadata": {},
   "source": [
    "- From the above correlation matrix, we can say that the strongest correlation is 0.87 between PM2.5(Target Variable)   and PM10. \n",
    "- The highest correlation between two independent variables is 0.58 i.e 03 and temp."
   ]
  },
  {
   "cell_type": "markdown",
   "metadata": {},
   "source": [
    "### Removing Outliers"
   ]
  },
  {
   "cell_type": "code",
   "execution_count": 37,
   "metadata": {},
   "outputs": [
    {
     "name": "stdout",
     "output_type": "stream",
     "text": [
      "88.0\n"
     ]
    }
   ],
   "source": [
    "Q1 = df['PM2.5'].quantile(0.25)\n",
    "Q3 = df['PM2.5'].quantile(0.75)\n",
    "IQR = Q3 - Q1\n",
    "print(IQR)"
   ]
  },
  {
   "cell_type": "code",
   "execution_count": 38,
   "metadata": {},
   "outputs": [
    {
     "data": {
      "text/plain": [
       "(399749, 15)"
      ]
     },
     "execution_count": 38,
     "metadata": {},
     "output_type": "execute_result"
    }
   ],
   "source": [
    "df_out = df[(df['PM2.5'] > (Q1 - 1.5 * IQR)) & (df['PM2.5'] < (Q3 + 1.5 * IQR))]\n",
    "df_out.shape"
   ]
  },
  {
   "cell_type": "markdown",
   "metadata": {},
   "source": [
    "### Finding the highest hour pollution level(PM2.5)(specify what hour or hours has high PM2.5 levels) in years 2013 and 2017"
   ]
  },
  {
   "cell_type": "code",
   "execution_count": 39,
   "metadata": {},
   "outputs": [],
   "source": [
    "df_2013=df[df['year']==2013]\n",
    "df_2017=df[df['year']==2017]\n",
    "frames=[df_2013,df_2017]\n",
    "df_Years=pd.concat(frames)"
   ]
  },
  {
   "cell_type": "code",
   "execution_count": 40,
   "metadata": {},
   "outputs": [
    {
     "data": {
      "image/png": "[encoded data removed]",
      "text/plain": [
       "<Figure size 1080x576 with 1 Axes>"
      ]
     },
     "metadata": {},
     "output_type": "display_data"
    }
   ],
   "source": [
    "plt.figure(figsize=(15,8))\n",
    "sns.set(font_scale=1.5)\n",
    "fig5=sns.pointplot(x='hour',y='PM2.5',data=df_2013,color=\"#dd3f3f\")\n",
    "plt.xlabel(\"HOURS\")\n",
    "plt.ylabel(\"PM2.5\")\n",
    "plt.title(\"Highest hour pollution level in years 2013\")\n",
    "plt.show(fig5)"
   ]
  },
  {
   "cell_type": "markdown",
   "metadata": {},
   "source": [
    "- Highest hour pollution level in 2013 is observed in 21:00 hours with PM2.5 as 91 ."
   ]
  },
  {
   "cell_type": "code",
   "execution_count": 41,
   "metadata": {},
   "outputs": [
    {
     "data": {
      "image/png": "[encoded data removed]",
      "text/plain": [
       "<Figure size 1080x576 with 1 Axes>"
      ]
     },
     "metadata": {},
     "output_type": "display_data"
    }
   ],
   "source": [
    "plt.figure(figsize=(15,8))\n",
    "sns.set(font_scale=1.5)\n",
    "fig6=sns.pointplot(x='hour',y='PM2.5',data=df_2017,color=\"#dd3f3f\")\n",
    "plt.xlabel(\"HOURS\")\n",
    "plt.ylabel(\"PM2.5\")\n",
    "plt.title(\"Highest hour pollution level in years 2017\")\n",
    "plt.show(fig6)"
   ]
  },
  {
   "cell_type": "markdown",
   "metadata": {},
   "source": [
    "- Highest hour pollution level in 2017 is observed in 01:00 hours with value of 111."
   ]
  },
  {
   "cell_type": "code",
   "execution_count": 42,
   "metadata": {},
   "outputs": [
    {
     "data": {
      "image/png": "[encoded data removed]",
      "text/plain": [
       "<Figure size 1080x576 with 1 Axes>"
      ]
     },
     "metadata": {},
     "output_type": "display_data"
    }
   ],
   "source": [
    "plt.figure(figsize=(15,8))\n",
    "sns.set(font_scale=1.5)\n",
    "fig4=sns.pointplot(x='hour',y='PM2.5',data=df_Years,color=\"#dd3f3f\")\n",
    "plt.xlabel(\"HOURS\")\n",
    "plt.ylabel(\"PM2.5\")\n",
    "plt.title(\"Highest hour pollution level in years 2013 and 2017\")\n",
    "plt.show(fig4)"
   ]
  },
  {
   "cell_type": "markdown",
   "metadata": {},
   "source": [
    "- Highest hour pollution level in 2013 and 2017 is observed in 21:00 hours."
   ]
  },
  {
   "cell_type": "markdown",
   "metadata": {},
   "source": [
    "### Reindexing Columns"
   ]
  },
  {
   "cell_type": "code",
   "execution_count": 43,
   "metadata": {},
   "outputs": [],
   "source": [
    "df_reindex=df.copy()"
   ]
  },
  {
   "cell_type": "code",
   "execution_count": 44,
   "metadata": {},
   "outputs": [
    {
     "data": {
      "text/plain": [
       "Index(['No', 'year', 'month', 'day', 'hour', 'PM2.5', 'PM10', 'SO2', 'CO',\n",
       "       'O3', 'temp', 'rain', 'wind_direction', 'wind_speed', 'station'],\n",
       "      dtype='object')"
      ]
     },
     "execution_count": 44,
     "metadata": {},
     "output_type": "execute_result"
    }
   ],
   "source": [
    "df_reindex.columns"
   ]
  },
  {
   "cell_type": "code",
   "execution_count": 45,
   "metadata": {},
   "outputs": [
    {
     "data": {
      "text/html": [
       "<div>\n",
       "<style scoped>\n",
       "    .dataframe tbody tr th:only-of-type {\n",
       "        vertical-align: middle;\n",
       "    }\n",
       "\n",
       "    .dataframe tbody tr th {\n",
       "        vertical-align: top;\n",
       "    }\n",
       "\n",
       "    .dataframe thead th {\n",
       "        text-align: right;\n",
       "    }\n",
       "</style>\n",
       "<table border=\"1\" class=\"dataframe\">\n",
       "  <thead>\n",
       "    <tr style=\"text-align: right;\">\n",
       "      <th></th>\n",
       "      <th>No</th>\n",
       "      <th>year</th>\n",
       "      <th>month</th>\n",
       "      <th>day</th>\n",
       "      <th>hour</th>\n",
       "      <th>PM10</th>\n",
       "      <th>SO2</th>\n",
       "      <th>NO2</th>\n",
       "      <th>CO</th>\n",
       "      <th>O3</th>\n",
       "      <th>temp</th>\n",
       "      <th>pressure</th>\n",
       "      <th>dew_point_temp</th>\n",
       "      <th>rain</th>\n",
       "      <th>wind_direction</th>\n",
       "      <th>wind_speed</th>\n",
       "      <th>station</th>\n",
       "      <th>PM2.5</th>\n",
       "    </tr>\n",
       "  </thead>\n",
       "  <tbody>\n",
       "    <tr>\n",
       "      <th>0</th>\n",
       "      <td>1</td>\n",
       "      <td>2013</td>\n",
       "      <td>3</td>\n",
       "      <td>1</td>\n",
       "      <td>0</td>\n",
       "      <td>4.0</td>\n",
       "      <td>4.0</td>\n",
       "      <td>NaN</td>\n",
       "      <td>300.0</td>\n",
       "      <td>77.0</td>\n",
       "      <td>-0.7</td>\n",
       "      <td>NaN</td>\n",
       "      <td>NaN</td>\n",
       "      <td>0.0</td>\n",
       "      <td>NNW</td>\n",
       "      <td>4.4</td>\n",
       "      <td>Aotizhongxin</td>\n",
       "      <td>4.0</td>\n",
       "    </tr>\n",
       "    <tr>\n",
       "      <th>1</th>\n",
       "      <td>2</td>\n",
       "      <td>2013</td>\n",
       "      <td>3</td>\n",
       "      <td>1</td>\n",
       "      <td>1</td>\n",
       "      <td>8.0</td>\n",
       "      <td>4.0</td>\n",
       "      <td>NaN</td>\n",
       "      <td>300.0</td>\n",
       "      <td>77.0</td>\n",
       "      <td>-1.1</td>\n",
       "      <td>NaN</td>\n",
       "      <td>NaN</td>\n",
       "      <td>0.0</td>\n",
       "      <td>N</td>\n",
       "      <td>4.7</td>\n",
       "      <td>Aotizhongxin</td>\n",
       "      <td>8.0</td>\n",
       "    </tr>\n",
       "    <tr>\n",
       "      <th>2</th>\n",
       "      <td>3</td>\n",
       "      <td>2013</td>\n",
       "      <td>3</td>\n",
       "      <td>1</td>\n",
       "      <td>2</td>\n",
       "      <td>7.0</td>\n",
       "      <td>5.0</td>\n",
       "      <td>NaN</td>\n",
       "      <td>300.0</td>\n",
       "      <td>73.0</td>\n",
       "      <td>-1.1</td>\n",
       "      <td>NaN</td>\n",
       "      <td>NaN</td>\n",
       "      <td>0.0</td>\n",
       "      <td>NNW</td>\n",
       "      <td>5.6</td>\n",
       "      <td>Aotizhongxin</td>\n",
       "      <td>7.0</td>\n",
       "    </tr>\n",
       "    <tr>\n",
       "      <th>3</th>\n",
       "      <td>4</td>\n",
       "      <td>2013</td>\n",
       "      <td>3</td>\n",
       "      <td>1</td>\n",
       "      <td>3</td>\n",
       "      <td>6.0</td>\n",
       "      <td>11.0</td>\n",
       "      <td>NaN</td>\n",
       "      <td>300.0</td>\n",
       "      <td>72.0</td>\n",
       "      <td>-1.4</td>\n",
       "      <td>NaN</td>\n",
       "      <td>NaN</td>\n",
       "      <td>0.0</td>\n",
       "      <td>NW</td>\n",
       "      <td>3.1</td>\n",
       "      <td>Aotizhongxin</td>\n",
       "      <td>6.0</td>\n",
       "    </tr>\n",
       "    <tr>\n",
       "      <th>4</th>\n",
       "      <td>5</td>\n",
       "      <td>2013</td>\n",
       "      <td>3</td>\n",
       "      <td>1</td>\n",
       "      <td>4</td>\n",
       "      <td>3.0</td>\n",
       "      <td>12.0</td>\n",
       "      <td>NaN</td>\n",
       "      <td>300.0</td>\n",
       "      <td>72.0</td>\n",
       "      <td>-2.0</td>\n",
       "      <td>NaN</td>\n",
       "      <td>NaN</td>\n",
       "      <td>0.0</td>\n",
       "      <td>N</td>\n",
       "      <td>2.0</td>\n",
       "      <td>Aotizhongxin</td>\n",
       "      <td>3.0</td>\n",
       "    </tr>\n",
       "    <tr>\n",
       "      <th>...</th>\n",
       "      <td>...</td>\n",
       "      <td>...</td>\n",
       "      <td>...</td>\n",
       "      <td>...</td>\n",
       "      <td>...</td>\n",
       "      <td>...</td>\n",
       "      <td>...</td>\n",
       "      <td>...</td>\n",
       "      <td>...</td>\n",
       "      <td>...</td>\n",
       "      <td>...</td>\n",
       "      <td>...</td>\n",
       "      <td>...</td>\n",
       "      <td>...</td>\n",
       "      <td>...</td>\n",
       "      <td>...</td>\n",
       "      <td>...</td>\n",
       "      <td>...</td>\n",
       "    </tr>\n",
       "    <tr>\n",
       "      <th>35059</th>\n",
       "      <td>35060</td>\n",
       "      <td>2017</td>\n",
       "      <td>2</td>\n",
       "      <td>28</td>\n",
       "      <td>19</td>\n",
       "      <td>32.0</td>\n",
       "      <td>3.0</td>\n",
       "      <td>NaN</td>\n",
       "      <td>400.0</td>\n",
       "      <td>72.0</td>\n",
       "      <td>12.5</td>\n",
       "      <td>NaN</td>\n",
       "      <td>NaN</td>\n",
       "      <td>0.0</td>\n",
       "      <td>NW</td>\n",
       "      <td>2.4</td>\n",
       "      <td>Wanshouxigong</td>\n",
       "      <td>11.0</td>\n",
       "    </tr>\n",
       "    <tr>\n",
       "      <th>35060</th>\n",
       "      <td>35061</td>\n",
       "      <td>2017</td>\n",
       "      <td>2</td>\n",
       "      <td>28</td>\n",
       "      <td>20</td>\n",
       "      <td>32.0</td>\n",
       "      <td>3.0</td>\n",
       "      <td>NaN</td>\n",
       "      <td>500.0</td>\n",
       "      <td>50.0</td>\n",
       "      <td>11.6</td>\n",
       "      <td>NaN</td>\n",
       "      <td>NaN</td>\n",
       "      <td>0.0</td>\n",
       "      <td>WNW</td>\n",
       "      <td>0.9</td>\n",
       "      <td>Wanshouxigong</td>\n",
       "      <td>13.0</td>\n",
       "    </tr>\n",
       "    <tr>\n",
       "      <th>35061</th>\n",
       "      <td>35062</td>\n",
       "      <td>2017</td>\n",
       "      <td>2</td>\n",
       "      <td>28</td>\n",
       "      <td>21</td>\n",
       "      <td>28.0</td>\n",
       "      <td>4.0</td>\n",
       "      <td>NaN</td>\n",
       "      <td>500.0</td>\n",
       "      <td>54.0</td>\n",
       "      <td>10.8</td>\n",
       "      <td>NaN</td>\n",
       "      <td>NaN</td>\n",
       "      <td>0.0</td>\n",
       "      <td>NW</td>\n",
       "      <td>1.1</td>\n",
       "      <td>Wanshouxigong</td>\n",
       "      <td>14.0</td>\n",
       "    </tr>\n",
       "    <tr>\n",
       "      <th>35062</th>\n",
       "      <td>35063</td>\n",
       "      <td>2017</td>\n",
       "      <td>2</td>\n",
       "      <td>28</td>\n",
       "      <td>22</td>\n",
       "      <td>23.0</td>\n",
       "      <td>4.0</td>\n",
       "      <td>NaN</td>\n",
       "      <td>400.0</td>\n",
       "      <td>59.0</td>\n",
       "      <td>10.5</td>\n",
       "      <td>NaN</td>\n",
       "      <td>NaN</td>\n",
       "      <td>0.0</td>\n",
       "      <td>NNW</td>\n",
       "      <td>1.2</td>\n",
       "      <td>Wanshouxigong</td>\n",
       "      <td>12.0</td>\n",
       "    </tr>\n",
       "    <tr>\n",
       "      <th>35063</th>\n",
       "      <td>35064</td>\n",
       "      <td>2017</td>\n",
       "      <td>2</td>\n",
       "      <td>28</td>\n",
       "      <td>23</td>\n",
       "      <td>19.0</td>\n",
       "      <td>4.0</td>\n",
       "      <td>NaN</td>\n",
       "      <td>600.0</td>\n",
       "      <td>49.0</td>\n",
       "      <td>8.6</td>\n",
       "      <td>NaN</td>\n",
       "      <td>NaN</td>\n",
       "      <td>0.0</td>\n",
       "      <td>NNE</td>\n",
       "      <td>1.3</td>\n",
       "      <td>Wanshouxigong</td>\n",
       "      <td>13.0</td>\n",
       "    </tr>\n",
       "  </tbody>\n",
       "</table>\n",
       "<p>420768 rows × 18 columns</p>\n",
       "</div>"
      ],
      "text/plain": [
       "          No  year month  day  hour  PM10   SO2  NO2     CO    O3  temp  \\\n",
       "0          1  2013     3    1     0   4.0   4.0  NaN  300.0  77.0  -0.7   \n",
       "1          2  2013     3    1     1   8.0   4.0  NaN  300.0  77.0  -1.1   \n",
       "2          3  2013     3    1     2   7.0   5.0  NaN  300.0  73.0  -1.1   \n",
       "3          4  2013     3    1     3   6.0  11.0  NaN  300.0  72.0  -1.4   \n",
       "4          5  2013     3    1     4   3.0  12.0  NaN  300.0  72.0  -2.0   \n",
       "...      ...   ...   ...  ...   ...   ...   ...  ...    ...   ...   ...   \n",
       "35059  35060  2017     2   28    19  32.0   3.0  NaN  400.0  72.0  12.5   \n",
       "35060  35061  2017     2   28    20  32.0   3.0  NaN  500.0  50.0  11.6   \n",
       "35061  35062  2017     2   28    21  28.0   4.0  NaN  500.0  54.0  10.8   \n",
       "35062  35063  2017     2   28    22  23.0   4.0  NaN  400.0  59.0  10.5   \n",
       "35063  35064  2017     2   28    23  19.0   4.0  NaN  600.0  49.0   8.6   \n",
       "\n",
       "       pressure  dew_point_temp  rain wind_direction  wind_speed  \\\n",
       "0           NaN             NaN   0.0            NNW         4.4   \n",
       "1           NaN             NaN   0.0              N         4.7   \n",
       "2           NaN             NaN   0.0            NNW         5.6   \n",
       "3           NaN             NaN   0.0             NW         3.1   \n",
       "4           NaN             NaN   0.0              N         2.0   \n",
       "...         ...             ...   ...            ...         ...   \n",
       "35059       NaN             NaN   0.0             NW         2.4   \n",
       "35060       NaN             NaN   0.0            WNW         0.9   \n",
       "35061       NaN             NaN   0.0             NW         1.1   \n",
       "35062       NaN             NaN   0.0            NNW         1.2   \n",
       "35063       NaN             NaN   0.0            NNE         1.3   \n",
       "\n",
       "             station  PM2.5  \n",
       "0       Aotizhongxin    4.0  \n",
       "1       Aotizhongxin    8.0  \n",
       "2       Aotizhongxin    7.0  \n",
       "3       Aotizhongxin    6.0  \n",
       "4       Aotizhongxin    3.0  \n",
       "...              ...    ...  \n",
       "35059  Wanshouxigong   11.0  \n",
       "35060  Wanshouxigong   13.0  \n",
       "35061  Wanshouxigong   14.0  \n",
       "35062  Wanshouxigong   12.0  \n",
       "35063  Wanshouxigong   13.0  \n",
       "\n",
       "[420768 rows x 18 columns]"
      ]
     },
     "execution_count": 45,
     "metadata": {},
     "output_type": "execute_result"
    }
   ],
   "source": [
    "setindex=['No', 'year', 'month', 'day', 'hour', 'PM10', 'SO2', 'NO2',\n",
    "       'CO', 'O3', 'temp', 'pressure', 'dew_point_temp', 'rain',\n",
    "       'wind_direction', 'wind_speed', 'station', 'PM2.5']\n",
    "df_reindex.reindex(setindex,axis='columns')"
   ]
  },
  {
   "cell_type": "markdown",
   "metadata": {},
   "source": [
    "test gvhjhjk "
   ]
  },
  {
   "cell_type": "markdown",
   "metadata": {},
   "source": []
  }
 ],
 "metadata": {
  "kernelspec": {
   "display_name": "Python 3",
   "language": "python",
   "name": "python3"
  },
  "language_info": {
   "codemirror_mode": {
    "name": "ipython",
    "version": 3
   },
   "file_extension": ".py",
   "mimetype": "text/x-python",
   "name": "python",
   "nbconvert_exporter": "python",
   "pygments_lexer": "ipython3",
   "version": "3.8.3"
  }
 },
 "nbformat": 4,
 "nbformat_minor": 4
}
