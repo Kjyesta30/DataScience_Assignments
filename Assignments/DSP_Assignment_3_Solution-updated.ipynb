{
 "cells": [
  {
   "cell_type": "code",
   "execution_count": 98,
   "metadata": {},
   "outputs": [],
   "source": [
    "#Importing all the required libraries\n",
    "import numpy as np\n",
    "import pandas as pd\n",
    "from math import sqrt\n",
    "import matplotlib.pyplot as plt\n",
    "import seaborn as sns\n",
    "from sklearn.model_selection import train_test_split\n",
    "from sklearn.preprocessing import LabelEncoder\n",
    "from sklearn.preprocessing import StandardScaler\n",
    "from sklearn.metrics import accuracy_score\n",
    "from sklearn.metrics import confusion_matrix\n",
    "from sklearn.feature_selection import SelectFromModel\n",
    "# from sklearn.model_selection import learning_curve\n",
    "from sklearn import tree\n",
    "from sklearn import svm\n",
    "from sklearn.metrics import f1_score\n",
    "import warnings\n",
    "warnings.simplefilter('ignore')"
   ]
  },
  {
   "cell_type": "code",
   "execution_count": 99,
   "metadata": {},
   "outputs": [],
   "source": [
    "#importing the dataset\n",
    "df1 = pd.read_csv(\"train_values.csv\")\n",
    "df2 = pd.read_csv(\"train_labels.csv\")"
   ]
  },
  {
   "cell_type": "code",
   "execution_count": 100,
   "metadata": {},
   "outputs": [],
   "source": [
    "#merging datasets:\n",
    "df_merged = pd.merge(df1,df2)"
   ]
  },
  {
   "cell_type": "code",
   "execution_count": 101,
   "metadata": {},
   "outputs": [],
   "source": [
    "df_merged = df_merged.sample(frac = 0.1)"
   ]
  },
  {
   "cell_type": "code",
   "execution_count": 102,
   "metadata": {},
   "outputs": [
    {
     "data": {
      "text/html": [
       "<div>\n",
       "<style scoped>\n",
       "    .dataframe tbody tr th:only-of-type {\n",
       "        vertical-align: middle;\n",
       "    }\n",
       "\n",
       "    .dataframe tbody tr th {\n",
       "        vertical-align: top;\n",
       "    }\n",
       "\n",
       "    .dataframe thead th {\n",
       "        text-align: right;\n",
       "    }\n",
       "</style>\n",
       "<table border=\"1\" class=\"dataframe\">\n",
       "  <thead>\n",
       "    <tr style=\"text-align: right;\">\n",
       "      <th></th>\n",
       "      <th>building_id</th>\n",
       "      <th>geo_level_1_id</th>\n",
       "      <th>geo_level_2_id</th>\n",
       "      <th>geo_level_3_id</th>\n",
       "      <th>count_floors_pre_eq</th>\n",
       "      <th>age</th>\n",
       "      <th>area_percentage</th>\n",
       "      <th>height_percentage</th>\n",
       "      <th>land_surface_condition</th>\n",
       "      <th>foundation_type</th>\n",
       "      <th>...</th>\n",
       "      <th>has_secondary_use_hotel</th>\n",
       "      <th>has_secondary_use_rental</th>\n",
       "      <th>has_secondary_use_institution</th>\n",
       "      <th>has_secondary_use_school</th>\n",
       "      <th>has_secondary_use_industry</th>\n",
       "      <th>has_secondary_use_health_post</th>\n",
       "      <th>has_secondary_use_gov_office</th>\n",
       "      <th>has_secondary_use_use_police</th>\n",
       "      <th>has_secondary_use_other</th>\n",
       "      <th>damage_grade</th>\n",
       "    </tr>\n",
       "  </thead>\n",
       "  <tbody>\n",
       "    <tr>\n",
       "      <th>90117</th>\n",
       "      <td>549563</td>\n",
       "      <td>20</td>\n",
       "      <td>517</td>\n",
       "      <td>6489</td>\n",
       "      <td>2</td>\n",
       "      <td>20</td>\n",
       "      <td>10</td>\n",
       "      <td>7</td>\n",
       "      <td>t</td>\n",
       "      <td>w</td>\n",
       "      <td>...</td>\n",
       "      <td>0</td>\n",
       "      <td>0</td>\n",
       "      <td>0</td>\n",
       "      <td>0</td>\n",
       "      <td>0</td>\n",
       "      <td>0</td>\n",
       "      <td>0</td>\n",
       "      <td>0</td>\n",
       "      <td>0</td>\n",
       "      <td>2</td>\n",
       "    </tr>\n",
       "    <tr>\n",
       "      <th>3592</th>\n",
       "      <td>1006428</td>\n",
       "      <td>9</td>\n",
       "      <td>772</td>\n",
       "      <td>12334</td>\n",
       "      <td>1</td>\n",
       "      <td>5</td>\n",
       "      <td>3</td>\n",
       "      <td>2</td>\n",
       "      <td>t</td>\n",
       "      <td>r</td>\n",
       "      <td>...</td>\n",
       "      <td>0</td>\n",
       "      <td>0</td>\n",
       "      <td>0</td>\n",
       "      <td>0</td>\n",
       "      <td>0</td>\n",
       "      <td>0</td>\n",
       "      <td>0</td>\n",
       "      <td>0</td>\n",
       "      <td>0</td>\n",
       "      <td>2</td>\n",
       "    </tr>\n",
       "    <tr>\n",
       "      <th>50777</th>\n",
       "      <td>619208</td>\n",
       "      <td>10</td>\n",
       "      <td>1207</td>\n",
       "      <td>3095</td>\n",
       "      <td>2</td>\n",
       "      <td>30</td>\n",
       "      <td>6</td>\n",
       "      <td>5</td>\n",
       "      <td>t</td>\n",
       "      <td>r</td>\n",
       "      <td>...</td>\n",
       "      <td>0</td>\n",
       "      <td>0</td>\n",
       "      <td>0</td>\n",
       "      <td>0</td>\n",
       "      <td>0</td>\n",
       "      <td>0</td>\n",
       "      <td>0</td>\n",
       "      <td>0</td>\n",
       "      <td>0</td>\n",
       "      <td>2</td>\n",
       "    </tr>\n",
       "  </tbody>\n",
       "</table>\n",
       "<p>3 rows × 40 columns</p>\n",
       "</div>"
      ],
      "text/plain": [
       "       building_id  geo_level_1_id  geo_level_2_id  geo_level_3_id  \\\n",
       "90117       549563              20             517            6489   \n",
       "3592       1006428               9             772           12334   \n",
       "50777       619208              10            1207            3095   \n",
       "\n",
       "       count_floors_pre_eq  age  area_percentage  height_percentage  \\\n",
       "90117                    2   20               10                  7   \n",
       "3592                     1    5                3                  2   \n",
       "50777                    2   30                6                  5   \n",
       "\n",
       "      land_surface_condition foundation_type  ... has_secondary_use_hotel  \\\n",
       "90117                      t               w  ...                       0   \n",
       "3592                       t               r  ...                       0   \n",
       "50777                      t               r  ...                       0   \n",
       "\n",
       "      has_secondary_use_rental has_secondary_use_institution  \\\n",
       "90117                        0                             0   \n",
       "3592                         0                             0   \n",
       "50777                        0                             0   \n",
       "\n",
       "      has_secondary_use_school has_secondary_use_industry  \\\n",
       "90117                        0                          0   \n",
       "3592                         0                          0   \n",
       "50777                        0                          0   \n",
       "\n",
       "       has_secondary_use_health_post  has_secondary_use_gov_office  \\\n",
       "90117                              0                             0   \n",
       "3592                               0                             0   \n",
       "50777                              0                             0   \n",
       "\n",
       "       has_secondary_use_use_police  has_secondary_use_other  damage_grade  \n",
       "90117                             0                        0             2  \n",
       "3592                              0                        0             2  \n",
       "50777                             0                        0             2  \n",
       "\n",
       "[3 rows x 40 columns]"
      ]
     },
     "execution_count": 102,
     "metadata": {},
     "output_type": "execute_result"
    }
   ],
   "source": [
    "#checking the dataframe\n",
    "df_merged.head(3)"
   ]
  },
  {
   "cell_type": "markdown",
   "metadata": {},
   "source": [
    "# 1"
   ]
  },
  {
   "cell_type": "code",
   "execution_count": 103,
   "metadata": {},
   "outputs": [
    {
     "data": {
      "text/plain": [
       "building_id                               0\n",
       "geo_level_1_id                            0\n",
       "geo_level_2_id                            0\n",
       "geo_level_3_id                            0\n",
       "count_floors_pre_eq                       0\n",
       "age                                       0\n",
       "area_percentage                           0\n",
       "height_percentage                         0\n",
       "land_surface_condition                    0\n",
       "foundation_type                           0\n",
       "roof_type                                 0\n",
       "ground_floor_type                         0\n",
       "other_floor_type                          0\n",
       "position                                  0\n",
       "plan_configuration                        0\n",
       "has_superstructure_adobe_mud              0\n",
       "has_superstructure_mud_mortar_stone       0\n",
       "has_superstructure_stone_flag             0\n",
       "has_superstructure_cement_mortar_stone    0\n",
       "has_superstructure_mud_mortar_brick       0\n",
       "has_superstructure_cement_mortar_brick    0\n",
       "has_superstructure_timber                 0\n",
       "has_superstructure_bamboo                 0\n",
       "has_superstructure_rc_non_engineered      0\n",
       "has_superstructure_rc_engineered          0\n",
       "has_superstructure_other                  0\n",
       "legal_ownership_status                    0\n",
       "count_families                            0\n",
       "has_secondary_use                         0\n",
       "has_secondary_use_agriculture             0\n",
       "has_secondary_use_hotel                   0\n",
       "has_secondary_use_rental                  0\n",
       "has_secondary_use_institution             0\n",
       "has_secondary_use_school                  0\n",
       "has_secondary_use_industry                0\n",
       "has_secondary_use_health_post             0\n",
       "has_secondary_use_gov_office              0\n",
       "has_secondary_use_use_police              0\n",
       "has_secondary_use_other                   0\n",
       "damage_grade                              0\n",
       "dtype: int64"
      ]
     },
     "execution_count": 103,
     "metadata": {},
     "output_type": "execute_result"
    }
   ],
   "source": [
    "#checking for null values:\n",
    "df_merged.isnull().sum()"
   ]
  },
  {
   "cell_type": "code",
   "execution_count": 104,
   "metadata": {},
   "outputs": [
    {
     "data": {
      "text/plain": [
       "building_id                                int64\n",
       "geo_level_1_id                             int64\n",
       "geo_level_2_id                             int64\n",
       "geo_level_3_id                             int64\n",
       "count_floors_pre_eq                        int64\n",
       "age                                        int64\n",
       "area_percentage                            int64\n",
       "height_percentage                          int64\n",
       "land_surface_condition                    object\n",
       "foundation_type                           object\n",
       "roof_type                                 object\n",
       "ground_floor_type                         object\n",
       "other_floor_type                          object\n",
       "position                                  object\n",
       "plan_configuration                        object\n",
       "has_superstructure_adobe_mud               int64\n",
       "has_superstructure_mud_mortar_stone        int64\n",
       "has_superstructure_stone_flag              int64\n",
       "has_superstructure_cement_mortar_stone     int64\n",
       "has_superstructure_mud_mortar_brick        int64\n",
       "has_superstructure_cement_mortar_brick     int64\n",
       "has_superstructure_timber                  int64\n",
       "has_superstructure_bamboo                  int64\n",
       "has_superstructure_rc_non_engineered       int64\n",
       "has_superstructure_rc_engineered           int64\n",
       "has_superstructure_other                   int64\n",
       "legal_ownership_status                    object\n",
       "count_families                             int64\n",
       "has_secondary_use                          int64\n",
       "has_secondary_use_agriculture              int64\n",
       "has_secondary_use_hotel                    int64\n",
       "has_secondary_use_rental                   int64\n",
       "has_secondary_use_institution              int64\n",
       "has_secondary_use_school                   int64\n",
       "has_secondary_use_industry                 int64\n",
       "has_secondary_use_health_post              int64\n",
       "has_secondary_use_gov_office               int64\n",
       "has_secondary_use_use_police               int64\n",
       "has_secondary_use_other                    int64\n",
       "damage_grade                               int64\n",
       "dtype: object"
      ]
     },
     "execution_count": 104,
     "metadata": {},
     "output_type": "execute_result"
    }
   ],
   "source": [
    "#checking the types of variables:\n",
    "df_merged.dtypes"
   ]
  },
  {
   "cell_type": "code",
   "execution_count": 105,
   "metadata": {},
   "outputs": [],
   "source": [
    "#reindexing to make the next steps easier\n",
    "df_merged = df_merged.reindex(columns = ['building_id', 'geo_level_1_id', 'geo_level_2_id', 'geo_level_3_id',\n",
    "       'count_floors_pre_eq', 'age', 'area_percentage', 'height_percentage','count_families',\n",
    "       'land_surface_condition', 'foundation_type', 'roof_type',\n",
    "       'ground_floor_type', 'other_floor_type', 'position',\n",
    "       'plan_configuration', 'has_superstructure_adobe_mud',\n",
    "       'has_superstructure_mud_mortar_stone', 'has_superstructure_stone_flag',\n",
    "       'has_superstructure_cement_mortar_stone',\n",
    "       'has_superstructure_mud_mortar_brick',\n",
    "       'has_superstructure_cement_mortar_brick', 'has_superstructure_timber',\n",
    "       'has_superstructure_bamboo', 'has_superstructure_rc_non_engineered',\n",
    "       'has_superstructure_rc_engineered', 'has_superstructure_other',\n",
    "       'legal_ownership_status', 'has_secondary_use',\n",
    "       'has_secondary_use_agriculture', 'has_secondary_use_hotel',\n",
    "       'has_secondary_use_rental', 'has_secondary_use_institution',\n",
    "       'has_secondary_use_school', 'has_secondary_use_industry',\n",
    "       'has_secondary_use_health_post', 'has_secondary_use_gov_office',\n",
    "       'has_secondary_use_use_police', 'has_secondary_use_other',\n",
    "       'damage_grade'])"
   ]
  },
  {
   "cell_type": "code",
   "execution_count": 106,
   "metadata": {},
   "outputs": [],
   "source": [
    "#changing categorical datatypes to category\n",
    "df_merged.iloc[:,9:40] = df_merged.iloc[:,9:40].astype('category')"
   ]
  },
  {
   "cell_type": "code",
   "execution_count": 107,
   "metadata": {},
   "outputs": [
    {
     "data": {
      "text/plain": [
       "building_id                                  int64\n",
       "geo_level_1_id                               int64\n",
       "geo_level_2_id                               int64\n",
       "geo_level_3_id                               int64\n",
       "count_floors_pre_eq                          int64\n",
       "age                                          int64\n",
       "area_percentage                              int64\n",
       "height_percentage                            int64\n",
       "count_families                               int64\n",
       "land_surface_condition                    category\n",
       "foundation_type                           category\n",
       "roof_type                                 category\n",
       "ground_floor_type                         category\n",
       "other_floor_type                          category\n",
       "position                                  category\n",
       "plan_configuration                        category\n",
       "has_superstructure_adobe_mud              category\n",
       "has_superstructure_mud_mortar_stone       category\n",
       "has_superstructure_stone_flag             category\n",
       "has_superstructure_cement_mortar_stone    category\n",
       "has_superstructure_mud_mortar_brick       category\n",
       "has_superstructure_cement_mortar_brick    category\n",
       "has_superstructure_timber                 category\n",
       "has_superstructure_bamboo                 category\n",
       "has_superstructure_rc_non_engineered      category\n",
       "has_superstructure_rc_engineered          category\n",
       "has_superstructure_other                  category\n",
       "legal_ownership_status                    category\n",
       "has_secondary_use                         category\n",
       "has_secondary_use_agriculture             category\n",
       "has_secondary_use_hotel                   category\n",
       "has_secondary_use_rental                  category\n",
       "has_secondary_use_institution             category\n",
       "has_secondary_use_school                  category\n",
       "has_secondary_use_industry                category\n",
       "has_secondary_use_health_post             category\n",
       "has_secondary_use_gov_office              category\n",
       "has_secondary_use_use_police              category\n",
       "has_secondary_use_other                   category\n",
       "damage_grade                              category\n",
       "dtype: object"
      ]
     },
     "execution_count": 107,
     "metadata": {},
     "output_type": "execute_result"
    }
   ],
   "source": [
    "df_merged.dtypes"
   ]
  },
  {
   "cell_type": "code",
   "execution_count": 108,
   "metadata": {},
   "outputs": [
    {
     "data": {
      "text/plain": [
       "count_floors_pre_eq  height_percentage      0.771731\n",
       "height_percentage    count_floors_pre_eq    0.771731\n",
       "dtype: float64"
      ]
     },
     "execution_count": 108,
     "metadata": {},
     "output_type": "execute_result"
    }
   ],
   "source": [
    "#checking correlation\n",
    "c = df_merged.corr().abs()\n",
    "c = c[(c > 0.70) & (c < 1.0)]\n",
    "sort = c.unstack() #unstacking to change the pivot index to column labels\n",
    "highly_correlated = sort.sort_values(kind=\"quicksort\") # sorting to see the order of correlation between the columns\n",
    "highly_correlated = highly_correlated.dropna() # to drop the values that have NAN's for total cases column\n",
    "highly_correlated\n"
   ]
  },
  {
   "cell_type": "markdown",
   "metadata": {},
   "source": [
    "Correlation between independent variables more than 0.7 and removing them."
   ]
  },
  {
   "cell_type": "code",
   "execution_count": 109,
   "metadata": {},
   "outputs": [],
   "source": [
    "df_merged = df_merged.drop(['count_floors_pre_eq'], axis = 1)"
   ]
  },
  {
   "cell_type": "markdown",
   "metadata": {},
   "source": [
    "# 2"
   ]
  },
  {
   "cell_type": "code",
   "execution_count": 110,
   "metadata": {},
   "outputs": [],
   "source": [
    "#changing the percentage values to normal values\n",
    "df_merged['area_percentage'] = df_merged['area_percentage']/100\n",
    "df_merged['height_percentage'] = df_merged['height_percentage']/100"
   ]
  },
  {
   "cell_type": "code",
   "execution_count": 111,
   "metadata": {},
   "outputs": [],
   "source": [
    "#splitting the dataset\n",
    "X_train, X_test, y_train, y_test = train_test_split(df_merged.iloc[:,0:38], df_merged.iloc[:,-1],stratify = df_merged['damage_grade'], test_size=0.3)"
   ]
  },
  {
   "cell_type": "code",
   "execution_count": 112,
   "metadata": {},
   "outputs": [
    {
     "name": "stdout",
     "output_type": "stream",
     "text": [
      "2    0.574559\n",
      "3    0.329048\n",
      "1    0.096393\n",
      "Name: damage_grade, dtype: float64\n",
      "2    0.574553\n",
      "3    0.329076\n",
      "1    0.096371\n",
      "Name: damage_grade, dtype: float64\n",
      "2    0.574572\n",
      "3    0.328984\n",
      "1    0.096444\n",
      "Name: damage_grade, dtype: float64\n"
     ]
    }
   ],
   "source": [
    "#checking the split\n",
    "print(df_merged[\"damage_grade\"].value_counts()/len(df_merged))\n",
    "print(y_train.value_counts()/len(y_train))\n",
    "print(y_test.value_counts()/len(y_test))"
   ]
  },
  {
   "cell_type": "code",
   "execution_count": 113,
   "metadata": {},
   "outputs": [],
   "source": [
    "le = LabelEncoder()\n",
    "\n",
    "X_train[\"land_surface_condition\"]=le.fit_transform(X_train[\"land_surface_condition\"])\n",
    "X_test[\"land_surface_condition\"]= le.transform(X_test[\"land_surface_condition\"])\n",
    "\n",
    "X_train[\"foundation_type\"]=le.fit_transform(X_train[\"foundation_type\"])\n",
    "X_test[\"foundation_type\"]= le.transform(X_test[\"foundation_type\"])\n",
    "\n",
    "X_train[\"roof_type\"]=le.fit_transform(X_train[\"roof_type\"])\n",
    "X_test[\"roof_type\"]= le.transform(X_test[\"roof_type\"])\n",
    "\n",
    "X_train[\"ground_floor_type\"]=le.fit_transform(X_train[\"ground_floor_type\"])\n",
    "X_test[\"ground_floor_type\"]= le.transform(X_test[\"ground_floor_type\"])\n",
    "\n",
    "X_train[\"other_floor_type\"]=le.fit_transform(X_train[\"other_floor_type\"])\n",
    "X_test[\"other_floor_type\"]= le.transform(X_test[\"other_floor_type\"])\n",
    "\n",
    "X_train[\"position\"]=le.fit_transform(X_train[\"position\"])\n",
    "X_test[\"position\"]= le.transform(X_test[\"position\"])\n",
    "\n",
    "X_train[\"legal_ownership_status\"]=le.fit_transform(X_train[\"legal_ownership_status\"])\n",
    "X_test[\"legal_ownership_status\"]= le.transform(X_test[\"legal_ownership_status\"])\n",
    "\n",
    "\n",
    "X_train[\"plan_configuration\"]=le.fit_transform(X_train[\"plan_configuration\"])\n",
    "X_test[\"plan_configuration\"]= le.transform(X_test[\"plan_configuration\"])\n",
    "\n",
    "\n",
    "\n",
    "\n"
   ]
  },
  {
   "cell_type": "code",
   "execution_count": 114,
   "metadata": {},
   "outputs": [],
   "source": [
    "#Scaling the numerical features\n",
    "categorical_columns = ['land_surface_condition', 'foundation_type', 'roof_type',\n",
    "       'ground_floor_type', 'other_floor_type', 'position',\n",
    "       'plan_configuration', 'has_superstructure_adobe_mud',\n",
    "       'has_superstructure_mud_mortar_stone', 'has_superstructure_stone_flag',\n",
    "       'has_superstructure_cement_mortar_stone',\n",
    "       'has_superstructure_mud_mortar_brick',\n",
    "       'has_superstructure_cement_mortar_brick', 'has_superstructure_timber',\n",
    "       'has_superstructure_bamboo', 'has_superstructure_rc_non_engineered',\n",
    "       'has_superstructure_rc_engineered', 'has_superstructure_other',\n",
    "       'legal_ownership_status', 'has_secondary_use',\n",
    "       'has_secondary_use_agriculture', 'has_secondary_use_hotel',\n",
    "       'has_secondary_use_rental', 'has_secondary_use_institution',\n",
    "       'has_secondary_use_school', 'has_secondary_use_industry',\n",
    "       'has_secondary_use_health_post', 'has_secondary_use_gov_office',\n",
    "       'has_secondary_use_use_police', 'has_secondary_use_other']\n",
    "\n",
    "X_train_1 = X_train[categorical_columns]\n",
    "X_test_1 = X_test[categorical_columns]\n",
    "\n",
    "scaler = StandardScaler()\n",
    "standardized_numeric_data = scaler.fit_transform(X_train.drop(columns=categorical_columns))\n",
    "X_train_final = np.concatenate((standardized_numeric_data,np.array(X_train_1)),axis=1)\n",
    "standardized_numeric_data = scaler.transform(X_test.drop(columns=categorical_columns))\n",
    "X_test_final = np.concatenate((standardized_numeric_data,np.array(X_test_1)),axis=1)\n",
    "\n"
   ]
  },
  {
   "cell_type": "markdown",
   "metadata": {},
   "source": [
    "# 3 Modelling"
   ]
  },
  {
   "cell_type": "code",
   "execution_count": 115,
   "metadata": {},
   "outputs": [
    {
     "data": {
      "text/plain": [
       "SVC(class_weight='balanced')"
      ]
     },
     "execution_count": 115,
     "metadata": {},
     "output_type": "execute_result"
    }
   ],
   "source": [
    "#model fitting\n",
    "svc = svm.SVC(class_weight= 'balanced')\n",
    "svc.fit(X_train_final, y_train)"
   ]
  },
  {
   "cell_type": "code",
   "execution_count": 116,
   "metadata": {},
   "outputs": [],
   "source": [
    "y_predict = svc.predict(X_test_final)"
   ]
  },
  {
   "cell_type": "code",
   "execution_count": 117,
   "metadata": {},
   "outputs": [
    {
     "data": {
      "text/plain": [
       "array([[ 507,  115,  132],\n",
       "       [ 699, 1707, 2086],\n",
       "       [ 101,  582, 1889]], dtype=int64)"
      ]
     },
     "execution_count": 117,
     "metadata": {},
     "output_type": "execute_result"
    }
   ],
   "source": [
    "confusion_matrix(y_test,y_predict)"
   ]
  },
  {
   "cell_type": "code",
   "execution_count": 118,
   "metadata": {},
   "outputs": [
    {
     "name": "stdout",
     "output_type": "stream",
     "text": [
      "0.5248145305704783\n"
     ]
    }
   ],
   "source": [
    "accuracy = accuracy_score(y_test,y_predict)\n",
    "print(accuracy)"
   ]
  },
  {
   "cell_type": "code",
   "execution_count": 119,
   "metadata": {},
   "outputs": [
    {
     "name": "stdout",
     "output_type": "stream",
     "text": [
      "              precision    recall  f1-score   support\n",
      "\n",
      "           1       0.39      0.67      0.49       754\n",
      "           2       0.71      0.38      0.50      4492\n",
      "           3       0.46      0.73      0.57      2572\n",
      "\n",
      "    accuracy                           0.52      7818\n",
      "   macro avg       0.52      0.60      0.52      7818\n",
      "weighted avg       0.60      0.52      0.52      7818\n",
      "\n"
     ]
    }
   ],
   "source": [
    "from sklearn.metrics import classification_report\n",
    "report = classification_report(y_test,y_predict)\n",
    "print(report)\n"
   ]
  },
  {
   "cell_type": "code",
   "execution_count": 120,
   "metadata": {},
   "outputs": [
    {
     "data": {
      "text/plain": [
       "0.5248145305704783"
      ]
     },
     "execution_count": 120,
     "metadata": {},
     "output_type": "execute_result"
    }
   ],
   "source": [
    "f1_score(y_test, y_predict, average='micro')"
   ]
  },
  {
   "cell_type": "markdown",
   "metadata": {},
   "source": [
    "Choosing f1 score because it gives a good measure between precision and recall. F1 score is better than accuracy as it accounts for label imbalances."
   ]
  },
  {
   "cell_type": "code",
   "execution_count": 121,
   "metadata": {},
   "outputs": [
    {
     "data": {
      "text/plain": [
       "RandomizedSearchCV(estimator=SVC(class_weight='balanced'),\n",
       "                   param_distributions={'C': [0.1, 0.2, 0.5, 1, 10],\n",
       "                                        'gamma': ['scale', 'auto'],\n",
       "                                        'kernel': ['linear', 'poly', 'rbf',\n",
       "                                                   'sigmoid'],\n",
       "                                        'max_iter': [1000, 5000, 8000]})"
      ]
     },
     "execution_count": 121,
     "metadata": {},
     "output_type": "execute_result"
    }
   ],
   "source": [
    "from sklearn.model_selection import RandomizedSearchCV\n",
    "param_grid = {'C':[0.1,0.2,0.5,1,10],'kernel':['linear', 'poly', 'rbf', 'sigmoid'],'gamma':['scale','auto'],\n",
    "'max_iter':[1000,5000,8000]}\n",
    "random_search = RandomizedSearchCV(svc,param_distributions = param_grid)\n",
    "random_search.fit(X_train_final,y_train)"
   ]
  },
  {
   "cell_type": "code",
   "execution_count": 122,
   "metadata": {},
   "outputs": [
    {
     "data": {
      "text/plain": [
       "SVC(C=0.5, class_weight='balanced', kernel='poly', max_iter=8000)"
      ]
     },
     "execution_count": 122,
     "metadata": {},
     "output_type": "execute_result"
    }
   ],
   "source": [
    "random_search.best_estimator_"
   ]
  },
  {
   "cell_type": "code",
   "execution_count": 127,
   "metadata": {},
   "outputs": [
    {
     "data": {
      "text/plain": [
       "SVC(C=0.5, kernel='poly', max_iter=8000)"
      ]
     },
     "execution_count": 127,
     "metadata": {},
     "output_type": "execute_result"
    }
   ],
   "source": [
    "optimizedSVC = svm.SVC(C=0.5, kernel='poly', max_iter=8000)\n",
    "optimizedSVC.fit(X_train_final,y_train)"
   ]
  },
  {
   "cell_type": "markdown",
   "metadata": {},
   "source": [
    "We can tune \n",
    "'C'- Regularization parameter, which helps us to deal with overfitting. \n",
    "\n",
    "kernel - Specifies the type of kernel, which will help in mapping the data in high dimensional space non-linearly.\n",
    "\n",
    "gamma - kernel coefficient for kernels.\n",
    "\n",
    "max_iter - it helps the model to fix the maximum iterations it can do till the convergence"
   ]
  },
  {
   "cell_type": "code",
   "execution_count": 128,
   "metadata": {},
   "outputs": [
    {
     "data": {
      "text/plain": [
       "0.5892811460731645"
      ]
     },
     "execution_count": 128,
     "metadata": {},
     "output_type": "execute_result"
    }
   ],
   "source": [
    "y_predict = optimizedSVC.predict(X_test_final)\n",
    "f1_score(y_test, y_predict, average='micro')"
   ]
  },
  {
   "cell_type": "code",
   "execution_count": 129,
   "metadata": {},
   "outputs": [
    {
     "name": "stdout",
     "output_type": "stream",
     "text": [
      "0.5892811460731645\n"
     ]
    }
   ],
   "source": [
    "from sklearn.metrics import accuracy_score\n",
    "accuracy = accuracy_score(y_test,y_predict)\n",
    "print(accuracy)"
   ]
  },
  {
   "cell_type": "code",
   "execution_count": 130,
   "metadata": {},
   "outputs": [
    {
     "name": "stdout",
     "output_type": "stream",
     "text": [
      "              precision    recall  f1-score   support\n",
      "\n",
      "           1       0.66      0.22      0.33       754\n",
      "           2       0.59      0.96      0.73      4492\n",
      "           3       0.57      0.05      0.09      2572\n",
      "\n",
      "    accuracy                           0.59      7818\n",
      "   macro avg       0.60      0.41      0.38      7818\n",
      "weighted avg       0.59      0.59      0.48      7818\n",
      "\n"
     ]
    }
   ],
   "source": [
    "from sklearn.metrics import classification_report\n",
    "report = classification_report(y_test,y_predict)\n",
    "print(report)\n"
   ]
  },
  {
   "cell_type": "markdown",
   "metadata": {},
   "source": [
    "F1 score and accuracy has changed by a little"
   ]
  },
  {
   "cell_type": "code",
   "execution_count": 185,
   "metadata": {},
   "outputs": [],
   "source": [
    "def plot_learning_curve(estimator, title, X, y, axes=None, ylim=None, cv=None, scoring=None,\n",
    "                        n_jobs=None,shuffle = None,train_sizes=np.linspace(.1, 1.0, 10)):\n",
    "    \n",
    "    plt.title(title)\n",
    "    \n",
    "    plt.xlabel(\"Training examples\")\n",
    "    plt.ylabel(\"Score\")\n",
    "\n",
    "    train_sizes, train_scores, test_scores, fit_times, _ = \\\n",
    "        learning_curve(estimator, X, y, scoring=scoring,cv=cv, n_jobs=n_jobs, \n",
    "                       train_sizes=train_sizes,shuffle = True,\n",
    "                       return_times=True)\n",
    "    train_scores_mean = np.mean(train_scores, axis=1)\n",
    "    train_scores_std = np.std(train_scores, axis=1)\n",
    "    test_scores_mean = np.mean(test_scores, axis=1)\n",
    "    test_scores_std = np.std(test_scores, axis=1)\n",
    "    \n",
    "    \n",
    "    # Plot learning curve\n",
    "    plt.grid()\n",
    "    plt.fill_between(train_sizes, train_scores_mean - train_scores_std,\n",
    "                         train_scores_mean + train_scores_std, alpha=0.1,\n",
    "                         color=\"r\")\n",
    "    plt.fill_between(train_sizes, test_scores_mean - test_scores_std,\n",
    "                         test_scores_mean + test_scores_std, alpha=0.1,\n",
    "                         color=\"g\")\n",
    "    plt.plot(train_sizes, train_scores_mean, 'o-', color=\"r\",\n",
    "                 label=\"Training score\")\n",
    "    plt.plot(train_sizes, test_scores_mean, 'o-', color=\"g\",\n",
    "                 label=\"Cross-validation score\")\n",
    "    plt.legend(loc=\"best\")\n",
    "\n",
    "    return plt,train_sizes, train_scores, test_scores, fit_times"
   ]
  },
  {
   "cell_type": "code",
   "execution_count": 186,
   "metadata": {},
   "outputs": [
    {
     "data": {
      "image/png": "[encoded data removed]",
      "text/plain": [
       "<Figure size 576x396 with 1 Axes>"
      ]
     },
     "metadata": {},
     "output_type": "display_data"
    }
   ],
   "source": [
    "plt,train_sizes, train_scores, test_scores, fit_times = plot_learning_curve(optimizedSVC,'SVC Learning_Curve', X_train_final, y_train, cv = 3,scoring = 'f1_weighted')\n",
    "plt.show()"
   ]
  },
  {
   "cell_type": "markdown",
   "metadata": {},
   "source": [
    "SVC Learning curve shows that the model fit is not bad as training and cross validation scores have reached together. If we can train them on more examples, the f1 score will improve"
   ]
  },
  {
   "cell_type": "code",
   "execution_count": 161,
   "metadata": {},
   "outputs": [
    {
     "data": {
      "text/plain": [
       "DecisionTreeClassifier()"
      ]
     },
     "execution_count": 161,
     "metadata": {},
     "output_type": "execute_result"
    }
   ],
   "source": [
    "Decision_Tree = tree.DecisionTreeClassifier()\n",
    "Decision_Tree.fit(X_train_final, y_train)\n"
   ]
  },
  {
   "cell_type": "code",
   "execution_count": 111,
   "metadata": {},
   "outputs": [
    {
     "data": {
      "text/plain": [
       "0.5635712458429266"
      ]
     },
     "execution_count": 111,
     "metadata": {},
     "output_type": "execute_result"
    }
   ],
   "source": [
    "y_predict = Decision_Tree.predict(X_test_final)\n",
    "f1_score(y_test, y_predict, average='micro')"
   ]
  },
  {
   "cell_type": "code",
   "execution_count": 116,
   "metadata": {},
   "outputs": [
    {
     "name": "stdout",
     "output_type": "stream",
     "text": [
      "0.5635712458429266\n"
     ]
    }
   ],
   "source": [
    "accuracy = accuracy_score(y_test,y_predict)\n",
    "print(accuracy)"
   ]
  },
  {
   "cell_type": "code",
   "execution_count": 117,
   "metadata": {},
   "outputs": [
    {
     "name": "stdout",
     "output_type": "stream",
     "text": [
      "              precision    recall  f1-score   support\n",
      "\n",
      "           1       0.37      0.39      0.38       384\n",
      "           2       0.64      0.62      0.63      2212\n",
      "           3       0.51      0.51      0.51      1313\n",
      "\n",
      "    accuracy                           0.56      3909\n",
      "   macro avg       0.50      0.51      0.51      3909\n",
      "weighted avg       0.57      0.56      0.56      3909\n",
      "\n"
     ]
    }
   ],
   "source": [
    "report = classification_report(y_test,y_predict)\n",
    "print(report)\n"
   ]
  },
  {
   "cell_type": "code",
   "execution_count": 124,
   "metadata": {},
   "outputs": [
    {
     "data": {
      "text/plain": [
       "RandomizedSearchCV(estimator=DecisionTreeClassifier(),\n",
       "                   param_distributions={'criterion': ['gini', 'entropy'],\n",
       "                                        'max_depth': [100, 1000, 1500, 2000,\n",
       "                                                      3500, 4000],\n",
       "                                        'splitter': ['best', 'random']})"
      ]
     },
     "execution_count": 124,
     "metadata": {},
     "output_type": "execute_result"
    }
   ],
   "source": [
    "param_grid = {'criterion':['gini','entropy'],'splitter':['best','random'],'max_depth':[100,1000,1500,2000,3500,4000]}\n",
    "random_search = RandomizedSearchCV(Decision_Tree,param_distributions = param_grid)\n",
    "random_search.fit(X_train_final,y_train)"
   ]
  },
  {
   "cell_type": "code",
   "execution_count": 125,
   "metadata": {},
   "outputs": [
    {
     "data": {
      "text/plain": [
       "DecisionTreeClassifier(criterion='entropy', max_depth=1500, splitter='random')"
      ]
     },
     "execution_count": 125,
     "metadata": {},
     "output_type": "execute_result"
    }
   ],
   "source": [
    "random_search.best_estimator_"
   ]
  },
  {
   "cell_type": "code",
   "execution_count": 135,
   "metadata": {},
   "outputs": [
    {
     "data": {
      "text/plain": [
       "DecisionTreeClassifier(criterion='entropy', max_depth=1500, splitter='random')"
      ]
     },
     "execution_count": 135,
     "metadata": {},
     "output_type": "execute_result"
    }
   ],
   "source": [
    "Optimized_Decision_Tree = tree.DecisionTreeClassifier(criterion='entropy', max_depth = 1500, splitter = 'random')\n",
    "Optimized_Decision_Tree.fit(X_train_final, y_train)\n"
   ]
  },
  {
   "cell_type": "code",
   "execution_count": 136,
   "metadata": {},
   "outputs": [
    {
     "data": {
      "text/plain": [
       "0.5738040419544641"
      ]
     },
     "execution_count": 136,
     "metadata": {},
     "output_type": "execute_result"
    }
   ],
   "source": [
    "y_predict = Optimized_Decision_Tree.predict(X_test_final)\n",
    "f1_score(y_test, y_predict, average='micro')\n"
   ]
  },
  {
   "cell_type": "code",
   "execution_count": 137,
   "metadata": {},
   "outputs": [
    {
     "name": "stdout",
     "output_type": "stream",
     "text": [
      "0.5738040419544641\n"
     ]
    }
   ],
   "source": [
    "accuracy = accuracy_score(y_test,y_predict)\n",
    "print(accuracy)"
   ]
  },
  {
   "cell_type": "code",
   "execution_count": 123,
   "metadata": {},
   "outputs": [
    {
     "name": "stdout",
     "output_type": "stream",
     "text": [
      "              precision    recall  f1-score   support\n",
      "\n",
      "           1       0.16      0.01      0.02       384\n",
      "           2       0.62      0.91      0.74      2212\n",
      "           3       0.71      0.35      0.47      1313\n",
      "\n",
      "    accuracy                           0.63      3909\n",
      "   macro avg       0.50      0.42      0.41      3909\n",
      "weighted avg       0.60      0.63      0.58      3909\n",
      "\n"
     ]
    }
   ],
   "source": [
    "report = classification_report(y_test,y_predict)\n",
    "print(report)\n"
   ]
  },
  {
   "cell_type": "markdown",
   "metadata": {},
   "source": [
    "After random search, the f1 score has increased by quite a bit. Explaination of hyper-parameters:\n",
    "\n",
    "Criterion explains how the split of the node is done(either gini or entropy score). \n",
    "\n",
    "Max-depth indicates the depth of the tree, tuning this might help in achieving a better f1 score\n"
   ]
  },
  {
   "cell_type": "markdown",
   "metadata": {},
   "source": [
    "Decision tree performed better after hyper-parameter tuning as the f1 score for decision tree is 0.5738 and for SVM is 0.573. It  might show significant difference if we provide more training examples or increase training data"
   ]
  }
 ],
 "metadata": {
  "kernelspec": {
   "display_name": "Python 3",
   "language": "python",
   "name": "python3"
  },
  "language_info": {
   "codemirror_mode": {
    "name": "ipython",
    "version": 3
   },
   "file_extension": ".py",
   "mimetype": "text/x-python",
   "name": "python",
   "nbconvert_exporter": "python",
   "pygments_lexer": "ipython3",
   "version": "3.8.3"
  }
 },
 "nbformat": 4,
 "nbformat_minor": 4
}
